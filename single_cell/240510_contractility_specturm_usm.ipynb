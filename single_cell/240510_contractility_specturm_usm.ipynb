{
 "cells": [
  {
   "cell_type": "code",
   "execution_count": null,
   "id": "3a02f3e6-8db8-4501-bba8-8e8714429c2f",
   "metadata": {},
   "outputs": [],
   "source": [
    "import scanpy as sc\n",
    "\n",
    "# Only needed for processing\n",
    "import numpy as np\n",
    "import pandas as pd\n",
    "import os \n",
    "pd.set_option('display.max_rows', 500)\n",
    "\n",
    "output = '/home/carsten/alvira_bioinformatics/uterus/data/pilot/240510_contractility_specturm_usm'\n",
    "os.makedirs(output, exist_ok=True)\n",
    "sc.set_figure_params(dpi=300, format=\"png\")\n",
    "sc.settings.figdir = output\n"
   ]
  },
  {
   "cell_type": "code",
   "execution_count": null,
   "id": "a8b292ed-173d-4671-ba28-0f967e3ce5e1",
   "metadata": {},
   "outputs": [],
   "source": [
    "adata = sc.read('/home/carsten/alvira_bioinformatics/uterus/data/single_cell_files/scanpy_files/uterus_processed_celltyped.gz.h5ad')\n",
    "adata\n"
   ]
  },
  {
   "cell_type": "code",
   "execution_count": null,
   "id": "f0da24f6",
   "metadata": {},
   "outputs": [],
   "source": [
    "genes = ['ACTA2','DPP6','KCNMA1','OXTR','NOTCH3','ADGRL3','PDE3A',\n",
    "         ]"
   ]
  },
  {
   "cell_type": "code",
   "execution_count": null,
   "id": "09e16c5d",
   "metadata": {},
   "outputs": [],
   "source": [
    "sc.pl.DotPlot(adata, genes, groupby='Cell Subtype').style(cmap='Reds').legend(width=2).savefig(f'{output}/dotplot_all_celltypes.png',dpi=300)\n",
    "sc.pl.DotPlot(adata[adata.obs['Cell Subtype'].isin(['Uterine smooth muscle','Vascular smooth muscle'])], genes, groupby='Cell Subtype').style(cmap='Reds',largest_dot=175).legend(width=2).savefig(f'{output}/dotplot_smoothmuscle_celltypes.png',dpi=300) "
   ]
  },
  {
   "cell_type": "code",
   "execution_count": null,
   "id": "cf83d300",
   "metadata": {},
   "outputs": [],
   "source": [
    "adata.obs['GroupContract'].unique()"
   ]
  },
  {
   "cell_type": "code",
   "execution_count": null,
   "id": "091eb058",
   "metadata": {},
   "outputs": [],
   "source": [
    "rank_dict = {'TL-ND':3,'TNL-GC':2, 'TNL-BC':1,}"
   ]
  },
  {
   "cell_type": "code",
   "execution_count": null,
   "id": "44cf7e32",
   "metadata": {},
   "outputs": [],
   "source": [
    "usm_adata = adata[(adata.obs['Cell Subtype']=='Uterine smooth muscle')&\n",
    "              (adata.obs['GroupContract'].isin(['TL-ND', 'TNL-BC', 'TNL-GC']))\n",
    "              ]\n",
    "usm_adata.obs['Contractility_ranking']= [rank_dict[x] for x in usm_adata.obs['GroupContract']]\n",
    "usm_df = pd.DataFrame(usm_adata.X.todense(), index=usm_adata.obs_names, columns= usm_adata.var_names)\n",
    "# usm_df['Contractility_ranking'] = usm_adata.obs['Contractility_ranking']"
   ]
  },
  {
   "cell_type": "code",
   "execution_count": null,
   "id": "ea62e2d1",
   "metadata": {},
   "outputs": [],
   "source": [
    "usm_df"
   ]
  },
  {
   "cell_type": "code",
   "execution_count": null,
   "id": "6c982a3e",
   "metadata": {},
   "outputs": [],
   "source": [
    "usm_adata.obs['Contractility_ranking']"
   ]
  },
  {
   "cell_type": "code",
   "execution_count": null,
   "id": "10dcf887",
   "metadata": {},
   "outputs": [],
   "source": [
    "corr_df = usm_df.corrwith(usm_adata.obs['Contractility_ranking'],method='spearman')\n",
    "corr_df.dropna()"
   ]
  },
  {
   "cell_type": "code",
   "execution_count": null,
   "id": "5cd9080a",
   "metadata": {},
   "outputs": [],
   "source": [
    "corr_df = corr_df *-1\n",
    "corr_df = corr_df.dropna().sort_values()\n",
    "corr_df.to_csv(f'{output}/usm_contractility_correlation.csv')"
   ]
  },
  {
   "cell_type": "code",
   "execution_count": null,
   "id": "609d8977",
   "metadata": {},
   "outputs": [],
   "source": [
    "for n in [10,20,50,100]:\n",
    "    sc.pl.dotplot(usm_adata, corr_df.head(n).index, groupby=['GroupContract'],categories_order=['TL-ND','TNL-GC', 'TNL-BC'],title='Uterine smooth muscle',save=f'positive_w_contractility_{n}_genes.png')\n",
    "    sc.pl.dotplot(usm_adata, corr_df.sort_values(ascending=False).head(n).index, groupby=['GroupContract'],categories_order=['TL-ND','TNL-GC', 'TNL-BC'],title='Uterine smooth muscle', save=f'negative_w_contractility_{n}_genes.png')"
   ]
  },
  {
   "cell_type": "code",
   "execution_count": null,
   "id": "b1500008",
   "metadata": {},
   "outputs": [],
   "source": [
    "sc.pl.dotplot(usm_adata, ['DPP6','LINGO2','NOTCH3'], groupby=['GroupContract'],categories_order=['TL-ND','TNL-GC', 'TNL-BC'], title='Uterine smooth muscle',save='sanity_check.png')"
   ]
  },
  {
   "cell_type": "code",
   "execution_count": null,
   "id": "97130d93",
   "metadata": {},
   "outputs": [],
   "source": []
  }
 ],
 "metadata": {
  "kernelspec": {
   "display_name": "Python 3 (ipykernel)",
   "language": "python",
   "name": "python3"
  },
  "language_info": {
   "codemirror_mode": {
    "name": "ipython",
    "version": 3
   },
   "file_extension": ".py",
   "mimetype": "text/x-python",
   "name": "python",
   "nbconvert_exporter": "python",
   "pygments_lexer": "ipython3",
   "version": "3.7.11"
  }
 },
 "nbformat": 4,
 "nbformat_minor": 5
}
