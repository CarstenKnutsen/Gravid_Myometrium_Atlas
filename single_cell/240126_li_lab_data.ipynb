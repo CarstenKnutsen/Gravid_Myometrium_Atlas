{
 "cells": [
  {
   "cell_type": "code",
   "execution_count": null,
   "id": "77e8a888",
   "metadata": {},
   "outputs": [],
   "source": [
    "'''\n",
    "Goal:Initial look at Li lab data\n",
    "\n",
    "Author:Carsten Knutsen\n",
    "Date:240126\n",
    "conda_env:uterus_sc\n",
    "Notes: Take a look at data provided by Li lab at UCSF\n",
    "'''"
   ]
  },
  {
   "cell_type": "code",
   "execution_count": null,
   "id": "e6980b11",
   "metadata": {},
   "outputs": [],
   "source": [
    "import scanpy as sc\n",
    "\n",
    "# Only needed for processing\n",
    "import numpy as np\n",
    "import pandas as pd\n",
    "import os \n",
    "import scanpy.external as sce\n",
    "pd.set_option('display.max_rows', 500)\n",
    "import liana as li\n",
    "\n",
    "output = '/home/carsten/alvira_bioinformatics/uterus/data/pilot/240126_li_lab_data'\n",
    "os.makedirs(output, exist_ok=True)\n",
    "sc.set_figure_params(dpi=300, format=\"png\")\n",
    "sc.settings.figdir = output\n"
   ]
  },
  {
   "cell_type": "code",
   "execution_count": null,
   "id": "207c38c4",
   "metadata": {},
   "outputs": [],
   "source": [
    "adata = sc.read('/home/carsten/alvira_bioinformatics/uterus/data/single_cell_files/li_lab_data/processed object/39_GEX.h5ad')\n",
    "adata.raw = adata\n",
    "#adata.uns['log1p'] ={'base': 2} ## Scaled data? Negative numbers included"
   ]
  },
  {
   "cell_type": "code",
   "execution_count": null,
   "id": "626a7048",
   "metadata": {},
   "outputs": [],
   "source": [
    "adata.X.max()"
   ]
  },
  {
   "cell_type": "code",
   "execution_count": null,
   "id": "fae7d2d4",
   "metadata": {},
   "outputs": [],
   "source": [
    "adata.X.min()"
   ]
  },
  {
   "cell_type": "code",
   "execution_count": null,
   "id": "1238f5bb",
   "metadata": {},
   "outputs": [],
   "source": [
    "adata"
   ]
  },
  {
   "cell_type": "code",
   "execution_count": null,
   "id": "092b3ab9",
   "metadata": {},
   "outputs": [],
   "source": [
    "sc.pl.umap(adata, color='louvain')"
   ]
  },
  {
   "cell_type": "code",
   "execution_count": null,
   "id": "c3660ff9",
   "metadata": {},
   "outputs": [],
   "source": [
    "sc.pl.umap(adata, color =['CDH5','PTPRC','COL1A1','PAEP'])"
   ]
  },
  {
   "cell_type": "code",
   "execution_count": null,
   "id": "50021942",
   "metadata": {},
   "outputs": [],
   "source": [
    "sc.pl.umap(adata, color =['ACTA2','NOTCH3','DPP6','MYH11'])"
   ]
  },
  {
   "cell_type": "code",
   "execution_count": null,
   "id": "95e0bbdb",
   "metadata": {},
   "outputs": [],
   "source": [
    "sc.pl.umap(adata, color =['PROX1','GJA5','NOSTRIN',])"
   ]
  },
  {
   "cell_type": "code",
   "execution_count": null,
   "id": "363cd7fa",
   "metadata": {},
   "outputs": [],
   "source": [
    "sc.pl.umap(adata, color =['COL8A1','EBF1','GJA5',])"
   ]
  },
  {
   "cell_type": "code",
   "execution_count": null,
   "id": "061d2f72",
   "metadata": {},
   "outputs": [],
   "source": [
    "sc.pl.umap(adata, color =['RORB','CCDC80','PDGFRA'])"
   ]
  },
  {
   "cell_type": "code",
   "execution_count": null,
   "id": "2d5cfeea",
   "metadata": {},
   "outputs": [],
   "source": [
    "sc.pl.umap(adata, color =['RGS6','ANGPT4'])"
   ]
  },
  {
   "cell_type": "code",
   "execution_count": null,
   "id": "37a0876d",
   "metadata": {},
   "outputs": [],
   "source": [
    "sc.pl.umap(adata[adata.obs['louvain'].isin(['3','8'])], color =['ACTA2','NOTCH3','DPP6','MYH11'])"
   ]
  },
  {
   "cell_type": "code",
   "execution_count": null,
   "id": "ffa68077",
   "metadata": {},
   "outputs": [],
   "source": [
    "adata.obs['louvain'].value_counts()"
   ]
  },
  {
   "cell_type": "code",
   "execution_count": null,
   "id": "4cdda3a1",
   "metadata": {},
   "outputs": [],
   "source": [
    "smc_adata = adata[adata.obs['louvain'].isin(['3','8'])].copy()\n",
    "\n",
    "sc.tl.umap(smc_adata)\n",
    "sc.pl.umap(smc_adata, color =['ACTA2','NOTCH3','DPP6','MYH11'])"
   ]
  },
  {
   "cell_type": "code",
   "execution_count": null,
   "id": "431e5d96",
   "metadata": {},
   "outputs": [],
   "source": [
    "adata.uns['log1p']"
   ]
  }
 ],
 "metadata": {
  "kernelspec": {
   "display_name": "Python 3 (ipykernel)",
   "language": "python",
   "name": "python3"
  },
  "language_info": {
   "codemirror_mode": {
    "name": "ipython",
    "version": 3
   },
   "file_extension": ".py",
   "mimetype": "text/x-python",
   "name": "python",
   "nbconvert_exporter": "python",
   "pygments_lexer": "ipython3",
   "version": "3.7.11"
  }
 },
 "nbformat": 4,
 "nbformat_minor": 5
}
