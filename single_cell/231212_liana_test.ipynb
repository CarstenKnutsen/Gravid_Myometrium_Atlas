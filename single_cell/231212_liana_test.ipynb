{
 "cells": [
  {
   "cell_type": "code",
   "execution_count": null,
   "id": "45e61059-fcfd-4902-94fe-ae7eec50246d",
   "metadata": {},
   "outputs": [],
   "source": [
    "'''\n",
    "Goal:Compare this dataset to \n",
    "A single-cell atlas of the myometrium in human parturition\n",
    "\n",
    "Author:Carsten Knutsen\n",
    "Date:231114\n",
    "conda_env:uterus_sc\n",
    "Notes: compare bulk DEGs in single cell\n",
    "'''"
   ]
  },
  {
   "cell_type": "code",
   "execution_count": null,
   "id": "3a02f3e6-8db8-4501-bba8-8e8714429c2f",
   "metadata": {},
   "outputs": [],
   "source": [
    "import scanpy as sc\n",
    "\n",
    "# Only needed for processing\n",
    "import numpy as np\n",
    "import pandas as pd\n",
    "import os \n",
    "pd.set_option('display.max_rows', 500)\n",
    "import liana as li\n",
    "\n",
    "output = '/home/carsten/alvira_bioinformatics/uterus/data/pilot/231212_liana_test'\n",
    "os.makedirs(output, exist_ok=True)\n",
    "sc.settings.figdir = output"
   ]
  },
  {
   "cell_type": "code",
   "execution_count": null,
   "id": "a8b292ed-173d-4671-ba28-0f967e3ce5e1",
   "metadata": {},
   "outputs": [],
   "source": [
    "adata = sc.read('/home/carsten/alvira_bioinformatics/uterus/data/single_cell_files/scanpy_files/uterus_processed_celltyped.gz.h5ad')\n",
    "adata.raw = adata\n"
   ]
  },
  {
   "cell_type": "code",
   "execution_count": null,
   "id": "546bfe89",
   "metadata": {},
   "outputs": [],
   "source": [
    "li.mt.show_methods()\n"
   ]
  },
  {
   "cell_type": "code",
   "execution_count": null,
   "id": "2babb4c1",
   "metadata": {},
   "outputs": [],
   "source": [
    "from liana.mt import rank_aggregate"
   ]
  },
  {
   "cell_type": "code",
   "execution_count": null,
   "id": "2eaf6ef3",
   "metadata": {},
   "outputs": [],
   "source": [
    "?rank_aggregate.__call__\n"
   ]
  },
  {
   "cell_type": "code",
   "execution_count": null,
   "id": "4e1b3cc6",
   "metadata": {},
   "outputs": [],
   "source": [
    "rank_aggregate.describe()\n"
   ]
  },
  {
   "cell_type": "code",
   "execution_count": null,
   "id": "7d9dc9fb",
   "metadata": {},
   "outputs": [],
   "source": [
    "li.resource.show_resources()\n"
   ]
  },
  {
   "cell_type": "code",
   "execution_count": null,
   "id": "29289b6f",
   "metadata": {},
   "outputs": [],
   "source": [
    "from liana.method import singlecellsignalr, connectome, cellphonedb, natmi, logfc, cellchat, geometric_mean\n"
   ]
  },
  {
   "cell_type": "code",
   "execution_count": null,
   "id": "d9a9e055",
   "metadata": {},
   "outputs": [],
   "source": [
    "cellphonedb(adata, groupby='Cell Subtype', expr_prop=0.1, resource_name='consensus', verbose=True, key_added='cpdb_res')\n"
   ]
  },
  {
   "cell_type": "code",
   "execution_count": null,
   "id": "ac2b5b12",
   "metadata": {},
   "outputs": [],
   "source": [
    "df = adata.uns['cpdb_res'].copy()\n"
   ]
  },
  {
   "cell_type": "code",
   "execution_count": null,
   "id": "f6976c02",
   "metadata": {},
   "outputs": [],
   "source": [
    "df.loc[(df['target']=='Uterine smooth muscle')&(df['source']=='Uterine smooth muscle')]"
   ]
  },
  {
   "cell_type": "code",
   "execution_count": null,
   "id": "680ec804",
   "metadata": {},
   "outputs": [],
   "source": [
    "markers = pd.read_csv('/home/carsten/alvira_bioinformatics/uterus/data/pilot/240925_atlas_figure_pilot/usm_vsm_custom_pathway_genes.csv')\n",
    "usm = markers['USM'].dropna().unique().tolist()\n",
    "vsm = markers['VSM'].dropna().unique().tolist()"
   ]
  },
  {
   "cell_type": "code",
   "execution_count": null,
   "id": "76306776",
   "metadata": {},
   "outputs": [],
   "source": [
    "usm_comm = df.loc[(df['target']=='Uterine smooth muscle')|(df['source']=='Uterine smooth muscle')]\n",
    "usm_comm = usm_comm.loc[(usm_comm['ligand'].isin(usm))|(usm_comm['receptor'].isin(usm))]\n",
    "usm_comm\n",
    "\n",
    "sc.pl.dotplot(adata,\n",
    "              [x for x in usm if x in vsm_comm['ligand'].unique().tolist()+ vsm_comm['receptor'].unique().tolist()],\n",
    "              groupby='Cell Subtype')"
   ]
  },
  {
   "cell_type": "code",
   "execution_count": null,
   "id": "8896ec27",
   "metadata": {},
   "outputs": [],
   "source": [
    "vsm_comm = df.loc[(df['target']=='Vascular smooth muscle')|(df['source']=='Vascular smooth muscle')]\n",
    "vsm_comm = vsm_comm.loc[(vsm_comm['ligand'].isin(vsm))|(vsm_comm['receptor'].isin(vsm))]\n",
    "vsm_comm = vsm_comm.sort_values(['source','target'])\n",
    "sc.pl.dotplot(adata,\n",
    "              [x for x in vsm if x in vsm_comm['ligand'].unique().tolist()+ vsm_comm['receptor'].unique().tolist()],\n",
    "              groupby='Cell Subtype')"
   ]
  },
  {
   "cell_type": "code",
   "execution_count": null,
   "id": "89b92671",
   "metadata": {},
   "outputs": [],
   "source": [
    "vsm_comm.sort_values('cellphone_pvals')"
   ]
  },
  {
   "cell_type": "code",
   "execution_count": null,
   "id": "c74bf3a4",
   "metadata": {},
   "outputs": [],
   "source": [
    "li.pl.dotplot(adata = adata,\n",
    "              colour='lr_means',\n",
    "              size='cellphone_pvals',\n",
    "              inverse_size=True, # we inverse sign since we want small p-values to have large sizes\n",
    "              source_labels=['Macrovascular', 'Capillary'],\n",
    "              target_labels=['Uterine smooth muscle','Vascular smooth muscle'],\n",
    "              figure_size=(8, 7),\n",
    "              # finally, since cpdbv2 suggests using a filter to FPs\n",
    "              # we filter the pvals column to <= 0.05\n",
    "              filterby='receptor',\n",
    "              filter_lambda=lambda x: x.startswith('NOTCH'),\n",
    "              uns_key='cpdb_res' # uns_key to use, default is 'liana_res'\n",
    "             )"
   ]
  },
  {
   "cell_type": "code",
   "execution_count": null,
   "id": "e76b9b73",
   "metadata": {},
   "outputs": [],
   "source": [
    "li.pl.dotplot(adata = adata,\n",
    "              colour='lr_means',\n",
    "              size='cellphone_pvals',\n",
    "              inverse_size=True, # we inverse sign since we want small p-values to have large sizes\n",
    "              source_labels=adata.obs['Cell Subtype'].cat.categories,\n",
    "              target_labels=['Uterine smooth muscle'],\n",
    "              figure_size=(8, 7),\n",
    "              # finally, since cpdbv2 suggests using a filter to FPs\n",
    "              # we filter the pvals column to <= 0.05\n",
    "              filterby='receptor',\n",
    "              filter_lambda=lambda x: x.startswith('CAL'),\n",
    "              uns_key='cpdb_res' # uns_key to use, default is 'liana_res'\n",
    "             )"
   ]
  },
  {
   "cell_type": "code",
   "execution_count": null,
   "id": "e7694813",
   "metadata": {},
   "outputs": [],
   "source": [
    "adata"
   ]
  },
  {
   "cell_type": "code",
   "execution_count": null,
   "id": "3aee3310",
   "metadata": {},
   "outputs": [],
   "source": [
    "df1 = cellchat(adata, groupby='Cell Subtype', expr_prop=0.1, resource_name='cellchatdb', verbose=True, key_added='cpdb_res')\n"
   ]
  },
  {
   "cell_type": "code",
   "execution_count": null,
   "id": "ceaa71ff",
   "metadata": {},
   "outputs": [],
   "source": [
    "adata.uns['cpdb_res']"
   ]
  },
  {
   "cell_type": "code",
   "execution_count": null,
   "id": "0499f7e8",
   "metadata": {},
   "outputs": [],
   "source": [
    "adata"
   ]
  },
  {
   "cell_type": "code",
   "execution_count": null,
   "id": "a6f25ed9",
   "metadata": {},
   "outputs": [],
   "source": [
    "sc.pl.umap(adata,color='COL18A1')"
   ]
  },
  {
   "cell_type": "code",
   "execution_count": null,
   "id": "9e1343ff",
   "metadata": {},
   "outputs": [],
   "source": []
  },
  {
   "cell_type": "code",
   "execution_count": null,
   "id": "24863068",
   "metadata": {},
   "outputs": [],
   "source": [
    "df = adata.uns['cpdb_res'].copy()\n",
    "df.loc[((df['source']=='Vascular smooth muscle')&\n",
    "      (df['target']=='Macrovascular')&\n",
    "       (df['cellchat_pvals']<0.05))].sort_values('lr_probs')"
   ]
  },
  {
   "cell_type": "code",
   "execution_count": null,
   "id": "87452630",
   "metadata": {},
   "outputs": [],
   "source": []
  },
  {
   "cell_type": "code",
   "execution_count": null,
   "id": "96058b40",
   "metadata": {},
   "outputs": [],
   "source": [
    "li.pl.dotplot(adata = adata,\n",
    "              colour='lr_means',\n",
    "              size='cellphone_pvals',\n",
    "              inverse_size=True, # we inverse sign since we want small p-values to have large sizes\n",
    "              source_labels=['Vascular smooth muscle'],\n",
    "              target_labels=adata.obs['Cell Subtype'].cat.categories,\n",
    "              figure_size=(8, 7),\n",
    "              # finally, since cpdbv2 suggests using a filter to FPs\n",
    "              # we filter the pvals column to <= 0.05\n",
    "              filterby='lr_means',\n",
    "              filter_lambda=lambda x: x>2,\n",
    "              uns_key='cpdb_res' # uns_key to use, default is 'liana_res'\n",
    "             )"
   ]
  }
 ],
 "metadata": {
  "kernelspec": {
   "display_name": "Python 3 (ipykernel)",
   "language": "python",
   "name": "python3"
  },
  "language_info": {
   "codemirror_mode": {
    "name": "ipython",
    "version": 3
   },
   "file_extension": ".py",
   "mimetype": "text/x-python",
   "name": "python",
   "nbconvert_exporter": "python",
   "pygments_lexer": "ipython3",
   "version": "3.7.11"
  }
 },
 "nbformat": 4,
 "nbformat_minor": 5
}
