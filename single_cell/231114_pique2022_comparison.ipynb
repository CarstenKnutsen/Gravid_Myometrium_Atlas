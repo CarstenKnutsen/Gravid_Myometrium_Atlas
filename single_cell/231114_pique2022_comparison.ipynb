{
 "cells": [
  {
   "cell_type": "code",
   "execution_count": null,
   "id": "45e61059-fcfd-4902-94fe-ae7eec50246d",
   "metadata": {},
   "outputs": [],
   "source": [
    "'''\n",
    "Goal:Compare this dataset to \n",
    "A single-cell atlas of the myometrium in human parturition\n",
    "\n",
    "Author:Carsten Knutsen\n",
    "Date:231114\n",
    "conda_env:uterus_sc\n",
    "Notes: compare bulk DEGs in single cell\n",
    "'''"
   ]
  },
  {
   "cell_type": "code",
   "execution_count": null,
   "id": "3a02f3e6-8db8-4501-bba8-8e8714429c2f",
   "metadata": {},
   "outputs": [],
   "source": [
    "import scanpy as sc\n",
    "\n",
    "# Only needed for processing\n",
    "import numpy as np\n",
    "import pandas as pd\n",
    "import os \n",
    "pd.set_option('display.max_rows', 500)\n",
    "\n",
    "output = '/home/carsten/alvira_bioinformatics/uterus/data/pilot/231114_pique2022_comparison'\n",
    "os.makedirs(output, exist_ok=True)\n",
    "sc.settings.figdir = output"
   ]
  },
  {
   "cell_type": "code",
   "execution_count": null,
   "id": "a8b292ed-173d-4671-ba28-0f967e3ce5e1",
   "metadata": {},
   "outputs": [],
   "source": [
    "adata = sc.read('/home/carsten/alvira_bioinformatics/uterus/data/single_cell_files/scanpy_files/uterus_processed_celltyped.gz.h5ad')"
   ]
  },
  {
   "cell_type": "markdown",
   "id": "4ac02723",
   "metadata": {},
   "source": [
    "### Figure 1"
   ]
  },
  {
   "cell_type": "code",
   "execution_count": null,
   "id": "d56bd08c",
   "metadata": {},
   "outputs": [],
   "source": [
    "fig1_genes = {'SMC':['LMOD1','MYH11','MYLK','PDE5A'],\n",
    "             'Stromal':['CYP4B1','SMOC2','HSD11B1','SFRP2'],\n",
    "             'Endo':['CCL14','MALL','RBP5','SELP'],\n",
    "             'LED':['ADGRG3','FLT4','RELN','TBX1'],\n",
    "             'Macro':['GPR34','SIGLEC1','FCGBP','MMP9'],\n",
    "             'Lymphoid':['CD27','CD8A','IFNG','SAMD3']}\n",
    "# sc.pl.umap(adata,color = genes)\n",
    "sc.pl.DotPlot(adata,fig1_genes,standard_scale='var',groupby='Cell Subtype').style(cmap='Reds').legend(width=2).add_totals().show()\n",
    "sc.pl.umap(adata,color='Cell Subtype')\n",
    "sc.pl.umap(adata,color='GroupContract')\n",
    "sc.pl.umap(adata,color='Patient')\n",
    "\n",
    "for key in fig1_genes:\n",
    "    gene_ls = fig1_genes[key]\n",
    "    sc.pl.umap(adata,color=gene_ls, cmap='viridis')"
   ]
  },
  {
   "cell_type": "code",
   "execution_count": null,
   "id": "149cd43b",
   "metadata": {},
   "outputs": [],
   "source": [
    "sc.tl.rank_genes_groups(adata,groupby='Cell Subtype', method='wilcoxon')\n",
    "sc.pl.rank_genes_groups_dotplot(adata, n_genes=3, save='wilcoxon_markers.png')"
   ]
  },
  {
   "cell_type": "code",
   "execution_count": null,
   "id": "5499e75b",
   "metadata": {},
   "outputs": [],
   "source": []
  },
  {
   "cell_type": "code",
   "execution_count": null,
   "id": "a0c75979",
   "metadata": {},
   "outputs": [],
   "source": [
    "adata.obs['Cell Subtype'].cat.categories"
   ]
  },
  {
   "cell_type": "code",
   "execution_count": null,
   "id": "b3a8da71",
   "metadata": {},
   "outputs": [],
   "source": [
    "adata.obs['lineage_adjusted'] = [None if y == 'Endometrial cell' else x.capitalize() for x,y in zip(adata.obs['Lineage'].values, adata.obs['Cell Subtype'].values) ]\n",
    "adata.obs['lineage_adjusted2'] = ['Endometrial' if y == 'Endometrial cell' else x.capitalize() for x,y in zip(adata.obs['Lineage'].values, adata.obs['Cell Subtype'].values) ]\n",
    "adata.uns['lineage_adjusted_colors'] = ['#d62728', '#2ca02c', '#1f77b4']\n",
    "adata.uns['lineage_adjusted2_colors'] = ['#ff7f0e', '#d62728', '#2ca02c', '#1f77b4']\n",
    "sc.pl.umap(adata,color=['lineage_adjusted'],na_in_legend=False,title='Lineage', save='lineage_adjusted.png')\n",
    "sc.pl.umap(adata,color=['lineage_adjusted2'],groups =['Endometrial'],na_in_legend=False,title='Endometrial tissue', save='lineage_adjusted2.png')\n"
   ]
  },
  {
   "cell_type": "code",
   "execution_count": null,
   "id": "d964aab0",
   "metadata": {},
   "outputs": [],
   "source": [
    "# sc.tl.rank_genes_groups(adata,groupby='lineage_adjusted2',key_added='lineage_markers', method='wilcoxon')\n",
    "# sc.pl.rank_genes_groups_dotplot(adata, n_genes=3, key='lineage_markers', save='lineage_wilcoxon_markers.png')"
   ]
  },
  {
   "cell_type": "code",
   "execution_count": null,
   "id": "3ad9e8bd",
   "metadata": {},
   "outputs": [],
   "source": [
    "adata.obs['Cell Subtype']"
   ]
  },
  {
   "cell_type": "code",
   "execution_count": null,
   "id": "5cd9080a",
   "metadata": {},
   "outputs": [],
   "source": [
    "sc.pl.embedding(adata[adata.obs['Lineage']=='Mesenchymal'],\n",
    "               basis = 'X_umap_Mesenchymal',\n",
    "               color=['Cell Subtype'])\n",
    "sc.pl.embedding(adata[adata.obs['Lineage']=='Mesenchymal'],\n",
    "               basis = 'X_umap_Mesenchymal',\n",
    "               color=['OXTR','ELANE','IFNG'])"
   ]
  },
  {
   "cell_type": "code",
   "execution_count": null,
   "id": "974fb5fe",
   "metadata": {},
   "outputs": [],
   "source": [
    "### SMC subtype markers\n",
    "sc.pl.dotplot(adata[adata.obs['Lineage']=='Mesenchymal'],\n",
    "              ['OXTR','ELANE','IFNG'],\n",
    "             groupby='Cell Subtype',)\n",
    "\n",
    "sc.pl.dotplot(adata[adata.obs['Lineage']=='Mesenchymal'],\n",
    "              {'SMC-1':['PGM5-AS1'],\n",
    "              'SMC-2':['CSH1','TAC3'],\n",
    "              'SMC-3':['LYSMD2','KLF13','DOCK10','CMTM7']},\n",
    "             groupby='Cell Subtype',)"
   ]
  },
  {
   "cell_type": "code",
   "execution_count": null,
   "id": "91653e70",
   "metadata": {},
   "outputs": [],
   "source": [
    "### Their top myofibroblast markers\n",
    "sc.pl.dotplot(adata[adata.obs['Lineage']=='Mesenchymal'],\n",
    "              ['ACTG2','DES','PCP4'],\n",
    "             groupby='Cell Subtype',)"
   ]
  },
  {
   "cell_type": "code",
   "execution_count": null,
   "id": "028b782a",
   "metadata": {},
   "outputs": [],
   "source": [
    "adata.obs['Cell Subtype'].value_counts(normalize=True)*100"
   ]
  },
  {
   "cell_type": "code",
   "execution_count": null,
   "id": "8bf1260f",
   "metadata": {},
   "outputs": [],
   "source": [
    "sc.pl.dotplot(adata[adata.obs['Lineage']=='Mesenchymal'],\n",
    "              ['MYH11','ACTA2','TUBB'],\n",
    "             groupby='Cell Subtype',)"
   ]
  },
  {
   "cell_type": "code",
   "execution_count": null,
   "id": "42379635",
   "metadata": {},
   "outputs": [],
   "source": [
    "sc.pl.embedding(adata[adata.obs['Lineage']=='Mesenchymal'],\n",
    "               basis = 'X_umap_Mesenchymal',\n",
    "               color=['MYH11','ACTA2','TUBB'])"
   ]
  },
  {
   "cell_type": "markdown",
   "id": "f9d13e05",
   "metadata": {},
   "source": [
    "### Tabula Sapiens uterus"
   ]
  },
  {
   "cell_type": "code",
   "execution_count": null,
   "id": "39d06f5b",
   "metadata": {},
   "outputs": [],
   "source": [
    "ts_adata = sc.read('/home/carsten/alvira_bioinformatics/uterus/data/single_cell_files/external_datasets/TS_Uterus.h5ad')"
   ]
  },
  {
   "cell_type": "code",
   "execution_count": null,
   "id": "76788119",
   "metadata": {},
   "outputs": [],
   "source": [
    "ts_adata.x = ts_adata.layers['decontXcounts'].copy()\n",
    "sc.pp.normalize_total(ts_adata, target_sum=1e4)\n",
    "sc.pp.log1p(ts_adata,base=10)"
   ]
  },
  {
   "cell_type": "code",
   "execution_count": null,
   "id": "673ca9ab",
   "metadata": {},
   "outputs": [],
   "source": [
    "sc.pl.umap(ts_adata,color='free_annotation')"
   ]
  },
  {
   "cell_type": "code",
   "execution_count": null,
   "id": "07e4a5dc",
   "metadata": {},
   "outputs": [],
   "source": [
    "sc.pl.umap(ts_adata[ts_adata.obs['anatomical_information']=='Myometrium'],color='PAEP',use_raw=False)"
   ]
  },
  {
   "cell_type": "code",
   "execution_count": null,
   "id": "0cb5678a",
   "metadata": {},
   "outputs": [],
   "source": [
    "sc.pl.umap(ts_adata,color=['PAEP','RMST','ZPLD1'],use_raw=False)"
   ]
  },
  {
   "cell_type": "code",
   "execution_count": null,
   "id": "6e5aba3e",
   "metadata": {},
   "outputs": [],
   "source": [
    "sc.pl.umap(ts_adata,color=['PAEP','KRT8','CDH1','PTPRR'],use_raw=False)"
   ]
  },
  {
   "cell_type": "code",
   "execution_count": null,
   "id": "9a22b082",
   "metadata": {},
   "outputs": [],
   "source": [
    "ts_adata.obs['anatomical_information'].value_counts()"
   ]
  },
  {
   "cell_type": "code",
   "execution_count": null,
   "id": "d6373745",
   "metadata": {},
   "outputs": [],
   "source": [
    "ts_adata.obs['donor'].value_counts()"
   ]
  },
  {
   "cell_type": "code",
   "execution_count": null,
   "id": "0caee2c1",
   "metadata": {},
   "outputs": [],
   "source": [
    "endo_ts = ts_adata[ts_adata.obs['anatomical_information']=='Endometrium']"
   ]
  },
  {
   "cell_type": "code",
   "execution_count": null,
   "id": "9575631e",
   "metadata": {},
   "outputs": [],
   "source": []
  }
 ],
 "metadata": {
  "kernelspec": {
   "display_name": "Python 3 (ipykernel)",
   "language": "python",
   "name": "python3"
  },
  "language_info": {
   "codemirror_mode": {
    "name": "ipython",
    "version": 3
   },
   "file_extension": ".py",
   "mimetype": "text/x-python",
   "name": "python",
   "nbconvert_exporter": "python",
   "pygments_lexer": "ipython3",
   "version": "3.7.11"
  }
 },
 "nbformat": 4,
 "nbformat_minor": 5
}
