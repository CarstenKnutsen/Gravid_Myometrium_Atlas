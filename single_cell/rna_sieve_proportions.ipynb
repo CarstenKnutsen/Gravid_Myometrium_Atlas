{
 "cells": [
  {
   "cell_type": "markdown",
   "id": "4735ae8e",
   "metadata": {},
   "source": [
    "# Goal:\n",
    "## Deconvolute bulk samples with single cell data\n",
    "# Date:\n",
    "## May 9th 2024\n",
    "# Author:\n",
    "## Carsten Knutsen\n"
   ]
  },
  {
   "cell_type": "code",
   "execution_count": null,
   "id": "fb8fc185",
   "metadata": {},
   "outputs": [],
   "source": [
    "import os \n",
    "import pandas as pd\n",
    "import numpy as np\n",
    "import scanpy as sc\n",
    "import seaborn as sns \n",
    "from rnasieve.preprocessing import model_from_raw_counts\n",
    "from anndata import AnnData\n",
    "import scipy\n",
    "import random\n",
    "from statannotations.Annotator import Annotator\n",
    "import matplotlib.pyplot as plt\n",
    "plt.rcParams.update({'font.size': 10})\n",
    "output = '/home/carsten/alvira_bioinformatics/uterus/data/figures/bulk_deconvolution/'\n",
    "os.makedirs(output, exist_ok = True)\n"
   ]
  },
  {
   "cell_type": "markdown",
   "id": "ce641e51",
   "metadata": {},
   "source": [
    "## Function to go from anndata objects of bulk and single cell to a dataframe and model of deconvolution"
   ]
  },
  {
   "cell_type": "code",
   "execution_count": null,
   "id": "624f603f",
   "metadata": {},
   "outputs": [],
   "source": [
    "def sc_ct_proportion_from_bulk(sc_adata, bulk_adata, obs):\n",
    "    cell_type_array_dict = {}\n",
    "    for ct in sc_adata.obs[obs].unique():\n",
    "        ct_adata = sc_adata[sc_adata.obs[obs] == ct, :]\n",
    "        cell_type_array_dict[ct] = ct_adata.X.toarray().T\n",
    "    bulk_array = bulk_adata.X.T\n",
    "    model, psis = model_from_raw_counts(cell_type_array_dict, bulk_array,normalization=False)\n",
    "    df = model.predict(psis)\n",
    "    df.index = bulk_adata.obs_names    \n",
    "    return df, model"
   ]
  },
  {
   "cell_type": "markdown",
   "id": "f8dd6de3",
   "metadata": {},
   "source": [
    "# Load in bulk RNAseq data"
   ]
  },
  {
   "cell_type": "code",
   "execution_count": null,
   "id": "feed8167",
   "metadata": {},
   "outputs": [],
   "source": [
    "data1=pd.read_csv('/home/carsten/alvira_bioinformatics/uterus/data/bulk/Result_X202SC24043118-Z01-F001_Homo_sapiens/3.Quant/1.Count/gene_count.csv',\n",
    "                  delimiter='\\t'\n",
    "\n",
    "                   )\n",
    "gene_dict = pd.Series(index=data1['gene_id'].values, data=data1['gene_name'].values).to_dict()\n",
    "data1.index = data1['gene_id']\n",
    "data1 = data1.iloc[:,1:9]\n",
    "gene_dict"
   ]
  },
  {
   "cell_type": "code",
   "execution_count": null,
   "id": "d5e5956b",
   "metadata": {},
   "outputs": [],
   "source": [
    "data2=pd.read_csv('/home/carsten/alvira_bioinformatics/uterus/data/bulk/Result_X202SC22123874-Z01-F001/3.Quant/1.Count/gene_count.csv',\n",
    "                  delimiter='\\t'\n",
    "\n",
    "                   )\n",
    "data2.index = data2['gene_id']\n",
    "data2 = data2.iloc[:,1:13]\n",
    "data2"
   ]
  },
  {
   "cell_type": "code",
   "execution_count": null,
   "id": "c90a617d",
   "metadata": {},
   "outputs": [],
   "source": [
    "bulk_data = pd.concat([data1, data2], axis=1)\n",
    "bulk_data"
   ]
  },
  {
   "cell_type": "code",
   "execution_count": null,
   "id": "deb3e23a",
   "metadata": {},
   "outputs": [],
   "source": [
    "sample_group = {'pt11':'TL-BC',\n",
    "               'pt13':'TL-BC',\n",
    "                'pt21':'TL-BC',\n",
    "                'pt25':'TL-BC', \n",
    "                'pt38':'TL-BC',\n",
    "                'pt22':'TL-GC',\n",
    "                'pt24':'TL-GC',\n",
    "                'pt36':'TL-GC',\n",
    "                'pt37':'TL-GC',\n",
    "                'pt41':'TL-GC',\n",
    "                'pt33':'TL-GC',\n",
    "                'pt4':'TL-GC',\n",
    "                'PTL99':'PTL',\n",
    "                'PTL108':'PTL',\n",
    "                'PTL109':'PTL',\n",
    "                'PTL133':'PTL',\n",
    "                'PTNL48':'PTNL',\n",
    "                'PTNL101':'PTNL',\n",
    "                'PTNL111':'PTNL',\n",
    "                'PTNL119':'PTNL',\n",
    "\n",
    "                \n",
    "               }"
   ]
  },
  {
   "cell_type": "code",
   "execution_count": null,
   "id": "84eee327",
   "metadata": {},
   "outputs": [],
   "source": [
    "bulk_adata = AnnData(bulk_data.T)\n",
    "sc.pp.normalize_total(bulk_adata, target_sum=1e6)\n",
    "sc.pp.log1p(bulk_adata,base=10)\n",
    "bulk_adata.var_names = [gene_dict[x] for x in bulk_adata.var_names]\n",
    "bulk_adata.var_names_make_unique()\n",
    "bulk_adata.obs['Treatment'] = [sample_group[x] for x in bulk_adata.obs_names]"
   ]
  },
  {
   "cell_type": "markdown",
   "id": "4ea5fda3",
   "metadata": {},
   "source": [
    "## Load in single cell RNAseq\n",
    "## Normalize and log matrix\n",
    "## Adjust Metadata"
   ]
  },
  {
   "cell_type": "code",
   "execution_count": null,
   "id": "9f170b1d",
   "metadata": {},
   "outputs": [],
   "source": [
    "sc_adata = sc.read('/home/carsten/alvira_bioinformatics/uterus/data/single_cell_files/scanpy_files/uterus_processed_celltyped.gz.h5ad')\n",
    "sc_adata.X = sc_adata.layers['log10'].copy()\n",
    "sc_adata.uns['log1p']['base']=10"
   ]
  },
  {
   "cell_type": "code",
   "execution_count": null,
   "id": "92482b51",
   "metadata": {},
   "outputs": [],
   "source": [
    "merscope_genes = pd.read_csv('/home/carsten/alvira_bioinformatics/uterus/data/pilot/240325_merscope_planning/fpkm_ls_final.csv',header=None, index_col=0)\n",
    "merscope_genes = merscope_genes.index.tolist()\n",
    "overlap_hv = [x for x in sc_adata.var.loc[sc_adata.var['highly_variable']==True].index if x in bulk_adata.var_names]\n",
    "overlap = [x for x in sc_adata.var_names if x in bulk_adata.var_names]\n",
    "overlap_merscope= [x for x in merscope_genes if x in sc_adata.var_names]"
   ]
  },
  {
   "cell_type": "code",
   "execution_count": null,
   "id": "6bf86589",
   "metadata": {},
   "outputs": [],
   "source": [
    "df, model = sc_ct_proportion_from_bulk(sc_adata[:,overlap_hv], bulk_adata[:,overlap_hv], 'Cell Subtype')\n",
    "perc_df_ct = df *100\n",
    "perc_df_ct"
   ]
  },
  {
   "cell_type": "code",
   "execution_count": null,
   "id": "ca282008",
   "metadata": {},
   "outputs": [],
   "source": [
    "df, model = sc_ct_proportion_from_bulk(sc_adata[:,overlap_hv], bulk_adata[:,overlap_hv], 'Lineage')\n",
    "perc_df_lin = df *100\n",
    "perc_df_lin"
   ]
  },
  {
   "cell_type": "code",
   "execution_count": null,
   "id": "82622a04",
   "metadata": {},
   "outputs": [],
   "source": []
  }
 ],
 "metadata": {
  "kernelspec": {
   "display_name": "Python 3 (ipykernel)",
   "language": "python",
   "name": "python3"
  },
  "language_info": {
   "codemirror_mode": {
    "name": "ipython",
    "version": 3
   },
   "file_extension": ".py",
   "mimetype": "text/x-python",
   "name": "python",
   "nbconvert_exporter": "python",
   "pygments_lexer": "ipython3",
   "version": "3.7.11"
  }
 },
 "nbformat": 4,
 "nbformat_minor": 5
}
