{
 "cells": [
  {
   "cell_type": "code",
   "execution_count": null,
   "id": "45e61059-fcfd-4902-94fe-ae7eec50246d",
   "metadata": {},
   "outputs": [],
   "source": [
    "'''\n",
    "Goal:Take a closer look at the enometrial cells\n",
    "\n",
    "Author:Carsten Knutsen\n",
    "Date:231114\n",
    "conda_env:uterus_sc\n",
    "Notes: compare bulk DEGs in single cell\n",
    "'''"
   ]
  },
  {
   "cell_type": "code",
   "execution_count": null,
   "id": "3a02f3e6-8db8-4501-bba8-8e8714429c2f",
   "metadata": {},
   "outputs": [],
   "source": [
    "import scanpy as sc\n",
    "\n",
    "# Only needed for processing\n",
    "import numpy as np\n",
    "import pandas as pd\n",
    "import os \n",
    "import scanpy.external as sce\n",
    "pd.set_option('display.max_rows', 500)\n",
    "\n",
    "output = '/home/carsten/alvira_bioinformatics/uterus/data/pilot/231212_endometrium_deep_dive'\n",
    "endometrium_fol = '/home/carsten/alvira_bioinformatics/uterus/data/single_cell_files/external_datasets/garciaalonso_2021/raw'\n",
    "os.makedirs(output, exist_ok=True)\n",
    "sc.settings.figdir = output"
   ]
  },
  {
   "cell_type": "code",
   "execution_count": null,
   "id": "dc30c77a",
   "metadata": {},
   "outputs": [],
   "source": [
    "endometrium_adatas = []\n",
    "for mtx in list(filter(lambda x:x.endswith('.mtx'),os.listdir(endometrium_fol))):\n",
    "    adata = sc.read(f'{endometrium_fol}/{mtx}').T\n",
    "    fn = mtx.split('.')[0]\n",
    "    var = pd.read_csv(f'{endometrium_fol}/{fn}_features.tsv',sep='\\t',index_col=None,header=None)\n",
    "    obs = pd.read_csv(f'{endometrium_fol}/{fn}_cells.tsv',sep='\\t',index_col=0,header=0)\n",
    "    adata.var_names=var.index\n",
    "    adata.obs_names= obs.index\n",
    "    adata.obs= obs\n",
    "    endometrium_adatas.append(adata)\n"
   ]
  },
  {
   "cell_type": "code",
   "execution_count": null,
   "id": "3e9701fd",
   "metadata": {},
   "outputs": [],
   "source": [
    "endometrium_ref_adata = endometrium_adatas[0].concatenate(endometrium_adatas[1:])"
   ]
  },
  {
   "cell_type": "code",
   "execution_count": null,
   "id": "aa211d18",
   "metadata": {},
   "outputs": [],
   "source": [
    "endometrium_ref_adata.obs['fine_celltypes'].unique()"
   ]
  },
  {
   "cell_type": "code",
   "execution_count": null,
   "id": "0580e400",
   "metadata": {},
   "outputs": [],
   "source": [
    "endometrium_ref_adata"
   ]
  }
 ],
 "metadata": {
  "kernelspec": {
   "display_name": "Python 3 (ipykernel)",
   "language": "python",
   "name": "python3"
  },
  "language_info": {
   "codemirror_mode": {
    "name": "ipython",
    "version": 3
   },
   "file_extension": ".py",
   "mimetype": "text/x-python",
   "name": "python",
   "nbconvert_exporter": "python",
   "pygments_lexer": "ipython3",
   "version": "3.7.11"
  }
 },
 "nbformat": 4,
 "nbformat_minor": 5
}
