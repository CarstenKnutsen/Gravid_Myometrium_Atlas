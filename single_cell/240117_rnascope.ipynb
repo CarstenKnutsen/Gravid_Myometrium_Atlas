{
 "cells": [
  {
   "cell_type": "code",
   "execution_count": null,
   "id": "45e61059-fcfd-4902-94fe-ae7eec50246d",
   "metadata": {},
   "outputs": [],
   "source": [
    "'''\n",
    "Goal:Create figures for initial rnascope experiments\n",
    "\n",
    "Author:Carsten Knutsen\n",
    "Date:240117\n",
    "conda_env:uterus_sc\n",
    "Notes: Create figures for initial rnascope \n",
    "'''"
   ]
  },
  {
   "cell_type": "code",
   "execution_count": null,
   "id": "3a02f3e6-8db8-4501-bba8-8e8714429c2f",
   "metadata": {},
   "outputs": [],
   "source": [
    "import scanpy as sc\n",
    "\n",
    "# Only needed for processing\n",
    "import numpy as np\n",
    "import pandas as pd\n",
    "import os \n",
    "import scanpy.external as sce\n",
    "pd.set_option('display.max_rows', 500)\n",
    "import liana as li\n",
    "\n",
    "output = '/home/carsten/alvira_bioinformatics/uterus/data/pilot/240117_rnascope'\n",
    "os.makedirs(output, exist_ok=True)\n",
    "sc.set_figure_params(dpi=300, format=\"png\")\n",
    "sc.settings.figdir = output\n"
   ]
  },
  {
   "cell_type": "code",
   "execution_count": null,
   "id": "a8b292ed-173d-4671-ba28-0f967e3ce5e1",
   "metadata": {},
   "outputs": [],
   "source": [
    "adata = sc.read('/home/carsten/alvira_bioinformatics/uterus/data/single_cell_files/scanpy_files/uterus_processed_celltyped.gz.h5ad')\n",
    "adata.raw = adata\n"
   ]
  },
  {
   "cell_type": "code",
   "execution_count": null,
   "id": "24deac72",
   "metadata": {},
   "outputs": [],
   "source": [
    "def produce_rnascope_graphs(adata,title,obs,groups,genes,output):\n",
    "    os.makedirs(output, exist_ok=True)\n",
    "    sc.settings.figdir = output\n",
    "    adata_cts = adata[adata.obs[obs].isin(groups)]\n",
    "    sc.pl.umap(adata,color=genes,save=f'_{title}_all')\n",
    "    sc.pl.dotplot(adata,genes,groupby=[obs],save=f'_{title}_all.png')\n",
    "    sc.pl.dotplot(adata_cts,genes,groupby=[obs],save=f'_{title}_specifc_celltypes.png')"
   ]
  },
  {
   "cell_type": "code",
   "execution_count": null,
   "id": "15e65e07",
   "metadata": {},
   "outputs": [],
   "source": [
    "experiments = {'Smooth muscle':{'celltypes': ['Uterine smooth muscle','Vascular smooth muscle'],\n",
    "                               'genes':['ACTA2','DPP6','NOTCH3',]},\n",
    "              'Endothelial':{'celltypes': ['Macrovasular','Capillary','Lymphatic EC'],\n",
    "                               'genes':['NOSTRIN','GJA5','PROX1']},\n",
    "              'Fibroblast':{'celltypes': ['Matrix fibroblast','Vessel fibroblast'],\n",
    "                               'genes':['PDGFRA','RORB','CCDC80']},\n",
    "              }\n"
   ]
  },
  {
   "cell_type": "code",
   "execution_count": null,
   "id": "cd0facba",
   "metadata": {},
   "outputs": [],
   "source": [
    "for experiment in experiments.keys():\n",
    "    figs = f'{output}/{experiment}'\n",
    "    cts = experiments[experiment]['celltypes']\n",
    "    genes = experiments[experiment]['genes']\n",
    "    produce_rnascope_graphs(adata,experiment,'Cell Subtype',cts,genes,figs)"
   ]
  },
  {
   "cell_type": "code",
   "execution_count": null,
   "id": "2dccffb2",
   "metadata": {},
   "outputs": [],
   "source": [
    "output = '/home/carsten/alvira_bioinformatics/uterus/data/pilot/240117_rnascope/Macrovascular_subcluster'\n",
    "os.makedirs(output, exist_ok=True)\n",
    "sc.set_figure_params(dpi=300, format=\"png\")\n",
    "sc.settings.figdir = output\n",
    "\n",
    "lin_adata = adata[adata.obs['Cell Subtype']=='Macrovascular']\n",
    "sc.pp.highly_variable_genes(lin_adata,\n",
    "                            batch_key=\"Patient\"\n",
    "                            )\n",
    "\n",
    "sc.pp.pca(lin_adata, use_highly_variable=True)\n",
    "sce.pp.harmony_integrate(lin_adata, key=\"Patient\", max_iter_harmony=50)\n",
    "sc.pp.neighbors(lin_adata, use_rep='X_pca_harmony')\n",
    "sc.tl.leiden(\n",
    "    lin_adata,\n",
    "    key_added=f\"leiden_Macrovascular\",\n",
    ")\n",
    "sc.tl.umap(lin_adata,min_dist=0.1)\n",
    "sc.tl.rank_genes_groups(lin_adata, f\"leiden_Macrovascular\", method=\"wilcoxon\")\n",
    "print(lin_adata.obs[f\"leiden_Macrovascular\"].cat.categories)\n",
    "sc.pl.rank_genes_groups_dotplot(\n",
    "    lin_adata,\n",
    "    groupby=f\"leiden_Macrovascular\",\n",
    "    n_genes=int(150 / len(lin_adata.obs[f\"leiden_Macrovascular\"].unique())),\n",
    "    show=False,\n",
    "    save=f\"Macrovascular_leiden_markers.png\",\n",
    ")\n",
    "for color in ['GJA5','VEGFC','SLC6A2','EBF1','COL8A1','leiden_Macrovascular','Patient','GroupContract','Cell Subtype']:\n",
    "    sc.pl.umap(lin_adata, color = color, save=color)"
   ]
  },
  {
   "cell_type": "code",
   "execution_count": null,
   "id": "bef00300",
   "metadata": {},
   "outputs": [],
   "source": []
  },
  {
   "cell_type": "code",
   "execution_count": null,
   "id": "b3db1674",
   "metadata": {},
   "outputs": [],
   "source": [
    "with pd.ExcelWriter(\n",
    "        f\"{output}/art_leiden_markers.xlsx\", engine=\"xlsxwriter\"\n",
    ") as writer:\n",
    "    for ct in lin_adata.obs[f\"leiden_Macrovascular\"].unique():\n",
    "        df = sc.get.rank_genes_groups_df(\n",
    "            lin_adata, key=\"rank_genes_groups\", group=ct\n",
    "        )\n",
    "        df.to_excel(writer, sheet_name=f\"{ct} v rest\"[:31])"
   ]
  },
  {
   "cell_type": "code",
   "execution_count": null,
   "id": "31ff2a11",
   "metadata": {},
   "outputs": [],
   "source": [
    "adata"
   ]
  },
  {
   "cell_type": "code",
   "execution_count": null,
   "id": "5fd042e3",
   "metadata": {},
   "outputs": [],
   "source": [
    "output = '/home/carsten/alvira_bioinformatics/uterus/data/pilot/240117_rnascope/usm_subcluster'\n",
    "os.makedirs(output, exist_ok=True)\n",
    "sc.set_figure_params(dpi=300, format=\"png\")\n",
    "sc.settings.figdir = output\n",
    "lin_adata = adata[adata.obs['Cell Subtype']=='Uterine smooth muscle']\n",
    "sc.pp.highly_variable_genes(lin_adata,\n",
    "                            batch_key=\"Patient\"\n",
    "                            )\n",
    "\n",
    "sc.pp.pca(lin_adata, use_highly_variable=True)\n",
    "sce.pp.harmony_integrate(lin_adata, key=\"Patient\", max_iter_harmony=50)\n",
    "sc.pp.neighbors(lin_adata, use_rep='X_pca_harmony')\n",
    "sc.tl.leiden(\n",
    "    lin_adata,\n",
    "    key_added=f\"leiden_usm\",\n",
    ")\n",
    "sc.tl.umap(lin_adata,min_dist=0.1)\n",
    "sc.tl.rank_genes_groups(lin_adata, f\"leiden_usm\", method=\"wilcoxon\")\n",
    "print(lin_adata.obs[f\"leiden_usm\"].cat.categories)\n",
    "sc.pl.rank_genes_groups_dotplot(\n",
    "    lin_adata,\n",
    "    groupby=f\"leiden_usm\",\n",
    "    n_genes=int(50 / len(lin_adata.obs[f\"leiden_usm\"].unique())),\n",
    "    show=False,\n",
    "    save=f\"usm_leiden_markers.png\",\n",
    ")\n",
    "\n",
    "for color in ['MKI67','leiden_usm','Patient','GroupContract','Cell Subtype']:\n",
    "    sc.pl.umap(lin_adata, color = color, save=color)"
   ]
  },
  {
   "cell_type": "code",
   "execution_count": null,
   "id": "a1db09ee",
   "metadata": {},
   "outputs": [],
   "source": [
    "lin_adata.obs['leiden_usm'].value_counts()"
   ]
  },
  {
   "cell_type": "code",
   "execution_count": null,
   "id": "0727b401",
   "metadata": {},
   "outputs": [],
   "source": [
    "lin_adata.obs.groupby('leiden_usm')['Patient'].value_counts()"
   ]
  },
  {
   "cell_type": "code",
   "execution_count": null,
   "id": "ba06a1fe",
   "metadata": {},
   "outputs": [],
   "source": [
    "sc.pl.umap(lin_adata, color ='ATAD2')"
   ]
  },
  {
   "cell_type": "code",
   "execution_count": null,
   "id": "bfd328e4",
   "metadata": {},
   "outputs": [],
   "source": [
    "sc.pl.umap(lin_adata, color ='MKI67')"
   ]
  },
  {
   "cell_type": "code",
   "execution_count": null,
   "id": "2a1e003e",
   "metadata": {},
   "outputs": [],
   "source": [
    "with pd.ExcelWriter(\n",
    "        f\"{output}/usm_leiden_markers.xlsx\", engine=\"xlsxwriter\"\n",
    ") as writer:\n",
    "    for ct in lin_adata.obs[f\"leiden_usm\"].unique():\n",
    "        df = sc.get.rank_genes_groups_df(\n",
    "            lin_adata, key=\"rank_genes_groups\", group=ct\n",
    "        )\n",
    "        df.to_excel(writer, sheet_name=f\"{ct} v rest\"[:31])"
   ]
  },
  {
   "cell_type": "code",
   "execution_count": null,
   "id": "0ee7c407",
   "metadata": {},
   "outputs": [],
   "source": [
    "output = '/home/carsten/alvira_bioinformatics/uterus/data/pilot/240117_rnascope/vsm_subcluster'\n",
    "os.makedirs(output, exist_ok=True)\n",
    "sc.set_figure_params(dpi=300, format=\"png\")\n",
    "sc.settings.figdir = output\n",
    "\n",
    "lin_adata = adata[adata.obs['Cell Subtype']=='Vascular smooth muscle']\n",
    "sc.pp.highly_variable_genes(lin_adata,\n",
    "                            batch_key=\"Patient\"\n",
    "                            )\n",
    "\n",
    "sc.pp.pca(lin_adata, use_highly_variable=True)\n",
    "sce.pp.harmony_integrate(lin_adata, key=\"Patient\", max_iter_harmony=50)\n",
    "sc.pp.neighbors(lin_adata, use_rep='X_pca_harmony')\n",
    "sc.tl.leiden(\n",
    "    lin_adata,\n",
    "    key_added=f\"leiden_vsm\",\n",
    ")\n",
    "sc.tl.umap(lin_adata,min_dist=0.1)\n",
    "sc.tl.rank_genes_groups(lin_adata, f\"leiden_vsm\", method=\"wilcoxon\")\n",
    "print(lin_adata.obs[f\"leiden_vsm\"].cat.categories)\n",
    "sc.pl.rank_genes_groups_dotplot(\n",
    "    lin_adata,\n",
    "    groupby=f\"leiden_vsm\",\n",
    "    n_genes=int(50 / len(lin_adata.obs[f\"leiden_vsm\"].unique())),\n",
    "    show=False,\n",
    "    save=f\"vsm_leiden_markers.png\",\n",
    ")\n",
    "\n",
    "for color in ['MKI67','RGS6','ANGPT4','RYR2','RGS6','leiden_vsm','Patient','GroupContract','Cell Subtype']:\n",
    "    sc.pl.umap(lin_adata, color = color, save=color)"
   ]
  },
  {
   "cell_type": "code",
   "execution_count": null,
   "id": "72e45534",
   "metadata": {},
   "outputs": [],
   "source": [
    "with pd.ExcelWriter(\n",
    "        f\"{output}/vsm_leiden_markers.xlsx\", engine=\"xlsxwriter\"\n",
    ") as writer:\n",
    "    for ct in lin_adata.obs[f\"leiden_vsm\"].unique():\n",
    "        df = sc.get.rank_genes_groups_df(\n",
    "            lin_adata, key=\"rank_genes_groups\", group=ct\n",
    "        )\n",
    "        df.to_excel(writer, sheet_name=f\"{ct} v rest\"[:31])"
   ]
  },
  {
   "cell_type": "code",
   "execution_count": null,
   "id": "085b466f",
   "metadata": {},
   "outputs": [],
   "source": [
    "sc.pl.embedding(adata[adata.obs['Lineage']=='Mesenchymal'],\n",
    "               basis = 'X_umap_Mesenchymal',\n",
    "               color='RGS6')"
   ]
  },
  {
   "cell_type": "code",
   "execution_count": null,
   "id": "2a062ec2",
   "metadata": {},
   "outputs": [],
   "source": [
    "sc.pl.embedding(adata[adata.obs['Lineage']=='Mesenchymal'],\n",
    "               basis = 'X_umap_Mesenchymal',\n",
    "               color='MKI67')"
   ]
  },
  {
   "cell_type": "code",
   "execution_count": null,
   "id": "e68450b5",
   "metadata": {},
   "outputs": [],
   "source": [
    "sc.pl.embedding(adata[adata.obs['Lineage']=='Mesenchymal'],\n",
    "               basis = 'X_umap_Mesenchymal',\n",
    "               color=['FRMD3','GRIK2'])"
   ]
  },
  {
   "cell_type": "code",
   "execution_count": null,
   "id": "fc56642f",
   "metadata": {},
   "outputs": [],
   "source": [
    "genes  = ['RGS6',\n",
    "'ZFHX3',\n",
    "'AKAP6',\n",
    "'FRMD4A',\n",
    "'RCAN2',\n",
    "'LTBP1',\n",
    "         'RYR2',\n",
    "         'ANGPT4']\n",
    "\n",
    "sc.pl.embedding(adata[adata.obs['Lineage']=='Mesenchymal'],\n",
    "               basis = 'X_umap_Mesenchymal',\n",
    "               color=genes)"
   ]
  },
  {
   "cell_type": "code",
   "execution_count": null,
   "id": "3fa300a1",
   "metadata": {},
   "outputs": [],
   "source": [
    "sc.pl.embedding(adata[adata.obs['Lineage']=='Mesenchymal'],\n",
    "               basis = 'X_umap_Mesenchymal',\n",
    "               color=['ANGPT4'])"
   ]
  },
  {
   "cell_type": "code",
   "execution_count": null,
   "id": "8837c94d",
   "metadata": {},
   "outputs": [],
   "source": []
  }
 ],
 "metadata": {
  "kernelspec": {
   "display_name": "Python 3 (ipykernel)",
   "language": "python",
   "name": "python3"
  },
  "language_info": {
   "codemirror_mode": {
    "name": "ipython",
    "version": 3
   },
   "file_extension": ".py",
   "mimetype": "text/x-python",
   "name": "python",
   "nbconvert_exporter": "python",
   "pygments_lexer": "ipython3",
   "version": "3.7.11"
  }
 },
 "nbformat": 4,
 "nbformat_minor": 5
}
