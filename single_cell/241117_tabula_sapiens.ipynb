{
 "cells": [
  {
   "cell_type": "code",
   "execution_count": null,
   "id": "3a02f3e6-8db8-4501-bba8-8e8714429c2f",
   "metadata": {},
   "outputs": [],
   "source": [
    "import scanpy as sc\n",
    "\n",
    "# Only needed for processing\n",
    "import numpy as np\n",
    "import pandas as pd\n",
    "import os \n",
    "import seaborn as sns\n",
    "import matplotlib.pyplot as plt\n",
    "pd.set_option('display.max_rows', 500)\n",
    "import liana as li\n",
    "import anndata\n",
    "\n",
    "sc.set_figure_params(dpi=300,dpi_save=300, format=\"svg\",fontsize=10)\n",
    "\n",
    "sns.set_style('white', rc={\n",
    "    'xtick.bottom': True,\n",
    "    'ytick.left': True,\n",
    "})\n",
    "plt.rcParams[\"font.family\"] = \"Arial\"\n",
    "output_fol = '/home/carsten/alvira_bioinformatics/uterus/data/pilot/241117_tabula_sapiens'\n",
    "os.makedirs(output_fol,exist_ok=True)\n",
    "sc.settings.figdir = output_fol\n"
   ]
  },
  {
   "cell_type": "code",
   "execution_count": null,
   "id": "a8b292ed-173d-4671-ba28-0f967e3ce5e1",
   "metadata": {},
   "outputs": [],
   "source": [
    "uterus_adata = sc.read('/home/carsten/alvira_bioinformatics/uterus/data/single_cell_files/scanpy_files/uterus_processed_celltyped.gz.h5ad')\n",
    "ct_order=['Ciliated', 'Epithelial', 'Glandular', 'Lumenal',\n",
    "         'Capillary','Lymphatic EC', 'Macrovascular',\n",
    "          'Basophil', 'Dendritic', 'Myeloid','Proliferative myeloid','NK cell',  'T cell',\n",
    "          'Matrix fibroblast','Vessel fibroblast','Trophoblast','Uterine smooth muscle', 'Vascular smooth muscle',\n",
    "         ]\n",
    "uterus_adata.obs['Cell Subtype'] = pd.Categorical(uterus_adata.obs['Cell Subtype'], categories=ct_order)\n",
    "uterus_adata.obs['organ_tissue'] = 'Myometrium'\n"
   ]
  },
  {
   "cell_type": "code",
   "execution_count": null,
   "id": "3ff263fc",
   "metadata": {},
   "outputs": [],
   "source": [
    "ts_adata = sc.read('/home/carsten/alvira_bioinformatics/uterus/data/outside_data/TS_stromal.h5ad')\n",
    "ts_uterus_adata = ts_adata[ts_adata.obs['organ_tissue']=='Uterus']"
   ]
  },
  {
   "cell_type": "code",
   "execution_count": null,
   "id": "b36ecab4",
   "metadata": {},
   "outputs": [],
   "source": [
    "ts_adata.obs['cell_ontology_class'].cat.categories"
   ]
  },
  {
   "cell_type": "code",
   "execution_count": null,
   "id": "7bba6d14",
   "metadata": {},
   "outputs": [],
   "source": [
    "ts_vsm = ts_adata[ts_adata.obs['cell_ontology_class'].isin(['vascular associated smooth muscle cell'])]\n",
    "uterus_vsm = uterus_adata[uterus_adata.obs['Cell Subtype']=='Vascular smooth muscle']\n",
    "vsm_adata = ts_vsm.concatenate([uterus_vsm],batch_key='Dataset',batch_categories=['TS','Ansari2024'])\n",
    "\n",
    "sc.tl.rank_genes_groups(vsm_adata,'Dataset',method='wilcoxon',pts=True)\n",
    "sc.pl.rank_genes_groups_dotplot(vsm_adata,title='VSM comparison',save='dataset_vsm_comparison.svg')\n",
    "sc.pl.dotplot(vsm_adata,['NOTCH3','EEF1A1','FAU','FTX','CHSY3'],groupby='organ_tissue',)\n",
    "df = sc.get.rank_genes_groups_df(\n",
    "                    vsm_adata, group=\"Ansari2024\"\n",
    "                )\n",
    "df = df.rename({'pct_nz_group':'Ansari2024_%expressed',\n",
    "                  'pct_nz_reference':'TabulaSapiens_%expressed'},axis=1)\n",
    "df['%expressed_difference'] = df['Ansari2024_%expressed'] - df['TabulaSapiens_%expressed']\n",
    "df.sort_values('%expressed_difference').to_csv(f'{output_fol}/dataset_degs_vsm_wilcoxon.csv')"
   ]
  },
  {
   "cell_type": "code",
   "execution_count": null,
   "id": "8db1d972",
   "metadata": {},
   "outputs": [],
   "source": [
    "ts_usm = ts_adata[ts_adata.obs['cell_ontology_class'].isin(['myometrial cell'])]\n",
    "uterus_usm = uterus_adata[uterus_adata.obs['Cell Subtype']=='Uterine smooth muscle']\n",
    "usm_adata = ts_usm.concatenate([uterus_usm],batch_key='Dataset',batch_categories=['TS','Ansari2024'])\n",
    "\n",
    "sc.tl.rank_genes_groups(usm_adata,'Dataset',method='wilcoxon',pts=True)\n",
    "sc.pl.rank_genes_groups_dotplot(usm_adata,title='usm comparison',save='dataset_usm_comparison.svg')\n",
    "df = sc.get.rank_genes_groups_df(\n",
    "                    usm_adata, group=\"Ansari2024\"\n",
    "                )\n",
    "df = df.rename({'pct_nz_group':'Ansari2024_%expressed',\n",
    "                  'pct_nz_reference':'TabulaSapiens_%expressed'},axis=1)\n",
    "df['%expressed_difference'] = df['Ansari2024_%expressed'] - df['TabulaSapiens_%expressed']\n",
    "df.sort_values('%expressed_difference').to_csv(f'{output_fol}/dataset_degs_usm_wilcoxon.csv')"
   ]
  },
  {
   "cell_type": "code",
   "execution_count": null,
   "id": "8e4ddeb7",
   "metadata": {},
   "outputs": [],
   "source": [
    "sc.pl.dotplot(ts_adata,['ACTA2','TAGLN','OXTR','DPP6','LINGO2'],use_raw=False,groupby='cell_ontology_class',save='TS_usm_markers.svg')"
   ]
  }
 ],
 "metadata": {
  "kernelspec": {
   "display_name": "Python 3 (ipykernel)",
   "language": "python",
   "name": "python3"
  },
  "language_info": {
   "codemirror_mode": {
    "name": "ipython",
    "version": 3
   },
   "file_extension": ".py",
   "mimetype": "text/x-python",
   "name": "python",
   "nbconvert_exporter": "python",
   "pygments_lexer": "ipython3",
   "version": "3.7.11"
  }
 },
 "nbformat": 4,
 "nbformat_minor": 5
}
