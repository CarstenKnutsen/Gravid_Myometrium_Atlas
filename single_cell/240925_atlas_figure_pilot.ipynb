{
 "cells": [
  {
   "cell_type": "code",
   "execution_count": null,
   "id": "3a02f3e6-8db8-4501-bba8-8e8714429c2f",
   "metadata": {},
   "outputs": [],
   "source": [
    "import scanpy as sc\n",
    "\n",
    "# Only needed for processing\n",
    "import numpy as np\n",
    "import pandas as pd\n",
    "import os \n",
    "import seaborn as sns\n",
    "import matplotlib.pyplot as plt\n",
    "pd.set_option('display.max_rows', 500)\n",
    "import liana as li\n",
    "\n",
    "\n",
    "sc.set_figure_params(dpi=300,dpi_save=300, format=\"svg\",fontsize=10)\n",
    "sns.set_style('white', rc={\n",
    "    'xtick.bottom': True,\n",
    "    'ytick.left': True,\n",
    "})\n",
    "plt.rcParams[\"font.family\"] = \"Arial\"\n",
    "output_fol = '/home/carsten/alvira_bioinformatics/uterus/data/pilot/240925_atlas_figure_pilot'\n"
   ]
  },
  {
   "cell_type": "code",
   "execution_count": null,
   "id": "a8b292ed-173d-4671-ba28-0f967e3ce5e1",
   "metadata": {},
   "outputs": [],
   "source": [
    "adata = sc.read('/home/carsten/alvira_bioinformatics/uterus/data/single_cell_files/scanpy_files/uterus_processed_celltyped.gz.h5ad')\n",
    "ct_order=['Ciliated', 'Epithelial', 'Glandular', 'Lumenal',\n",
    "         'Capillary','Lymphatic EC', 'Macrovascular',\n",
    "          'Basophil', 'Dendritic', 'Myeloid','Proliferative myeloid','NK cell',  'T cell',\n",
    "          'Matrix fibroblast','Vessel fibroblast','Trophoblast','Uterine smooth muscle', 'Vascular smooth muscle',\n",
    "         ]\n",
    "adata.obs['Cell Subtype'] = pd.Categorical(adata.obs['Cell Subtype'], categories=ct_order)\n",
    "adata.obs['celltype_endometrial'] = [y if x !='Endometrial' else x for x,y in zip(adata.obs['Lineage'], adata.obs['Cell Subtype'])]"
   ]
  },
  {
   "cell_type": "code",
   "execution_count": null,
   "id": "089b522d",
   "metadata": {},
   "outputs": [],
   "source": [
    "### FIGURE 2 \n",
    "output = f'{output_fol}/figure2'\n",
    "os.makedirs(output, exist_ok=True)\n",
    "sc.settings.figdir = output\n"
   ]
  },
  {
   "cell_type": "code",
   "execution_count": null,
   "id": "ed56ccb4",
   "metadata": {},
   "outputs": [],
   "source": [
    "with plt.rc_context({\"figure.figsize\": (3, 3), \"figure.dpi\": (300)}):\n",
    "    sc.pl.umap(adata,color='celltype_endometrial',groups=['Trophoblast','Endometrial'],title='',frameon=False,na_in_legend=False,save='endometrial_trophoblast.svg')\n",
    "    sc.pl.umap(adata,color='Lineage',frameon=False,save='lineage.svg')\n",
    "    sc.pl.umap(adata, color='Cell Subtype',frameon=False,save='cell_subtype.svg')\n",
    "    np.random.seed(0)\n",
    "    random_indices = np.random.permutation(list(range(adata.shape[0])))\n",
    "    sc.pl.umap(adata[random_indices,:], color='Patient',alpha=0.5,frameon=False,save='patient.svg')"
   ]
  },
  {
   "cell_type": "code",
   "execution_count": null,
   "id": "28823b63",
   "metadata": {},
   "outputs": [],
   "source": [
    "with plt.rc_context({\"figure.figsize\": (1.5, 1.5), \"figure.dpi\": (300)}):\n",
    "    sc.pl.umap(adata,color=[\"CDH5\", \"PAEP\", \"PTPRC\", \"COL1A1\",],alpha=0.5,ncols=2, cmap='viridis',frameon=False,save='lineage_markers.svg')"
   ]
  },
  {
   "cell_type": "code",
   "execution_count": null,
   "id": "6d0894f1",
   "metadata": {},
   "outputs": [],
   "source": [
    "patient_color_dict = {}\n",
    "for x, y in zip(adata.obs['Patient'].cat.categories, adata.uns['Patient_colors']):\n",
    "    patient_color_dict[x]=y"
   ]
  },
  {
   "cell_type": "code",
   "execution_count": null,
   "id": "b6edd9a7",
   "metadata": {},
   "outputs": [],
   "source": [
    "df=pd.DataFrame(sc.get.obs_df(adata,['Cell Subtype','Patient']).groupby('Cell Subtype')['Patient'].value_counts()['Trophoblast']).T\n",
    "palette= [patient_color_dict[x] for x in df.columns]\n",
    "fig, ax = plt.subplots(1,1, figsize=(2.5,2))\n",
    "ax = sns.barplot(df, palette=palette)\n",
    "ax.set_xticklabels(ax.get_xticklabels(),rotation=90)\n",
    "ax.set_ylabel('# of Trophoblast cells')\n",
    "fig.savefig(f'{output}/barplot_trophoblast_patient_number.svg',dpi=300,bbox_inches='tight')\n"
   ]
  },
  {
   "cell_type": "code",
   "execution_count": null,
   "id": "8b2e0bd0",
   "metadata": {},
   "outputs": [],
   "source": [
    "df=pd.DataFrame(sc.get.obs_df(adata,['Lineage','Patient']).groupby('Lineage')['Patient'].value_counts()['Endometrial']).T\n",
    "palette= [patient_color_dict[x] for x in df.columns]\n",
    "fig, ax = plt.subplots(1,1, figsize=(2.5,2))\n",
    "ax = sns.barplot(df, palette=palette)\n",
    "ax.set_xticklabels(ax.get_xticklabels(),rotation=90)\n",
    "ax.set_ylabel('# of Endometrial cells')\n",
    "fig.savefig(f'{output}/barplot_endometrial_patient_number.svg',dpi=300,bbox_inches='tight')\n"
   ]
  },
  {
   "cell_type": "code",
   "execution_count": null,
   "id": "3cf70228",
   "metadata": {},
   "outputs": [],
   "source": [
    "gene_dictionary = {'Ciliated':['CFAP43','HYDIN','DNAH6','CDHR3'], \n",
    " 'Epithelial':['UST','DST','PDE10A','COL12A1'],\n",
    " 'Glandular':['PTPRR','RIMS2','ZPLD1','VCAN'],\n",
    " 'Lumenal':['RMST','FBXL7','DLGAP1','RXFP1'],\n",
    " 'Capillary':['NOSTRIN','ADGRL2','TLL1','TGFBR3'],\n",
    "       'Lymphatic EC':['CD36','RELN','MPP7','PROX1'],\n",
    " 'Macrovascular':['SOX5','EFNB2','GJA5','VEGFC'],\n",
    " 'Basophil':['NTM','SLC24A3','CPA3','IL18R1'],\n",
    " 'Dendritic':['CCSER1','WDFY4','AFF3','GNG7'], \n",
    " 'Myeloid':['RBM47','MS4A6A','MRC1','TNS3'],\n",
    "       'NK cell':['NCAM1','GNLY','TXK','KCNQ5'],\n",
    " 'Proliferative myeloid':['CENPP','NSD2','ATAD2','DIAPH3'], \n",
    " 'T cell':['THEMIS','INPP4B','SLFN12L','PRKCQ'], \n",
    " 'Matrix fibroblast':['CCDC80','MEG3','TNXB','DNM1'],\n",
    "       'Trophoblast':['HPGD','GPR78','LVRN','RBM47'], \n",
    " 'Uterine smooth muscle':['DPP6','LINGO2','OXTR','KCNMA1'],\n",
    " 'Vascular smooth muscle':['ACTA2','TAGLN','NOTCH3','ADGRL3','PDE3A','FHL5'],\n",
    "       'Vessel fibroblast':['RORA','RORB','THSD7A','DTNA'],\n",
    " }\n",
    "gene_ls = ['PAEP','CDH5','PTPRC','COL1A1'] \n",
    "for k in ct_order:\n",
    "    gene_ls+=gene_dictionary[k]"
   ]
  },
  {
   "cell_type": "code",
   "execution_count": null,
   "id": "5c05cb03",
   "metadata": {},
   "outputs": [],
   "source": [
    "sc.pl.DotPlot(adata, gene_ls, groupby='Cell Subtype',standard_scale='var').style(cmap='Reds').legend(width=2).savefig(f'{output}/dotplot_all_celltypes.svg',dpi=300)\n",
    "sc.pl.MatrixPlot(adata, gene_ls, groupby='Cell Subtype',standard_scale='var').style(cmap='plasma').legend(width=2).savefig(f'{output}/matrixplot_all_celltypes.svg',dpi=300)\n"
   ]
  },
  {
   "cell_type": "code",
   "execution_count": null,
   "id": "420b0629",
   "metadata": {},
   "outputs": [],
   "source": [
    "celltype_color_dict = {}\n",
    "for x, y in zip(adata.obs['Cell Subtype'].cat.categories, adata.uns['Cell Subtype_colors']):\n",
    "    celltype_color_dict[x]=y\n",
    "# Calculate value counts\n",
    "value_counts = adata.obs['Cell Subtype'].value_counts()\n",
    "\n",
    "# Create pie chart\n",
    "fig, ax = plt.subplots(1,1, figsize=(3,3))\n",
    "ax = value_counts.plot.pie(y=False,\n",
    "                           colors=[celltype_color_dict[x] for x in value_counts.index],\n",
    "                           labeldistance=None,\n",
    "#                            explode=[0.01 for x in value_counts.index],\n",
    "                           ax=ax\n",
    "                          )\n",
    "labels=[f'{x} ({value_counts[x]})' for x in value_counts.index]\n",
    "f = lambda m,c: plt.plot([],[],marker=m, color=c, ls=\"none\")[0]\n",
    "handles = [f(\"o\", celltype_color_dict[x]) for x in value_counts.index]\n",
    "plt.legend(handles,labels,title='', ncol=2, frameon=False,fancybox=False, shadow=False, bbox_to_anchor=(1.0, 0.8))\n",
    "ax.set_title('Cell Subtype distibution')\n",
    "ax.set_ylabel('')\n",
    "fig.savefig(f'{output}/pieplot_celltype_number.svg',dpi=300,bbox_inches='tight')\n",
    "\n"
   ]
  },
  {
   "cell_type": "code",
   "execution_count": null,
   "id": "99cd121d",
   "metadata": {},
   "outputs": [],
   "source": [
    "### FIGURE 4\n",
    "output = f'{output_fol}/figure4'\n",
    "os.makedirs(output, exist_ok=True)\n",
    "sc.settings.figdir = output"
   ]
  },
  {
   "cell_type": "code",
   "execution_count": null,
   "id": "fae80a4c",
   "metadata": {},
   "outputs": [],
   "source": [
    "adata"
   ]
  },
  {
   "cell_type": "code",
   "execution_count": null,
   "id": "b39e7e38",
   "metadata": {},
   "outputs": [],
   "source": [
    "adata_mes =adata.copy()\n",
    "adata_mes.obsm['X_umap'] = adata_mes.obsm['X_umap_Mesenchymal']\n",
    "adata_mes=adata_mes[adata_mes.obs['Lineage']=='Mesenchymal']\n",
    "adata_mes"
   ]
  },
  {
   "cell_type": "code",
   "execution_count": null,
   "id": "8c08b2db",
   "metadata": {},
   "outputs": [],
   "source": [
    "with plt.rc_context({\"figure.figsize\": (3, 3), \"figure.dpi\": (300)}):\n",
    "    sc.pl.umap(adata_mes,color='Cell Subtype',title='',frameon=False,save='mesenchymal.svg')\n",
    "    sc.pl.umap(adata_mes,color='Cell Subtype',title='',frameon=False,groups = ['Uterine smooth muscle','Vascular smooth muscle'],na_in_legend=False,save='mesenchymal_just_smooth_muscle.svg')"
   ]
  },
  {
   "cell_type": "code",
   "execution_count": null,
   "id": "6f45498c",
   "metadata": {},
   "outputs": [],
   "source": [
    "adata_sm = adata_mes[adata_mes.obs['Cell Subtype'].isin(['Uterine smooth muscle','Vascular smooth muscle'])]\n",
    "adata_sm.obs['Cell Subtype_abv'] = ['USM' if x =='Uterine smooth muscle' else 'VSM' for x in adata_sm.obs['Cell Subtype']]\n",
    "with plt.rc_context({\"figure.figsize\": (1.5,1.5), \"figure.dpi\": (300)}):\n",
    "    for color in gene_dictionary['Uterine smooth muscle'] + gene_dictionary['Vascular smooth muscle']:\n",
    "        sc.pl.umap(adata_mes,color=color,alpha=0.5, wspace=0.0,cmap='viridis',frameon=False,save=f'{color}.svg')\n",
    "        \n",
    "with plt.rc_context({\"figure.figsize\": (2.5,1.5), \"figure.dpi\": (300)}):\n",
    "    for color in gene_dictionary['Uterine smooth muscle'] + gene_dictionary['Vascular smooth muscle']:\n",
    "        sc.pl.violin(adata_sm,\n",
    "             color,\n",
    "             groupby='Cell Subtype_abv',\n",
    "            xlabel=' ',\n",
    "            stripplot=False,\n",
    "                     palette= [celltype_color_dict['Uterine smooth muscle'],celltype_color_dict['Vascular smooth muscle']],\n",
    "            inner='box',\n",
    "            frameon=False,\n",
    "            save=f'{color}.svg')\n",
    "        \n"
   ]
  },
  {
   "cell_type": "code",
   "execution_count": null,
   "id": "d5c3dfc4",
   "metadata": {},
   "outputs": [],
   "source": [
    "sc.pl.DotPlot(adata_mes, \n",
    "              ['ACTA2','TAGLN'], \n",
    "                 standard_scale='var',\n",
    "              groupby=['Cell Subtype']).style(cmap='Reds').swap_axes().legend(width=2).savefig(f'{output}/dotplot_smooth_muscle.svg',dpi=300)\n"
   ]
  },
  {
   "cell_type": "code",
   "execution_count": null,
   "id": "88968904",
   "metadata": {},
   "outputs": [],
   "source": [
    "adata.raw = adata\n",
    "from liana.mt import rank_aggregate\n",
    "rank_aggregate(adata, groupby='Cell Subtype', expr_prop=0.1, resource_name='consensus', verbose=True, key_added='liana_ccc_table')\n",
    "adata"
   ]
  },
  {
   "cell_type": "code",
   "execution_count": null,
   "id": "62d3e85a",
   "metadata": {},
   "outputs": [],
   "source": [
    "df = adata.uns['liana_ccc_table']\n",
    "df_vsm = df.loc[((df['source']=='Vascular smooth muscle')|(df['target']=='Vascular smooth muscle'))\n",
    "               &((df['source'].isin(['Capillary','Macrovascular']))|(df['target'].isin(['Capillary','Macrovascular'])))\n",
    "               ]\n",
    "df_vsm.head(50)"
   ]
  },
  {
   "cell_type": "code",
   "execution_count": null,
   "id": "4b5f9ce0",
   "metadata": {},
   "outputs": [],
   "source": [
    "df_usm = df.loc[((df['source']=='Uterine smooth muscle')&(df['target']=='Uterine smooth muscle'))\n",
    "              \n",
    "               ]\n",
    "df_usm"
   ]
  },
  {
   "cell_type": "code",
   "execution_count": null,
   "id": "bdc5b483",
   "metadata": {},
   "outputs": [],
   "source": [
    "adata.uns['liana_ccc_table'].sort_values('receptor_complex', inplace=True)\n",
    "fig = li.pl.dotplot(adata = adata,\n",
    "             colour='magnitude_rank',\n",
    "              size='specificity_rank',\n",
    "              inverse_size=True,\n",
    "              inverse_colour=True,\n",
    "              source_labels=['Macrovascular', 'Capillary'],\n",
    "              target_labels=['Uterine smooth muscle','Vascular smooth muscle'],\n",
    "              figure_size=(8, 7),\n",
    "              orderby='receptor_complex',\n",
    "              orderby_ascending=True,\n",
    "\n",
    "              filterby='receptor_complex',\n",
    "              filter_lambda=lambda x: x.startswith('NOTCH'),\n",
    "              uns_key='liana_ccc_table', \n",
    "             )\n",
    "fig.save(f'{output}/ccc_notch_vsm_usm.png',dpi=300)"
   ]
  },
  {
   "cell_type": "code",
   "execution_count": null,
   "id": "fc3549e2",
   "metadata": {},
   "outputs": [],
   "source": [
    "fig = li.pl.dotplot(adata = adata,\n",
    "             colour='magnitude_rank',\n",
    "              size='specificity_rank',\n",
    "              inverse_size=True,\n",
    "              inverse_colour=True,\n",
    "              source_labels=['Uterine smooth muscle','Vascular smooth muscle'],\n",
    "              target_labels=['Uterine smooth muscle','Vascular smooth muscle'],\n",
    "              figure_size=(8, 7),\n",
    "              orderby='specificity_rank',\n",
    "              orderby_ascending=True,\n",
    "                    top_n=15,\n",
    "              uns_key='liana_ccc_table', \n",
    "             )\n",
    "fig.save(f'{output}/ccc_vsm_usm.png',dpi=300)"
   ]
  },
  {
   "cell_type": "code",
   "execution_count": null,
   "id": "2701d26d",
   "metadata": {},
   "outputs": [],
   "source": [
    "adata.uns['liana_ccc_table']"
   ]
  },
  {
   "cell_type": "code",
   "execution_count": null,
   "id": "d2309b35",
   "metadata": {},
   "outputs": [],
   "source": [
    "sc.pl.dotplot(adata,['NCAM1','CACNA1C'],groupby='Cell Subtype')"
   ]
  },
  {
   "cell_type": "code",
   "execution_count": null,
   "id": "2b9b1fa8",
   "metadata": {},
   "outputs": [],
   "source": [
    "### FIGURE 5\n",
    "output = f'{output_fol}/figure5'\n",
    "os.makedirs(output, exist_ok=True)\n",
    "sc.settings.figdir = output"
   ]
  },
  {
   "cell_type": "code",
   "execution_count": null,
   "id": "0d5a410a",
   "metadata": {},
   "outputs": [],
   "source": [
    "### FIGURE 6\n",
    "output = f'{output_fol}/figure6'\n",
    "os.makedirs(output, exist_ok=True)\n",
    "sc.settings.figdir = output"
   ]
  },
  {
   "cell_type": "code",
   "execution_count": null,
   "id": "dd942f8f",
   "metadata": {},
   "outputs": [],
   "source": [
    "adata_usm = adata_mes[(adata_mes.obs['Cell Subtype'].isin(['Uterine smooth muscle']))\n",
    "                     &(adata_mes.obs['GroupContract'].isin(['TNL-GC','TL-ND']))\n",
    "                     ].copy()\n",
    "# sc.pp.scale(adata_usm)\n",
    "adata_usm"
   ]
  },
  {
   "cell_type": "code",
   "execution_count": null,
   "id": "b1125388",
   "metadata": {},
   "outputs": [],
   "source": [
    "usm_degs_labor = pd.read_excel('/home/carsten/alvira_bioinformatics/uterus/data/figures/deg/pseudobulk/TNL_GC_v_TL_ND_pseudobulk_comparisons.xlsx',\n",
    "                              sheet_name='Uterine smooth muscle',\n",
    "                              index_col=0)\n",
    "usm_degs_labor = usm_degs_labor.loc[usm_degs_labor['padj']<0.05]\n",
    "usm_degs_labor = usm_degs_labor.loc[abs(usm_degs_labor['log2FoldChange'])>1]\n",
    "usm_degs_labor = usm_degs_labor.loc[usm_degs_labor['baseMean']>100]\n",
    "\n",
    "usm_degs_labor = usm_degs_labor.sort_values('log2FoldChange')\n",
    "usm_degs_labor"
   ]
  },
  {
   "cell_type": "code",
   "execution_count": null,
   "id": "cf7360d8",
   "metadata": {},
   "outputs": [],
   "source": [
    "top_n=10\n",
    "plot_degs = usm_degs_labor.sort_values('log2FoldChange').index.to_list()[:top_n]+ usm_degs_labor.sort_values('log2FoldChange',ascending=False).index.tolist()[:top_n]\n",
    "sc.pl.MatrixPlot(adata_usm, \n",
    "              plot_degs, \n",
    "                 standard_scale='var',\n",
    "#                  vmin=-0.5,\n",
    "#                  vmax=0.5,\n",
    "              groupby=['Group','Patient']).style(cmap='magma').legend(width=2).savefig(f'{output}/matrixplot_uterine_smooth_muscle_labor_degs.svg',dpi=300)\n"
   ]
  },
  {
   "cell_type": "code",
   "execution_count": null,
   "id": "aaa1b38f",
   "metadata": {},
   "outputs": [],
   "source": [
    "sc.pl.DotPlot(adata_usm, \n",
    "              plot_degs, \n",
    "                 standard_scale='var',\n",
    "#                  vmin=-0.5,\n",
    "#                  vmax=0.5,\n",
    "              groupby=['Group','Patient']).style(cmap='Reds').legend(width=2).savefig(f'{output}/dotplot_uterine_smooth_muscle_labor_degs.svg',dpi=300)\n"
   ]
  },
  {
   "cell_type": "code",
   "execution_count": null,
   "id": "35527040",
   "metadata": {},
   "outputs": [],
   "source": [
    "adata.obs['Patient']"
   ]
  },
  {
   "cell_type": "code",
   "execution_count": null,
   "id": "3e5b8840",
   "metadata": {},
   "outputs": [],
   "source": [
    "pique_genes = {'up':['PI15','ADAMTS9',\n",
    "'SLC7A5',\n",
    "'BOP1',\n",
    "'CXCL2',\n",
    "'IL6',\n",
    "'IER3',\n",
    "'MTHFD1L',\n",
    "'DNAJB11'],\n",
    "              'down':[\n",
    "                  'ITIH5',\n",
    "'PGM5',\n",
    "'SLC2A4',\n",
    "'CTXN1',\n",
    "'SSPN',\n",
    "'CSDC2',\n",
    "'PCYOX1',\n",
    "'FABP3',\n",
    "'TMEM106C',\n",
    "'PLN',\n",
    "'KCNAB1',]}\n",
    "\n",
    "sc.pl.MatrixPlot(adata_usm, \n",
    "              pique_genes, \n",
    "                 standard_scale='var',\n",
    "              groupby=['Group','Patient']).style(cmap='magma').legend(width=2).savefig(f'{output}/dotplot_uterine_smooth_muscle_labor_degs.svg',dpi=300)\n"
   ]
  },
  {
   "cell_type": "code",
   "execution_count": null,
   "id": "2c6819d8",
   "metadata": {},
   "outputs": [],
   "source": [
    "### FIGURE 7\n",
    "output = f'{output_fol}/figure7'\n",
    "os.makedirs(output, exist_ok=True)\n",
    "sc.settings.figdir = output"
   ]
  },
  {
   "cell_type": "code",
   "execution_count": null,
   "id": "96927d5c",
   "metadata": {},
   "outputs": [],
   "source": [
    "usm_degs = pd.read_excel('/home/carsten/alvira_bioinformatics/uterus/data/figures/deg/pseudobulk/TNL_GC_v_TNL_BC_pseudobulk_comparisons.xlsx',\n",
    "                              sheet_name='Uterine smooth muscle',\n",
    "                              index_col=0)\n",
    "usm_degs_atony = usm_degs.loc[usm_degs['padj']<0.1]\n",
    "usm_degs_atony = usm_degs_atony.loc[abs(usm_degs_atony['log2FoldChange'])>0.5]\n",
    "\n",
    "usm_degs_atony = usm_degs_atony.sort_values('log2FoldChange')\n",
    "usm_degs_atony"
   ]
  },
  {
   "cell_type": "code",
   "execution_count": null,
   "id": "306d608d",
   "metadata": {},
   "outputs": [],
   "source": [
    "usm_degs[\"$-Log_{10}$(padj)\"] = usm_degs[\"padj\"].apply(lambda x: -np.log10(x))\n",
    "usm_degs[\"$Log_{2}$(FC)\"] = usm_degs[\"log2FoldChange\"]\n",
    "color = []\n",
    "for x in usm_degs.index:\n",
    "    tmp = usm_degs.loc[x]\n",
    "    if tmp[\"log2FoldChange\"] > 0.5 and tmp[\"padj\"] < 0.1:\n",
    "        color.append(\"Upregulated\")\n",
    "    elif tmp[\"log2FoldChange\"] < -0.5 and tmp[\"padj\"] < 0.1:\n",
    "        color.append(\"Downregulated\")\n",
    "    else:\n",
    "        color.append(\"NS\")\n",
    "\n",
    "usm_degs[\"color\"] = color\n",
    "fig, ax = plt.subplots(1, 1, figsize=(4, 3))\n",
    "\n",
    "sns.scatterplot(\n",
    "    data=usm_degs,\n",
    "    y=\"$-Log_{10}$(padj)\",\n",
    "    x=\"$Log_{2}$(FC)\",\n",
    "    hue=\"color\",\n",
    "    hue_order=[\"Upregulated\", \"NS\", \"Downregulated\"],\n",
    "    palette=[\"red\", \"grey\", \"blue\"],\n",
    "    s=10,\n",
    "    linewidth=0,\n",
    "    ax=ax,\n",
    ")\n",
    "ax.get_legend().remove()\n",
    "sns.despine(fig=fig,ax=ax,top=True,right=True)\n",
    "fig.savefig(f\"{output}/usm_atony_volcano.png\", dpi=300, bbox_inches=\"tight\")"
   ]
  },
  {
   "cell_type": "code",
   "execution_count": null,
   "id": "52b64746",
   "metadata": {},
   "outputs": [],
   "source": [
    "adata_usm = adata_mes[(adata_mes.obs['Cell Subtype'].isin(['Uterine smooth muscle']))\n",
    "                     &(adata_mes.obs['GroupContract'].isin(['TNL-GC','TNL-BC']))\n",
    "                     ].copy()\n",
    "top_n=10\n",
    "plot_degs = usm_degs_atony.sort_values('log2FoldChange').index.to_list()[:top_n]+ usm_degs_atony.sort_values('log2FoldChange',ascending=False).index.tolist()[:top_n]\n",
    "sc.pl.MatrixPlot(adata_usm, \n",
    "              plot_degs, \n",
    "                 standard_scale='var',\n",
    "#                  vmin=-0.5,\n",
    "#                  vmax=0.5,\n",
    "              groupby=['Contractility','Patient']).style(cmap='magma').legend(width=2).savefig(f'{output}/matrixplot_uterine_smooth_muscle_labor_degs.svg',dpi=300)\n"
   ]
  },
  {
   "cell_type": "code",
   "execution_count": null,
   "id": "39477758",
   "metadata": {},
   "outputs": [],
   "source": [
    "bulk_degs = pd.read_excel('/home/carsten/alvira_bioinformatics/uterus/data/bulk/Result_X202SC22123874-Z01-F001/4.Differential/1.deglist/REDvsGD/REDvsGD_deg.xlsx',\n",
    "                         engine='openpyxl')\n",
    "bulk_degs_atony = bulk_degs.loc[bulk_degs['padj']<0.1]\n",
    "bulk_degs_atony = bulk_degs_atony.loc[abs(bulk_degs_atony['log2FoldChange'])>0.5]\n",
    "\n",
    "bulk_degs_atony = bulk_degs_atony.sort_values('log2FoldChange')\n",
    "bulk_degs_atony"
   ]
  },
  {
   "cell_type": "code",
   "execution_count": null,
   "id": "5af0c283",
   "metadata": {},
   "outputs": [],
   "source": [
    "sc.pl.dotplot(adata,[x for x in bulk_degs_atony['gene_name'].values.tolist() if x in adata.var_names],\n",
    "                     groupby='Cell Subtype',\n",
    "             save='bulk_atony_degs')"
   ]
  },
  {
   "cell_type": "code",
   "execution_count": null,
   "id": "65068add",
   "metadata": {},
   "outputs": [],
   "source": [
    "bulk_degs[\"$-Log_{10}$(padj)\"] = bulk_degs[\"padj\"].apply(lambda x: -np.log10(x))\n",
    "bulk_degs[\"$Log_{2}$(FC)\"] = bulk_degs[\"log2FoldChange\"]\n",
    "color = []\n",
    "for x in bulk_degs.index:\n",
    "    tmp = bulk_degs.loc[x]\n",
    "    if tmp[\"log2FoldChange\"] > 0.5 and tmp[\"padj\"] < 0.1:\n",
    "        color.append(\"Upregulated\")\n",
    "    elif tmp[\"log2FoldChange\"] < -0.5 and tmp[\"padj\"] < 0.1:\n",
    "        color.append(\"Downregulated\")\n",
    "    else:\n",
    "        color.append(\"NS\")\n",
    "\n",
    "bulk_degs[\"color\"] = color\n",
    "fig, ax = plt.subplots(1, 1, figsize=(4, 3))\n",
    "\n",
    "sns.scatterplot(\n",
    "    data=bulk_degs,\n",
    "    y=\"$-Log_{10}$(padj)\",\n",
    "    x=\"$Log_{2}$(FC)\",\n",
    "    hue=\"color\",\n",
    "    hue_order=[\"Upregulated\", \"NS\", \"Downregulated\"],\n",
    "    palette=[\"red\", \"grey\", \"blue\"],\n",
    "    s=10,\n",
    "    linewidth=0,\n",
    "    ax=ax,\n",
    ")\n",
    "ax.get_legend().remove()\n",
    "sns.despine(fig=fig,ax=ax,top=True,right=True)\n",
    "fig.savefig(f\"{output}/bulk_atony_volcano.png\", dpi=300, bbox_inches=\"tight\")"
   ]
  },
  {
   "cell_type": "code",
   "execution_count": null,
   "id": "d8f39c20",
   "metadata": {},
   "outputs": [],
   "source": []
  }
 ],
 "metadata": {
  "kernelspec": {
   "display_name": "Python 3 (ipykernel)",
   "language": "python",
   "name": "python3"
  },
  "language_info": {
   "codemirror_mode": {
    "name": "ipython",
    "version": 3
   },
   "file_extension": ".py",
   "mimetype": "text/x-python",
   "name": "python",
   "nbconvert_exporter": "python",
   "pygments_lexer": "ipython3",
   "version": "3.7.11"
  }
 },
 "nbformat": 4,
 "nbformat_minor": 5
}
