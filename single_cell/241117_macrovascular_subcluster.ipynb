{
 "cells": [
  {
   "cell_type": "code",
   "execution_count": null,
   "id": "3a02f3e6-8db8-4501-bba8-8e8714429c2f",
   "metadata": {},
   "outputs": [],
   "source": [
    "import scanpy as sc\n",
    "\n",
    "# Only needed for processing\n",
    "import numpy as np\n",
    "import pandas as pd\n",
    "import os \n",
    "import seaborn as sns\n",
    "import matplotlib.pyplot as plt\n",
    "pd.set_option('display.max_rows', 500)\n",
    "import liana as li\n",
    "import anndata\n",
    "\n",
    "sc.set_figure_params(dpi=300,dpi_save=300, format=\"svg\",fontsize=10)\n",
    "\n",
    "sns.set_style('white', rc={\n",
    "    'xtick.bottom': True,\n",
    "    'ytick.left': True,\n",
    "})\n",
    "plt.rcParams[\"font.family\"] = \"Arial\"\n",
    "output_fol = '/home/carsten/alvira_bioinformatics/uterus/data/pilot/241117_macrovascular_subcluster'\n",
    "os.makedirs(output_fol,exist_ok=True)\n",
    "sc.settings.figdir = output_fol\n"
   ]
  },
  {
   "cell_type": "code",
   "execution_count": null,
   "id": "a8b292ed-173d-4671-ba28-0f967e3ce5e1",
   "metadata": {},
   "outputs": [],
   "source": [
    "uterus_adata = sc.read('/home/carsten/alvira_bioinformatics/uterus/data/single_cell_files/scanpy_files/uterus_processed_celltyped.gz.h5ad')\n",
    "ct_order=['Ciliated', 'Epithelial', 'Glandular', 'Lumenal',\n",
    "         'Capillary','Lymphatic EC', 'Macrovascular',\n",
    "          'Basophil', 'Dendritic', 'Myeloid','Proliferative myeloid','NK cell',  'T cell',\n",
    "          'Matrix fibroblast','Vessel fibroblast','Trophoblast','Uterine smooth muscle', 'Vascular smooth muscle',\n",
    "         ]\n",
    "uterus_adata.obs['Cell Subtype'] = pd.Categorical(uterus_adata.obs['Cell Subtype'], categories=ct_order)\n",
    "uterus_adata.obs['organ_tissue'] = 'Myometrium'\n"
   ]
  },
  {
   "cell_type": "code",
   "execution_count": null,
   "id": "72bcfb30",
   "metadata": {},
   "outputs": [],
   "source": [
    "macrovascular_adata = sc.read('/home/carsten/alvira_bioinformatics/uterus/data/figures/subcluster/Macrovascular/Macrovascular_adata.gz.h5ad')\n",
    "macrovascular_adata.uns['log1p']['base']=None\n",
    "sc.tl.leiden(macrovascular_adata, resolution=0.1)\n",
    "sc.pl.umap(macrovascular_adata,color='leiden',save='macrovascular_releiden.svg')\n",
    "leiden_dict = {'0':'Arterial EC',\n",
    "              '1':'Venous EC'}\n",
    "macrovascular_adata.obs['Cell Subtype'] = [leiden_dict[x] for x in macrovascular_adata.obs['leiden']]\n",
    "sc.pl.umap(macrovascular_adata,color='Cell Subtype',save='macrovascular_celltype.svg')\n",
    "sc.tl.rank_genes_groups(macrovascular_adata,'Cell Subtype',method='wilcoxon')\n",
    "sc.pl.rank_genes_groups_dotplot(macrovascular_adata,dendrogram=False)"
   ]
  },
  {
   "cell_type": "code",
   "execution_count": null,
   "id": "a24e7207",
   "metadata": {},
   "outputs": [],
   "source": []
  },
  {
   "cell_type": "code",
   "execution_count": null,
   "id": "ac1023b2",
   "metadata": {},
   "outputs": [],
   "source": [
    "jess_genes = {'Art':['COL8A1','GJA5','PDE3A','SETBP1','BMP6','MMP16','EXT1','HMCN1','CDH13','FAM189A1','ELN','TOX'],\n",
    "              'Ven':['EBF1','NOSTRIN','TSHZ2','GALNT18'],\n",
    "             }\n",
    "\n",
    "sc.pl.dotplot(macrovascular_adata, jess_genes,groupby='Cell Subtype')"
   ]
  },
  {
   "cell_type": "code",
   "execution_count": null,
   "id": "30cd67e5",
   "metadata": {},
   "outputs": [],
   "source": [
    "endo_adata = uterus_adata[uterus_adata.obs['Lineage']=='Endothelial']\n",
    "endo_adata.obs['Macro_sub'] = macrovascular_adata.obs['Cell Subtype']"
   ]
  },
  {
   "cell_type": "code",
   "execution_count": null,
   "id": "3424b12f",
   "metadata": {},
   "outputs": [],
   "source": [
    "endo_adata.obs['Macro_sub']"
   ]
  },
  {
   "cell_type": "code",
   "execution_count": null,
   "id": "ce3820fa",
   "metadata": {},
   "outputs": [],
   "source": [
    "endo_adata.obs['Cell Subtype']= [x if x!='Macrovascular' else y for x,y in zip(endo_adata.obs['Cell Subtype'],endo_adata.obs['Macro_sub'])]\n",
    "sc.pl.embedding(endo_adata,basis='X_umap_Endothelial',color='Cell Subtype',save='celltype.svg')\n",
    "sc.pl.dotplot(endo_adata,jess_genes,groupby='Cell Subtype',save='genes.svg')\n",
    "                            "
   ]
  },
  {
   "cell_type": "code",
   "execution_count": null,
   "id": "3ed65d38",
   "metadata": {},
   "outputs": [],
   "source": [
    "gene_ls = jess_genes['Art'] + jess_genes['Ven']\n",
    "sc.pl.embedding(endo_adata,basis='X_umap_Endothelial',color=gene_ls,save='genes.svg',cmap='viridis'\n",
    "          )"
   ]
  },
  {
   "cell_type": "code",
   "execution_count": null,
   "id": "671c3d2b",
   "metadata": {},
   "outputs": [],
   "source": [
    "sc.tl.rank_genes_groups(macrovascular_adata,'Cell Subtype',method='wilcoxon',pts=True)\n",
    "sc.pl.rank_genes_groups_dotplot(macrovascular_adata,save='macrovascular_comparison.svg')\n",
    "df = sc.get.rank_genes_groups_df(\n",
    "                    macrovascular_adata, group=\"Arterial EC\"\n",
    "                )\n",
    "df = df.rename({'pct_nz_group':'Arterial_%expressed',\n",
    "                  'pct_nz_reference':'Venous_%expressed'},axis=1)\n",
    "df.to_csv(f'{output_fol}/arterial_venous_degs.csv')"
   ]
  },
  {
   "cell_type": "code",
   "execution_count": null,
   "id": "c2abe497",
   "metadata": {},
   "outputs": [],
   "source": []
  }
 ],
 "metadata": {
  "kernelspec": {
   "display_name": "Python 3 (ipykernel)",
   "language": "python",
   "name": "python3"
  },
  "language_info": {
   "codemirror_mode": {
    "name": "ipython",
    "version": 3
   },
   "file_extension": ".py",
   "mimetype": "text/x-python",
   "name": "python",
   "nbconvert_exporter": "python",
   "pygments_lexer": "ipython3",
   "version": "3.7.11"
  }
 },
 "nbformat": 4,
 "nbformat_minor": 5
}
