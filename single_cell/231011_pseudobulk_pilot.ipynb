{
 "cells": [
  {
   "cell_type": "code",
   "execution_count": null,
   "id": "45e61059-fcfd-4902-94fe-ae7eec50246d",
   "metadata": {},
   "outputs": [],
   "source": [
    "'''\n",
    "Goal: Pilot psuedobulk for uterus snRNA-seq \n",
    "Author:Carsten Knutsen\n",
    "Date:231011\n",
    "conda_env:pseudobulk\n",
    "Notes: Adapted from decoupler tutorial https://decoupler-py.readthedocs.io/en/latest/notebooks/pseudobulk.html\n",
    "'''"
   ]
  },
  {
   "cell_type": "code",
   "execution_count": null,
   "id": "3a02f3e6-8db8-4501-bba8-8e8714429c2f",
   "metadata": {},
   "outputs": [],
   "source": [
    "import scanpy as sc\n",
    "import decoupler as dc\n",
    "\n",
    "# Only needed for processing\n",
    "import numpy as np\n",
    "import pandas as pd\n",
    "pd.set_option('display.max_rows', 500)\n",
    "\n",
    "# Needed for some plotting\n",
    "import matplotlib.pyplot as plt\n",
    "import os\n",
    "from pydeseq2.dds import DeseqDataSet\n",
    "from pydeseq2.ds import DeseqStats\n",
    "\n",
    "output = '/home/carsten/alvira_bioinformatics/uterus/data/pilot/231011_pseudobulk_pilot'\n",
    "os.makedirs(output, exist_ok=True)"
   ]
  },
  {
   "cell_type": "code",
   "execution_count": null,
   "id": "270f30fe",
   "metadata": {},
   "outputs": [],
   "source": []
  },
  {
   "cell_type": "code",
   "execution_count": null,
   "id": "a8b292ed-173d-4671-ba28-0f967e3ce5e1",
   "metadata": {},
   "outputs": [],
   "source": [
    "adata = sc.read('/home/carsten/alvira_bioinformatics/uterus/data/single_cell_files/scanpy_files/uterus_processed_celltyped.gz.h5ad')\n",
    "adata = adata[~adata.obs['Cell Subtype'].isna()]\n",
    "adata.obs['Contractility'] = adata.obs['Contractility'].cat.add_categories(['ND']).fillna(\"ND\")\n",
    "adata.obs['GroupContract'] = adata.obs['Group'].astype('str') + '-' + adata.obs['Contractility'].astype('str')"
   ]
  },
  {
   "cell_type": "code",
   "execution_count": null,
   "id": "97733169-e3ec-4c7e-8bbd-fde9569a979e",
   "metadata": {},
   "outputs": [],
   "source": [
    "sc.pl.dotplot(adata[adata.obs['Cell Subtype']=='Artery'], \n",
    "              ['ECHDC2','ID3','CXCL2'], \n",
    "              use_raw=False,\n",
    "              groupby='GroupContract')"
   ]
  },
  {
   "cell_type": "code",
   "execution_count": null,
   "id": "23bc0455-bbc4-45b8-b8de-3212eacbc63f",
   "metadata": {},
   "outputs": [],
   "source": [
    "adata"
   ]
  },
  {
   "cell_type": "code",
   "execution_count": null,
   "id": "d2943ee3-8749-449f-bcf1-cf95c1a3fab7",
   "metadata": {},
   "outputs": [],
   "source": [
    "adata.obs.groupby('Cell Subtype')['Patient'].value_counts()"
   ]
  },
  {
   "cell_type": "code",
   "execution_count": null,
   "id": "89fcd715-b850-4c28-b81c-87d39bc6b4d9",
   "metadata": {},
   "outputs": [],
   "source": [
    "pdata = dc.get_pseudobulk(\n",
    "    adata,\n",
    "    sample_col='Patient',\n",
    "    groups_col='Cell Subtype',\n",
    "    layer='soupx',\n",
    "    mode='sum',\n",
    "    min_cells=0,\n",
    "    min_counts=0\n",
    ")\n",
    "pdata"
   ]
  },
  {
   "cell_type": "code",
   "execution_count": null,
   "id": "775e1787-189b-4e1e-9b0b-3e2105b167ff",
   "metadata": {},
   "outputs": [],
   "source": [
    "dc.plot_psbulk_samples(pdata, groupby=['Patient', 'Cell Subtype'], figsize=(11, 3))"
   ]
  },
  {
   "cell_type": "code",
   "execution_count": null,
   "id": "07bfc2a0-50b9-4067-a34c-d961016ef19a",
   "metadata": {},
   "outputs": [],
   "source": [
    "pp_adata = pdata.copy()\n",
    "sc.pp.normalize_total(pp_adata, target_sum=1e6)\n",
    "sc.pp.log1p(pp_adata)\n",
    "sc.pp.scale(pp_adata, max_value=10)\n",
    "sc.tl.pca(pp_adata, n_comps=10)\n",
    "sc.pp.neighbors(pp_adata)\n",
    "sc.tl.umap(pp_adata, min_dist=0.1)"
   ]
  },
  {
   "cell_type": "code",
   "execution_count": null,
   "id": "945ae0e2-5c36-482f-9751-01e4610fbd32",
   "metadata": {},
   "outputs": [],
   "source": [
    "sc.pl.pca(pp_adata, color=['Lineage', 'Cell Subtype'], ncols=2, show=True, size=300)\n",
    "sc.pl.umap(pp_adata, color=['Lineage', 'Cell Subtype'], ncols=2, show=True, size=300)\n"
   ]
  },
  {
   "cell_type": "code",
   "execution_count": null,
   "id": "133a0d78-b4d1-4eab-91e5-37fb454a33a3",
   "metadata": {},
   "outputs": [],
   "source": [
    "pp_adata.obs['celltype'] = pp_adata.obs['Cell Subtype']\n",
    "dc.get_metadata_associations(\n",
    "    pp_adata,\n",
    "    obs_keys = ['Group', 'Contractility', 'Term', 'Labor','Lineage','celltype', 'psbulk_n_cells', 'psbulk_counts'], #metadata columns to associate to PCs\n",
    "    obsm_key='X_pca',  # where the PCs are stored\n",
    "    uns_key='pca_anova',  # where the results are stored\n",
    "    inplace=True\n",
    ")"
   ]
  },
  {
   "cell_type": "code",
   "execution_count": null,
   "id": "84567007-a569-4dbe-b900-11a368cdf477",
   "metadata": {},
   "outputs": [],
   "source": [
    "# plt.figure(figsize=(7,10))\n",
    "# ax, legend_axes = dc.plot_associations(\n",
    "#     pp_adata,\n",
    "#     uns_key='pca_anova',  # summary statistics from the anova tests\n",
    "#     obsm_key='X_pca',  # where the PCs are stored\n",
    "#     stat_col='p_adj',  # which summary statistic to plot\n",
    "#     obs_annotation_cols = ['Cell Subtype'], # which sample annotations to plot\n",
    "#     titles=['Adjusted p-values from ANOVA', 'Principle component scores']\n",
    "# )\n",
    "# plt.show()"
   ]
  },
  {
   "cell_type": "code",
   "execution_count": null,
   "id": "ff8c1f61-9274-4f47-8821-e254bbda2000",
   "metadata": {},
   "outputs": [],
   "source": [
    "'''\n",
    "Term_Non-Laboring_Good_Contractility vs. Term_Non-Laboring_Bad_Contractility\n",
    "Term_Non-Laboring_Good_Contractility vs. Preterm_Non-Laboring\n",
    "\n",
    "Term_Non-Laboring_Good_Contractility vs. Term_Laboring\n",
    "'''"
   ]
  },
  {
   "cell_type": "code",
   "execution_count": null,
   "id": "e2c293f2-eb79-4934-9bcf-74af9823b410",
   "metadata": {},
   "outputs": [],
   "source": [
    "comparison_dictionary = {'TNL_GC_v_TNL_BC':['TNL-BC','TNL-GC'],\n",
    "                         'TNL_GC_v_PNL_ND':['PNL-ND', 'TNL-GC'],\n",
    "                         'TNL_GC_v_TL_ND':['TL-ND', 'TNL-GC']\n",
    "                        }\n",
    "comp_dict={}\n",
    "for key in comparison_dictionary.keys():\n",
    "    comp_list = comparison_dictionary[key]\n",
    "    print(comp_list)\n",
    "    compare_pseudo = pdata[pdata.obs['GroupContract'].isin(comp_list)]\n",
    "    print(compare_pseudo)\n",
    "    ct_dict = {}\n",
    "    for ct in adata.obs['Cell Subtype'].unique():\n",
    "        ct_adata = compare_pseudo[compare_pseudo.obs['Cell Subtype'] == ct]\n",
    "        print(ct_adata)\n",
    "        genes = dc.filter_by_expr(ct_adata, group='GroupContract', min_count=10, min_total_count=15)\n",
    "        ct_adata = ct_adata[:, genes].copy()\n",
    "        if len(genes)<100:\n",
    "            print(ct)\n",
    "            print('NOT ENOUGH GENES')\n",
    "            continue\n",
    "        print(ct_adata)\n",
    "        dds = DeseqDataSet(\n",
    "        adata=ct_adata,\n",
    "        design_factors='GroupContract',\n",
    "        ref_level=['GroupContract', sorted(ct_adata.obs['GroupContract'].unique())[0]],\n",
    "        refit_cooks=True,\n",
    "        n_cpus=8,\n",
    "    )\n",
    "        dds.deseq2()\n",
    "        contrast = ['GroupContract']+sorted(ct_adata.obs['GroupContract'].unique())\n",
    "        coeff = f'GroupContract_{contrast[-1]}_vs_{contrast[-2]}'\n",
    "        stat_res = DeseqStats(dds, contrast=contrast, n_cpus=8)\n",
    "        stat_res.summary()\n",
    "        stat_res.lfc_shrink(coeff=coeff)\n",
    "        results_df = stat_res.results_df\n",
    "        ct_dict[ct] = results_df.sort_values('pvalue')\n",
    "    comp_dict[key] =ct_dict"
   ]
  },
  {
   "cell_type": "code",
   "execution_count": null,
   "id": "c47bf1e6-cfbb-4554-a046-78c795aa5e82",
   "metadata": {},
   "outputs": [],
   "source": [
    "\n",
    "for key in comp_dict.keys():\n",
    "    ct_dict = comp_dict[key]\n",
    "    with pd.ExcelWriter(\n",
    "                f\"{output}/{key}_pseudobulk_comparisons.xlsx\", engine=\"xlsxwriter\"\n",
    "        ) as writer:\n",
    "        for key2 in sorted(ct_dict.keys()):\n",
    "            ct_df = ct_dict[key2]\n",
    "            ct_df.to_excel(writer, sheet_name=f\"{key2}\"[:31])"
   ]
  },
  {
   "cell_type": "code",
   "execution_count": null,
   "id": "051769c1-798d-4433-aee8-291c711c1fbd",
   "metadata": {},
   "outputs": [],
   "source": [
    "\n",
    "sc.pl.dotplot(adata[adata.obs['Cell Subtype']=='Artery'], \n",
    "              comp_dict['TNL_GC_v_TNL_BC']['Artery'].loc[comp_dict['TNL_GC_v_TNL_BC']['Artery']['padj']<0.1].head(10).index.tolist(), \n",
    "              use_raw=False,\n",
    "              groupby='GroupContract')"
   ]
  },
  {
   "cell_type": "code",
   "execution_count": null,
   "id": "3845ee7b-a3b6-4c3d-9583-018ec513da92",
   "metadata": {},
   "outputs": [],
   "source": []
  }
 ],
 "metadata": {
  "kernelspec": {
   "display_name": "Python 3 (ipykernel)",
   "language": "python",
   "name": "python3"
  },
  "language_info": {
   "codemirror_mode": {
    "name": "ipython",
    "version": 3
   },
   "file_extension": ".py",
   "mimetype": "text/x-python",
   "name": "python",
   "nbconvert_exporter": "python",
   "pygments_lexer": "ipython3",
   "version": "3.7.11"
  }
 },
 "nbformat": 4,
 "nbformat_minor": 5
}
