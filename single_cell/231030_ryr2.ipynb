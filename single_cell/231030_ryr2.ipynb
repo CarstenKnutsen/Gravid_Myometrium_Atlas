{
 "cells": [
  {
   "cell_type": "code",
   "execution_count": null,
   "id": "45e61059-fcfd-4902-94fe-ae7eec50246d",
   "metadata": {},
   "outputs": [],
   "source": [
    "'''\n",
    "Goal:Look at Ryr2\n",
    "Author:Carsten Knutsen\n",
    "Date:231031\n",
    "conda_env:acz_sc\n",
    "Notes: compare bulk DEGs in single cell\n",
    "'''"
   ]
  },
  {
   "cell_type": "code",
   "execution_count": null,
   "id": "3a02f3e6-8db8-4501-bba8-8e8714429c2f",
   "metadata": {},
   "outputs": [],
   "source": [
    "import scanpy as sc\n",
    "\n",
    "# Only needed for processing\n",
    "import numpy as np\n",
    "import pandas as pd\n",
    "import os \n",
    "pd.set_option('display.max_rows', 500)\n",
    "\n",
    "output = '/home/carsten/alvira_bioinformatics/uterus/data/pilot/231031_ryr2'\n",
    "os.makedirs(output, exist_ok=True)"
   ]
  },
  {
   "cell_type": "code",
   "execution_count": null,
   "id": "a8b292ed-173d-4671-ba28-0f967e3ce5e1",
   "metadata": {},
   "outputs": [],
   "source": [
    "adata = sc.read('/home/carsten/alvira_bioinformatics/uterus/data/single_cell_files/scanpy_files/uterus_processed_celltyped.gz.h5ad')\n"
   ]
  },
  {
   "cell_type": "code",
   "execution_count": null,
   "id": "d528bbd1",
   "metadata": {},
   "outputs": [],
   "source": []
  },
  {
   "cell_type": "code",
   "execution_count": null,
   "id": "d39092c6",
   "metadata": {},
   "outputs": [],
   "source": [
    "\n",
    "sc.pl.DotPlot(adata,['ACTA2','ADGRL3','DPP6','CDH5'],standard_scale='var',groupby='Cell Subtype').style(cmap='Reds').legend(width=2).add_totals().show()"
   ]
  },
  {
   "cell_type": "code",
   "execution_count": null,
   "id": "d56bd08c",
   "metadata": {},
   "outputs": [],
   "source": [
    "genes = ['TRPV4','RYR2','OXTR','NOS1','NOS2','NOS3']\n",
    "# sc.pl.umap(adata,color = genes)\n",
    "sc.pl.DotPlot(adata,genes,standard_scale='var',groupby='Cell Subtype').style(cmap='Reds').legend(width=2).add_totals().show()"
   ]
  },
  {
   "cell_type": "code",
   "execution_count": null,
   "id": "1a39d5f7",
   "metadata": {},
   "outputs": [],
   "source": [
    "sc.pl.dotplot(adata[adata.obs['Cell Subtype']=='Artery'], \n",
    "              ['ECHDC2','ID3','CXCL2','TSPAN18'], \n",
    "              use_raw=False,\n",
    "              groupby='GroupContract')"
   ]
  },
  {
   "cell_type": "code",
   "execution_count": null,
   "id": "c25cc4dc",
   "metadata": {},
   "outputs": [],
   "source": [
    "genes = ['ECHDC2','ID3','CXCL2','TSPAN18', 'CXCR2','ACKR3']\n",
    "# sc.pl.umap(adata,color = genes)\n",
    "sc.pl.DotPlot(adata,genes,standard_scale='var',groupby='Cell Subtype').style(cmap='Reds').legend(width=2).add_totals().show()"
   ]
  },
  {
   "cell_type": "code",
   "execution_count": null,
   "id": "c59ffaca",
   "metadata": {},
   "outputs": [],
   "source": [
    "sc.pl.DotPlot(adata,['PAEP','B2M','MGP','DEC1'],groupby='Cell Subtype').style(cmap='Reds').legend(width=2).add_totals().show()"
   ]
  },
  {
   "cell_type": "code",
   "execution_count": null,
   "id": "3c2a196f",
   "metadata": {},
   "outputs": [],
   "source": [
    "sc.pl.dotplot(adata[adata.obs['Cell Subtype']=='Uterine smooth muscle'], \n",
    "              ['PAEP','B2M','MGP','DEC1','DDX24','ITM2B'], \n",
    "              use_raw=False,\n",
    "              groupby='GroupContract')"
   ]
  },
  {
   "cell_type": "code",
   "execution_count": null,
   "id": "cef218b7",
   "metadata": {},
   "outputs": [],
   "source": [
    "sc.pl.dotplot(adata[adata.obs['Cell Subtype']=='Matrix fibroblast'], \n",
    "              ['PER3'], \n",
    "              use_raw=False,\n",
    "              groupby='GroupContract')"
   ]
  },
  {
   "cell_type": "code",
   "execution_count": null,
   "id": "2d125b86",
   "metadata": {},
   "outputs": [],
   "source": [
    "genes = ['PER3']\n",
    "# sc.pl.umap(adata,color = genes)\n",
    "sc.pl.DotPlot(adata,genes,standard_scale='var',groupby='Cell Subtype').style(cmap='Reds').legend(width=2).add_totals().show()"
   ]
  },
  {
   "cell_type": "code",
   "execution_count": null,
   "id": "69a06e59",
   "metadata": {},
   "outputs": [],
   "source": [
    "sc.pl.dotplot(adata[adata.obs['Cell Subtype']=='Matrix fibroblast'], \n",
    "              ['B3GALT5'], \n",
    "              use_raw=False,\n",
    "              groupby='GroupContract')"
   ]
  },
  {
   "cell_type": "code",
   "execution_count": null,
   "id": "64ccfa83",
   "metadata": {},
   "outputs": [],
   "source": [
    "adata.obs.groupby('GroupContract')['Cell Subtype'].value_counts(normalize=True)"
   ]
  },
  {
   "cell_type": "code",
   "execution_count": null,
   "id": "97733169-e3ec-4c7e-8bbd-fde9569a979e",
   "metadata": {},
   "outputs": [],
   "source": [
    "sc.pl.dotplot(adata[adata.obs['Cell Subtype']=='Artery'], \n",
    "              ['LSAMP','CXCL2','SLFN12L','TSPAN18'], \n",
    "              use_raw=False,\n",
    "              groupby='GroupContract')"
   ]
  },
  {
   "cell_type": "code",
   "execution_count": null,
   "id": "23bc0455-bbc4-45b8-b8de-3212eacbc63f",
   "metadata": {},
   "outputs": [],
   "source": [
    "adata"
   ]
  },
  {
   "cell_type": "code",
   "execution_count": null,
   "id": "5cd9080a",
   "metadata": {},
   "outputs": [],
   "source": []
  }
 ],
 "metadata": {
  "kernelspec": {
   "display_name": "Python 3 (ipykernel)",
   "language": "python",
   "name": "python3"
  },
  "language_info": {
   "codemirror_mode": {
    "name": "ipython",
    "version": 3
   },
   "file_extension": ".py",
   "mimetype": "text/x-python",
   "name": "python",
   "nbconvert_exporter": "python",
   "pygments_lexer": "ipython3",
   "version": "3.7.11"
  }
 },
 "nbformat": 4,
 "nbformat_minor": 5
}
