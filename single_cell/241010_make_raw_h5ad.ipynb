{
 "cells": [
  {
   "cell_type": "code",
   "execution_count": null,
   "id": "3a02f3e6-8db8-4501-bba8-8e8714429c2f",
   "metadata": {},
   "outputs": [],
   "source": [
    "import scanpy as sc\n",
    "\n",
    "# Only needed for processing\n",
    "import numpy as np\n",
    "import pandas as pd\n",
    "import os \n",
    "import os\n",
    "import scanpy as sc\n",
    "import numpy as np\n",
    "import pandas as pd\n",
    "import string\n",
    "import anndata\n",
    "from gtfparse import read_gtf\n",
    "from anndata import AnnData\n",
    "from collections import defaultdict\n",
    "\n",
    "pd.set_option('display.max_rows', 500)\n",
    "\n",
    "output = '/home/carsten/alvira_bioinformatics/uterus/data/pilot/241010_make_raw_h5ad'\n",
    "os.makedirs(output, exist_ok=True)"
   ]
  },
  {
   "cell_type": "code",
   "execution_count": null,
   "id": "a8b292ed-173d-4671-ba28-0f967e3ce5e1",
   "metadata": {},
   "outputs": [],
   "source": [
    "adata_orig = sc.read('/home/carsten/alvira_bioinformatics/uterus/data/single_cell_files/scanpy_files/uterus_processed_celltyped.gz.h5ad')\n"
   ]
  },
  {
   "cell_type": "code",
   "execution_count": null,
   "id": "a1d7dbb0",
   "metadata": {},
   "outputs": [],
   "source": [
    "adata_orig"
   ]
  },
  {
   "cell_type": "code",
   "execution_count": null,
   "id": "51d058f7",
   "metadata": {},
   "outputs": [],
   "source": [
    "gtf_fn = '/media/carsten/hdd/genomes/human/cellranger/refdata-gex-GRCh38-2020-A/genes/genes.gtf'\n",
    "data = '/home/carsten/alvira_bioinformatics/uterus/data/single_cell_files/cellranger_output'\n",
    "def read_adata(folder):\n",
    "    adata = sc.read_mtx(f'{folder}/outs/filtered_feature_bc_matrix/matrix.mtx.gz').T\n",
    "    features = pd.read_csv(f'{folder}/outs/filtered_feature_bc_matrix/features.tsv.gz',\n",
    "                          sep = '\\t',\n",
    "                          header = None)\n",
    "    bc = pd.read_csv(f'{folder}/outs/filtered_feature_bc_matrix/barcodes.tsv.gz',\n",
    "                          sep = '\\t',\n",
    "                    header = None)\n",
    "    features.rename(columns={0:'gene_id',\n",
    "                            1: 'gene_symbol',\n",
    "                            2: 'category'},\n",
    "                   inplace = True)\n",
    "\n",
    "    adata.var = features\n",
    "    adata.obs_names = bc[0]\n",
    "    adata.var_names = adata.var['gene_id'].values\n",
    "    return adata"
   ]
  },
  {
   "cell_type": "code",
   "execution_count": null,
   "id": "897c4509",
   "metadata": {},
   "outputs": [],
   "source": [
    "runs = os.listdir(data)\n",
    "adatas = []\n",
    "gtf = read_gtf(gtf_fn)\n",
    "print(gtf.columns)\n",
    "gtf['gene_id'] = gtf['gene_id'].str.split('.').str[0]\n",
    "\n",
    "gene_name_dict = pd.Series(gtf.gene_name.values, index=gtf.gene_id).to_dict()\n",
    "for x in gene_name_dict.keys():\n",
    "    if gene_name_dict[x] == '':\n",
    "        gene_name_dict[x] = x\n",
    "for run in runs:\n",
    "    print(run)\n",
    "    folder = f'{data}/{run}'\n",
    "    adata = read_adata(folder)\n",
    "    adata.var_names = [gene_name_dict[x] for x in adata.var_names]\n",
    "    adata.var_names_make_unique()\n",
    "    adata.obs_names = run + '_' + adata.obs_names\n",
    "    adata.obs['Patient'] = run.split('_')[-2]\n",
    "    adata.obs['Group'] = run.split('_')[0]\n",
    "    adata.obs['Contractility'] =[run.split('_')[1] if run.startswith('TN') else 'ND'][0]\n",
    "    adata.obs['GroupContract'] = adata.obs['Group'].astype('str') + '-' + adata.obs['Contractility'].astype('str')\n",
    "    adata.obs['Term'] = ['Term' if run.startswith('T') else 'Preterm'][0]\n",
    "    adata.obs['Labor'] = ['Nonlaboring' if run[1]=='N' else 'Laboring'][0]\n",
    "    adatas.append(adata.copy())\n",
    "adata = anndata.concat(adatas)    \n"
   ]
  },
  {
   "cell_type": "code",
   "execution_count": null,
   "id": "c7ee58f7",
   "metadata": {},
   "outputs": [],
   "source": [
    "for column in ['gene_id', 'gene_type', 'seqname', 'transcript_name', 'protein_id']:\n",
    "    temp_dict = pd.Series(gtf[column].values, index=gtf['gene_name']).to_dict()\n",
    "    temp_dict.update(pd.Series(gtf[column].values, index=gtf['gene_id']).to_dict())\n",
    "    temp_dict = defaultdict(lambda: None, temp_dict)\n",
    "    adata.var[column] = [temp_dict[x] for x in adata.var.index]"
   ]
  },
  {
   "cell_type": "code",
   "execution_count": null,
   "id": "0424be97",
   "metadata": {},
   "outputs": [],
   "source": [
    "adata1 = adata[adata_orig.obs_names,:].copy()\n",
    "adata1.obs = adata_orig.obs.copy()\n",
    "adata1.var['seqname'].unique()"
   ]
  },
  {
   "cell_type": "code",
   "execution_count": null,
   "id": "081ae1f6",
   "metadata": {},
   "outputs": [],
   "source": [
    "adata1"
   ]
  },
  {
   "cell_type": "code",
   "execution_count": null,
   "id": "256310ce",
   "metadata": {},
   "outputs": [],
   "source": [
    "adata1.write(f'{output}/uterus_processed_celltyped_raw.gz.h5ad',compression='gzip')\n"
   ]
  },
  {
   "cell_type": "code",
   "execution_count": null,
   "id": "cd3af95f",
   "metadata": {},
   "outputs": [],
   "source": [
    "adata1 = adata[adata_orig.obs_names,adata_orig.var_names]\n",
    "adata1\n",
    "adata_orig.layers['raw'] = adata1.X.copy()\n"
   ]
  },
  {
   "cell_type": "code",
   "execution_count": null,
   "id": "86885768",
   "metadata": {},
   "outputs": [],
   "source": [
    "adata2 = adata_orig.copy()\n",
    "adata2.X = adata_orig.layers['raw'].copy()\n",
    "sc.pp.normalize_total(adata2)\n",
    "sc.pp.log1p(adata2)\n",
    "sc.pl.umap(adata2,color='OXTR')"
   ]
  },
  {
   "cell_type": "code",
   "execution_count": null,
   "id": "6f61b2c2",
   "metadata": {},
   "outputs": [],
   "source": [
    "sc.pl.umap(adata2,color='ACTA2')\n",
    "sc.pl.umap(adata2,color='Cell Subtype')"
   ]
  },
  {
   "cell_type": "code",
   "execution_count": null,
   "id": "763de248",
   "metadata": {},
   "outputs": [],
   "source": [
    "adata_orig.write('/home/carsten/alvira_bioinformatics/uterus/data/single_cell_files/scanpy_files/uterus_processed_celltyped_raw.gz.h5ad')\n"
   ]
  },
  {
   "cell_type": "code",
   "execution_count": null,
   "id": "6d3d0158",
   "metadata": {},
   "outputs": [],
   "source": [
    "adata_orig.X = adata_orig.layers['raw'].copy()\n",
    "del adata_orig.layers\n",
    "adata_orig"
   ]
  },
  {
   "cell_type": "code",
   "execution_count": null,
   "id": "bd1e3841",
   "metadata": {},
   "outputs": [],
   "source": [
    "adata_orig.write('/home/carsten/alvira_bioinformatics/uterus/data/single_cell_files/scanpy_files/uterus_processed_celltyped_raw.gz.h5ad',compression='gzip')\n"
   ]
  },
  {
   "cell_type": "code",
   "execution_count": null,
   "id": "685dfc11",
   "metadata": {},
   "outputs": [],
   "source": [
    "sc.pl.umap(adata,color='Cell Subtype')"
   ]
  },
  {
   "cell_type": "code",
   "execution_count": null,
   "id": "f5a82306",
   "metadata": {},
   "outputs": [],
   "source": [
    "adata.obs['Cell Subtype'].value_counts(normalize=True)"
   ]
  },
  {
   "cell_type": "code",
   "execution_count": null,
   "id": "d74c4e82",
   "metadata": {},
   "outputs": [],
   "source": [
    "adata.obs['Cell Subtype'].unique()"
   ]
  },
  {
   "cell_type": "code",
   "execution_count": null,
   "id": "4b97cf39",
   "metadata": {},
   "outputs": [],
   "source": [
    "sc.pl.dotplot(adata,['ACTA2','OXTR','DPP6','NOTCH3','AVPR1A','RYR2','TRPV4','SULF1'],groupby='Cell Subtype')"
   ]
  },
  {
   "cell_type": "code",
   "execution_count": null,
   "id": "580ca823",
   "metadata": {},
   "outputs": [],
   "source": [
    "sc.pl.dotplot(adata,['ACTA2','OXTR','DPP6','NOTCH3','PDE3A','PDE4D'],groupby='Cell Subtype')"
   ]
  },
  {
   "cell_type": "code",
   "execution_count": null,
   "id": "203ed990",
   "metadata": {},
   "outputs": [],
   "source": [
    "genes=['AC079793.1',\n",
    "'ADGRL3',\n",
    "'ARHGAP15',\n",
    "'DPP6',\n",
    "'EDIL3',\n",
    "'FHL5',\n",
    "'GALNT17',\n",
    "'HDAC9',\n",
    "'KCNMA1',\n",
    "'LINGO2',\n",
    "'MYH11',\n",
    "'NOTCH3',\n",
    "'PARM1',\n",
    "'PCA3',\n",
    "'PDE3A',\n",
    "'PDE4D',\n",
    "'PRUNE2',\n",
    "'SORBS2',\n",
    "'SYTL2',\n",
    "]\n",
    "sc.pl.dotplot(adata,genes,groupby='Cell Subtype')"
   ]
  },
  {
   "cell_type": "code",
   "execution_count": null,
   "id": "abcd6485",
   "metadata": {},
   "outputs": [],
   "source": [
    "adata"
   ]
  },
  {
   "cell_type": "code",
   "execution_count": null,
   "id": "c9a69e4a",
   "metadata": {},
   "outputs": [],
   "source": [
    "sc.pl.dotplot(adata[adata.obs['Cell Subtype']=='Uterine smooth muscle'],['SULF1','GREM1'],groupby='GroupContract')"
   ]
  },
  {
   "cell_type": "code",
   "execution_count": null,
   "id": "91c8f4ab",
   "metadata": {},
   "outputs": [],
   "source": [
    "\n",
    "adata.obs['Cell Subtype'].value_counts(normalize=True)*100"
   ]
  },
  {
   "cell_type": "code",
   "execution_count": null,
   "id": "6a386b36",
   "metadata": {},
   "outputs": [],
   "source": [
    "sc.pl.umap(adata,color=['ACTA2','TAGLN','MYH11','OXTR','NOTCH3'])"
   ]
  },
  {
   "cell_type": "code",
   "execution_count": null,
   "id": "44e88645",
   "metadata": {},
   "outputs": [],
   "source": [
    "sc.pl.dotplot(adata,\n",
    "               ['ACTA2','TAGLN','MYH11','OXTR','NOTCH3','TRPV4','TRPC4'],\n",
    "             groupby='Cell Subtype')"
   ]
  },
  {
   "cell_type": "code",
   "execution_count": null,
   "id": "a06e3796",
   "metadata": {},
   "outputs": [],
   "source": [
    "sc.pl.umap(adata,color='OXTR')"
   ]
  },
  {
   "cell_type": "code",
   "execution_count": null,
   "id": "00f3064d",
   "metadata": {},
   "outputs": [],
   "source": [
    "lin = 'Immune'\n",
    "lin_adata = adata[adata.obs['Lineage']=='Immune']\n",
    "sc.pl.embedding(lin_adata,\n",
    "               basis=f'X_umap_{lin}',\n",
    "               color=f'leiden_{lin}',\n",
    "               legend_loc='on data'\n",
    "               )\n",
    "sc.pl.embedding(lin_adata,\n",
    "               basis=f'X_umap_{lin}',\n",
    "               color='Cell Subtype',\n",
    "               legend_loc='on data')"
   ]
  },
  {
   "cell_type": "code",
   "execution_count": null,
   "id": "47f8d568",
   "metadata": {},
   "outputs": [],
   "source": [
    "sc.pl.embedding(lin_adata,\n",
    "               basis=f'X_umap_{lin}',\n",
    "               color='TPSB2',\n",
    "               legend_loc='on data')"
   ]
  },
  {
   "cell_type": "code",
   "execution_count": null,
   "id": "a43fa1bc",
   "metadata": {},
   "outputs": [],
   "source": [
    "sc.pl.dotplot(lin_adata,\n",
    "               ['TPSB2'],\n",
    "             groupby='Cell Subtype')"
   ]
  },
  {
   "cell_type": "code",
   "execution_count": null,
   "id": "447979a5",
   "metadata": {},
   "outputs": [],
   "source": [
    "adata.obs['Cell Subtype'].unique()"
   ]
  },
  {
   "cell_type": "code",
   "execution_count": null,
   "id": "4141a940",
   "metadata": {},
   "outputs": [],
   "source": [
    "gene_ls=['SOX9','PGR','ESR1','MMP7','MKI67','WNT7A','KRT5','LGR5','MUC12','CDC20B','DPP4','PAEP','CXCL14','HES6','FOXJ1','CCNO','IL6','VTCN1','MSLN','DST','SMAP1','LAMA4','WNT7A','KRT17','PAEP',\n",
    "        'PLAU','IL32','TNF','WNT7A','KRT17','KRT5','LGR5','IHH','EMID1','EPCAM','GPX3'\n",
    "        ]\n",
    "\n",
    "\n",
    "lin = adata[adata.obs['Lineage']=='Endometrial']\n",
    "sc.pl.dotplot(lin,gene_ls,groupby='leiden_Endometrial')"
   ]
  },
  {
   "cell_type": "code",
   "execution_count": null,
   "id": "088bb29c",
   "metadata": {},
   "outputs": [],
   "source": [
    "gene_ls=['NTM',\n",
    "         'CD4',\n",
    "        ]\n",
    "\n",
    "\n",
    "lin = adata[adata.obs['Lineage']=='Immune']\n",
    "sc.pl.dotplot(lin,gene_ls,groupby='leiden_Immune')"
   ]
  },
  {
   "cell_type": "code",
   "execution_count": null,
   "id": "267dbad9",
   "metadata": {},
   "outputs": [],
   "source": [
    "sc.pl.embedding(adata[adata.obs['Lineage']=='Endothelial'],\n",
    "               basis='X_umap_Endothelial',\n",
    "               color='Cell Subtype',\n",
    "               legend_loc='on data')"
   ]
  },
  {
   "cell_type": "code",
   "execution_count": null,
   "id": "b3e07179",
   "metadata": {},
   "outputs": [],
   "source": [
    "sc.pl.embedding(adata[adata.obs['Lineage']=='Endometrial'],\n",
    "               basis='X_umap_Endometrial',\n",
    "               color='Cell Subtype',\n",
    "               legend_loc='on data')"
   ]
  },
  {
   "cell_type": "code",
   "execution_count": null,
   "id": "d4df74ed",
   "metadata": {},
   "outputs": [],
   "source": [
    "sc.pl.embedding(adata[adata.obs['Lineage']=='Mesenchymal'],\n",
    "               basis='X_umap_Mesenchymal',\n",
    "               color='Cell Subtype',\n",
    "               legend_loc='on data')"
   ]
  },
  {
   "cell_type": "code",
   "execution_count": null,
   "id": "a7708328",
   "metadata": {},
   "outputs": [],
   "source": [
    "sc.pl.embedding(lin,\n",
    "               basis='X_umap_Immune',\n",
    "               color=gene_ls)"
   ]
  },
  {
   "cell_type": "code",
   "execution_count": null,
   "id": "d39092c6",
   "metadata": {},
   "outputs": [],
   "source": [
    "\n",
    "sc.pl.DotPlot(adata,['ACTA2','ADGRL3','DPP6','CDH5'],standard_scale='var',groupby='Cell Subtype').style(cmap='Reds').legend(width=2).add_totals().show()"
   ]
  },
  {
   "cell_type": "code",
   "execution_count": null,
   "id": "d56bd08c",
   "metadata": {},
   "outputs": [],
   "source": [
    "genes = ['TRPV4','RYR2','OXTR','NOS1','NOS2','NOS3']\n",
    "# sc.pl.umap(adata,color = genes)\n",
    "sc.pl.DotPlot(adata,genes,standard_scale='var',groupby='Cell Subtype').style(cmap='Reds').legend(width=2).add_totals().show()"
   ]
  },
  {
   "cell_type": "code",
   "execution_count": null,
   "id": "1a39d5f7",
   "metadata": {},
   "outputs": [],
   "source": [
    "sc.pl.dotplot(adata[adata.obs['Cell Subtype']=='Artery'], \n",
    "              ['ECHDC2','ID3','CXCL2','TSPAN18'], \n",
    "              use_raw=False,\n",
    "              groupby='GroupContract')"
   ]
  },
  {
   "cell_type": "code",
   "execution_count": null,
   "id": "c25cc4dc",
   "metadata": {},
   "outputs": [],
   "source": [
    "genes = ['ECHDC2','ID3','CXCL2','TSPAN18', 'CXCR2','ACKR3']\n",
    "# sc.pl.umap(adata,color = genes)\n",
    "sc.pl.DotPlot(adata,genes,standard_scale='var',groupby='Cell Subtype').style(cmap='Reds').legend(width=2).add_totals().show()"
   ]
  },
  {
   "cell_type": "code",
   "execution_count": null,
   "id": "c59ffaca",
   "metadata": {},
   "outputs": [],
   "source": [
    "sc.pl.DotPlot(adata,['PAEP','B2M','MGP','DEC1'],groupby='Cell Subtype').style(cmap='Reds').legend(width=2).add_totals().show()"
   ]
  },
  {
   "cell_type": "code",
   "execution_count": null,
   "id": "3c2a196f",
   "metadata": {},
   "outputs": [],
   "source": [
    "sc.pl.dotplot(adata[adata.obs['Cell Subtype']=='Uterine smooth muscle'], \n",
    "              ['PAEP','B2M','MGP','DEC1','DDX24','ITM2B'], \n",
    "              use_raw=False,\n",
    "              groupby='GroupContract')"
   ]
  },
  {
   "cell_type": "code",
   "execution_count": null,
   "id": "cef218b7",
   "metadata": {},
   "outputs": [],
   "source": [
    "sc.pl.dotplot(adata[adata.obs['Cell Subtype']=='Matrix fibroblast'], \n",
    "              ['PER3'], \n",
    "              use_raw=False,\n",
    "              groupby='GroupContract')"
   ]
  },
  {
   "cell_type": "code",
   "execution_count": null,
   "id": "2d125b86",
   "metadata": {},
   "outputs": [],
   "source": [
    "genes = ['PER3']\n",
    "# sc.pl.umap(adata,color = genes)\n",
    "sc.pl.DotPlot(adata,genes,standard_scale='var',groupby='Cell Subtype').style(cmap='Reds').legend(width=2).add_totals().show()"
   ]
  },
  {
   "cell_type": "code",
   "execution_count": null,
   "id": "69a06e59",
   "metadata": {},
   "outputs": [],
   "source": [
    "sc.pl.dotplot(adata[adata.obs['Cell Subtype']=='Matrix fibroblast'], \n",
    "              ['B3GALT5'], \n",
    "              use_raw=False,\n",
    "              groupby='GroupContract')"
   ]
  },
  {
   "cell_type": "code",
   "execution_count": null,
   "id": "64ccfa83",
   "metadata": {},
   "outputs": [],
   "source": [
    "adata.obs.groupby('GroupContract')['Cell Subtype'].value_counts(normalize=True)"
   ]
  },
  {
   "cell_type": "code",
   "execution_count": null,
   "id": "97733169-e3ec-4c7e-8bbd-fde9569a979e",
   "metadata": {},
   "outputs": [],
   "source": [
    "sc.pl.dotplot(adata[adata.obs['Cell Subtype']=='Artery'], \n",
    "              ['LSAMP','CXCL2','SLFN12L','TSPAN18'], \n",
    "              use_raw=False,\n",
    "              groupby='GroupContract')"
   ]
  },
  {
   "cell_type": "code",
   "execution_count": null,
   "id": "23bc0455-bbc4-45b8-b8de-3212eacbc63f",
   "metadata": {},
   "outputs": [],
   "source": [
    "adata"
   ]
  },
  {
   "cell_type": "code",
   "execution_count": null,
   "id": "5cd9080a",
   "metadata": {},
   "outputs": [],
   "source": []
  }
 ],
 "metadata": {
  "kernelspec": {
   "display_name": "Python 3 (ipykernel)",
   "language": "python",
   "name": "python3"
  },
  "language_info": {
   "codemirror_mode": {
    "name": "ipython",
    "version": 3
   },
   "file_extension": ".py",
   "mimetype": "text/x-python",
   "name": "python",
   "nbconvert_exporter": "python",
   "pygments_lexer": "ipython3",
   "version": "3.7.11"
  }
 },
 "nbformat": 4,
 "nbformat_minor": 5
}
