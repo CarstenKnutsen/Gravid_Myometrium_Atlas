{
 "cells": [
  {
   "cell_type": "code",
   "execution_count": null,
   "id": "216063a8",
   "metadata": {},
   "outputs": [],
   "source": [
    "import pandas as pd\n",
    "import numpy as np"
   ]
  },
  {
   "cell_type": "code",
   "execution_count": null,
   "id": "66d2a8b5",
   "metadata": {},
   "outputs": [],
   "source": [
    "degs = pd.read_excel('/home/carsten/alvira_bioinformatics/myometrium/data/jci.insight.153921.sdt10.xlsx',\n",
    "                  header = 1, \n",
    "                  index_col = 1)\n",
    "csm = pd.read_excel('/home/carsten/alvira_bioinformatics/data/marker_gene_lists/raw_data/cell_surface_marker_atlas.xlsx',\n",
    "                   sheet_name='Table_A')\n",
    "csm = csm.loc[csm['organism'] == 'Human']\n",
    "degs['cell surface marker'] = ['CSM' if x in csm['ENTREZ gene symbol'].values else np.nan for x in degs['symbol']]\n",
    "degs.to_csv('/home/carsten/alvira_bioinformatics/myometrium/data/supplemental_10_csm.csv')"
   ]
  },
  {
   "cell_type": "code",
   "execution_count": null,
   "id": "54cccdec",
   "metadata": {},
   "outputs": [],
   "source": []
  }
 ],
 "metadata": {
  "kernelspec": {
   "display_name": "Python 3 (ipykernel)",
   "language": "python",
   "name": "python3"
  },
  "language_info": {
   "codemirror_mode": {
    "name": "ipython",
    "version": 3
   },
   "file_extension": ".py",
   "mimetype": "text/x-python",
   "name": "python",
   "nbconvert_exporter": "python",
   "pygments_lexer": "ipython3",
   "version": "3.7.11"
  }
 },
 "nbformat": 4,
 "nbformat_minor": 5
}
