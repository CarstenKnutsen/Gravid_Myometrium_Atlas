{
 "cells": [
  {
   "cell_type": "code",
   "execution_count": null,
   "id": "0af282c0-9047-40c8-87fb-22895f8ca4c6",
   "metadata": {},
   "outputs": [],
   "source": [
    "import scanpy as sc\n",
    "import scanpy.external as sce\n",
    "import scanpy\n",
    "import squidpy as sq\n",
    "import numpy as np\n",
    "import pandas as pd\n",
    "import seaborn as sns\n",
    "import matplotlib.pyplot as plt\n",
    "import anndata\n",
    "from pathlib import Path\n",
    "import os \n",
    "sc.logging.print_header()\n",
    "print(f\"squidpy=={sq.__version__}\")\n",
    "output = '/home/carsten/alvira_bioinformatics/uterus/data/pilot/240724_spatial_test'\n",
    "os.makedirs(output, exist_ok=True)\n",
    "sc.set_figure_params(dpi=300, dpi_save=300,format=\"png\")\n",
    "sc.settings.figdir = output\n"
   ]
  },
  {
   "cell_type": "code",
   "execution_count": null,
   "id": "bebd1b29-70b5-4989-80e8-8514c6260255",
   "metadata": {},
   "outputs": [],
   "source": [
    "adata_sc = sc.read('/home/carsten/alvira_bioinformatics/uterus/data/single_cell_files/scanpy_files/uterus_processed_celltyped.gz.h5ad')"
   ]
  },
  {
   "cell_type": "code",
   "execution_count": null,
   "id": "cca2c750-e253-4728-8a5b-ff2f3c26c031",
   "metadata": {},
   "outputs": [],
   "source": [
    "gene_df = pd.read_csv('/home/carsten/alvira_bioinformatics/uterus/data/pilot/240325_merscope_planning/gene_list_trim.csv',index_col=0)\n",
    "gene_df_ct_markers = gene_df.loc[gene_df['Reason'].str.contains('ct_marker')].index.to_list()"
   ]
  },
  {
   "cell_type": "code",
   "execution_count": null,
   "id": "ca41f961-4539-4952-b228-987c5801083e",
   "metadata": {},
   "outputs": [],
   "source": [
    "ct_marker_dict = {}\n",
    "for ct in adata_sc.obs['Cell Subtype'].cat.categories:\n",
    "    ct_marker_dict[ct] = gene_df.loc[gene_df['Reason'].str.contains(ct)].index.to_list()\n",
    "lin_marker_dict = {}\n",
    "for ct in adata_sc.obs['Lineage'].cat.categories:\n",
    "    lin_marker_dict[ct] = gene_df.loc[gene_df['Reason'].str.contains(ct)].index.to_list()"
   ]
  },
  {
   "cell_type": "code",
   "execution_count": null,
   "id": "aca6da6b-186c-41b0-802f-eb9d05138cd9",
   "metadata": {},
   "outputs": [],
   "source": [
    "sc.pl.DotPlot(adata_sc,['BRD4'], groupby='Cell Subtype').add_totals().style(cmap='Reds').legend(width=2).savefig(f'{output}/dotplot_BRD4.png')"
   ]
  },
  {
   "cell_type": "code",
   "execution_count": null,
   "id": "629a39de-1dbf-467f-9fba-6cb81fb16a4b",
   "metadata": {},
   "outputs": [],
   "source": [
    "sc.pl.DotPlot(adata_sc,['BRD4'], groupby=['Cell Subtype','Group']).add_totals().style(cmap='Reds').legend(width=2).savefig(f'{output}/dotplot_BRD4.png')"
   ]
  },
  {
   "cell_type": "code",
   "execution_count": null,
   "id": "b3792e48-12c3-4e8b-85b0-3e2d2b7d4f9e",
   "metadata": {},
   "outputs": [],
   "source": [
    "adata_spatial=sc.read('/home/carsten/alvira_bioinformatics/uterus/data/vizgen/initial_analysis/all_runs.gz.h5ad')\n"
   ]
  },
  {
   "cell_type": "code",
   "execution_count": null,
   "id": "9c0a8ee6-42a7-4805-a449-2918d030f65d",
   "metadata": {},
   "outputs": [],
   "source": [
    "adata_spatial"
   ]
  },
  {
   "cell_type": "code",
   "execution_count": null,
   "id": "4340bcc7-7c62-4bf2-a8d4-4937653d8a97",
   "metadata": {},
   "outputs": [],
   "source": [
    "sc.pl.umap(adata_spatial,color='Sample',save='sample.png')\n",
    "sc.pl.umap(adata_spatial,color='Cell Subtype_ind',title='Predicted Cell Type',save='celltype.png')"
   ]
  },
  {
   "cell_type": "code",
   "execution_count": null,
   "id": "3b318b78-77d5-4a12-ac12-f4a8556c9791",
   "metadata": {},
   "outputs": [],
   "source": [
    "for sample in adata_spatial.obs['Sample'].cat.categories:\n",
    "    adata_sample = adata_spatial[adata_spatial.obs['Sample']==sample]\n",
    "    sq.pl.spatial_scatter(\n",
    "        adata_sample,\n",
    "        shape=None,\n",
    "        title=sample,\n",
    "        color=[\n",
    "            \"Cell Subtype_ind\",\n",
    "        ],\n",
    "        wspace=0.4,\n",
    "        figsize=(8,8),\n",
    "        save=f'{output}/{sample}/spatial_{sample}.png'\n",
    "    )\n",
    "    sq.pl.spatial_scatter(\n",
    "        adata_sample,\n",
    "        shape=None,\n",
    "        title=sample,\n",
    "        color=[\n",
    "            \"Cell Subtype_ind\",\n",
    "        ],\n",
    "        groups=['Capillary','Macrovascular','Vascular smooth muscle'],\n",
    "        wspace=0.4,\n",
    "        figsize=(8,8),\n",
    "        save=f'{output}/{sample}/spatial_{sample}_vessels.png'\n",
    "    )\n",
    "    sq.pl.spatial_scatter(\n",
    "    adata_sample,\n",
    "    shape=None,\n",
    "    color=[\n",
    "        \"VWF\",\n",
    "    ],\n",
    "    groups=['Capillary','Macrovascular','Vascular smooth muscle'],\n",
    "    wspace=0.4,\n",
    "    figsize=(8,8),\n",
    "    save=f'{output}/{sample}/spatial_{sample}_VWF.png'\n",
    ")\n",
    "    sq.pl.spatial_scatter(\n",
    "        adata_sample,\n",
    "        shape=None,\n",
    "        color=[\n",
    "            \"NOTCH3\",\n",
    "        ],\n",
    "        groups=['Capillary','Macrovascular','Vascular smooth muscle'],\n",
    "        wspace=0.4,\n",
    "        figsize=(8,8),\n",
    "        save=f'{output}/{sample}/spatial_{sample}_NOTCH3.png'\n",
    "    )"
   ]
  },
  {
   "cell_type": "code",
   "execution_count": null,
   "id": "38dd2f59-db78-4651-b79a-3cce9831e29f",
   "metadata": {},
   "outputs": [],
   "source": [
    "sq.gr.spatial_neighbors(adata_spatial)\n",
    "sq.gr.nhood_enrichment(adata_spatial,cluster_key='Cell Subtype_ind')\n",
    "sq.pl.nhood_enrichment(adata_spatial,cluster_key='Cell Subtype_ind',mode='zscore',annotate=True,vmin=0,save =f'{output}/neighborhood.png')\n",
    "\n",
    "# sq.gr.co_occurrence(adata_spatial,cluster_key='Cell Subtype_ind')\n",
    "# sq.pl.co_occurrence(adata_spatial,cluster_key='Cell Subtype_ind')"
   ]
  },
  {
   "cell_type": "code",
   "execution_count": null,
   "id": "99309a67-0fb4-4b41-bce1-38d0d5bc52b8",
   "metadata": {},
   "outputs": [],
   "source": [
    "df = pd.DataFrame(data= adata_spatial.uns['Cell Subtype_ind_nhood_enrichment']['zscore'], index= adata_spatial.obs['Cell Subtype_ind'].cat.categories,columns=adata_spatial.obs['Cell Subtype_ind'].cat.categories)\n",
    "sns.set_style('white')\n",
    "fig = sns.clustermap(df,cmap='vlag',vmin=-50,vmax=50)\n",
    "plt.tight_layout()\n",
    "fig.savefig(f'{output}/neighborhood.png', dpi=300)"
   ]
  },
  {
   "cell_type": "code",
   "execution_count": null,
   "id": "9e34c26a-8466-4116-ab5e-e29f53862116",
   "metadata": {},
   "outputs": [],
   "source": [
    "sq.pl.nhood_enrichment(adata_spatial,cluster_key='Cell Subtype_ind',mode='zscore',annotate=False,method='single',save =f'{output}/neighborhood.png')\n"
   ]
  },
  {
   "cell_type": "code",
   "execution_count": null,
   "id": "cf3a901e-a068-4365-9eae-9efb8f359dd0",
   "metadata": {},
   "outputs": [],
   "source": [
    "sq.pl.nhood_enrichment(adata_spatial,cluster_key='Cell Subtype_ind',mode='zscore',cmap='vlag',annotate=True,)\n"
   ]
  },
  {
   "cell_type": "code",
   "execution_count": null,
   "id": "723bfb39-4fc8-4d50-bc29-0009027e8dbd",
   "metadata": {},
   "outputs": [],
   "source": [
    "gene_df.loc['NOTUM']"
   ]
  },
  {
   "cell_type": "markdown",
   "id": "aa61848a-f3df-4123-8b65-443f85fa9903",
   "metadata": {},
   "source": [
    "### https://squidpy.readthedocs.io/en/stable/notebooks/tutorials/tutorial_vizgen.html"
   ]
  },
  {
   "cell_type": "code",
   "execution_count": null,
   "id": "2c038032-0710-4821-887a-1e7a8c30e092",
   "metadata": {},
   "outputs": [],
   "source": [
    "for sample, dt in sample_dictionary.items():\n",
    "    spatial_data_path = dt['path']\n",
    "    os.makedirs(f'{output}/{sample}', exist_ok=True)\n",
    "    sc.settings.figdir = f'{output}/{sample}'\n",
    "    adata = sq.read.vizgen(path=spatial_data_path,counts_file='cell_by_gene.csv',meta_file='cell_metadata.csv')\n",
    "    sc.pp.calculate_qc_metrics(adata, percent_top=(1,2,5,10,20,50,100,),inplace=True)\n",
    "    adata.uns['unassinged_transcripts']=adata.obsm[\"blank_genes\"].to_numpy().sum() / adata.var[\"total_counts\"].sum() * 100\n",
    "    sc.pp.filter_cells(adata, min_counts=10)\n",
    "    sc.pp.filter_cells(adata,min_genes=2)\n",
    "    sc.pp.filter_genes(adata, min_counts=1)\n",
    "    sc.pl.highest_expr_genes(adata,save=True,show=False)\n",
    "    adata.layers[\"counts\"] = adata.X.copy()\n",
    "    sc.pp.normalize_total(adata, inplace=True)\n",
    "    sc.pp.log1p(adata,base=10)\n",
    "    sc.pp.pca(adata)\n",
    "    sc.pp.neighbors(adata)\n",
    "    sc.tl.umap(adata)\n",
    "    sc.tl.leiden(adata)\n",
    "    sc.pl.umap(adata, color =['leiden'], save='leiden.png',show=False)\n",
    "    sc.tl.rank_genes_groups(adata,groupby='leiden')\n",
    "    sc.pl.rank_genes_groups_dotplot(adata,save='leiden_markers.png',show=False)\n",
    "    sc.pl.umap(adata,color=adata.var.sort_values('total_counts',ascending=False).head(20).index,save='top20_genes_detected.png',show=False)\n",
    "    sc.pl.umap(adata,color=['n_genes_by_counts', 'log1p_n_genes_by_counts', 'total_counts', 'log1p_total_counts', 'pct_counts_in_top_1_genes','pct_counts_in_top_2_genes','pct_counts_in_top_5_genes', 'pct_counts_in_top_10_genes','pct_counts_in_top_50_genes','pct_counts_in_top_50_genes', 'pct_counts_in_top_100_genes'], save='counts_qc.png',show=False)\n",
    "    sc.pl.violin(adata,['pct_counts_in_top_1_genes','pct_counts_in_top_2_genes','pct_counts_in_top_5_genes', 'pct_counts_in_top_10_genes','pct_counts_in_top_50_genes','pct_counts_in_top_50_genes', 'pct_counts_in_top_100_genes'],multi_panel=True, save='counts_qc.png',show=False)\n",
    "\n",
    "    adata.layers[\"log1p\"] = adata.X.copy()\n",
    "    ct_df = pd.DataFrame(index=adata.obs_names, columns=[f'{ct} score' for ct in ct_marker_dict.keys()])\n",
    "    for ct,genes in ct_marker_dict.items():\n",
    "        name = f'{ct} score'\n",
    "        sc.tl.score_genes(adata,genes,score_name=name)\n",
    "        ct_df[name] = adata.obs[name].copy()\n",
    "    adata.obs['Cell Subtype_ind'] = ct_df.idxmax(axis=1)\n",
    "    sc.pl.umap(adata,color='Cell Subtype_ind',save='Cell Subtype_ind.png',show=False)\n",
    "    sc.pl.umap(adata,color=[f'{ct} score' for ct in ct_marker_dict.keys()],save='celltype_marker_score.png',show=False)\n",
    "    for ct,genes in lin_marker_dict.items():\n",
    "        name = f'{ct} score'\n",
    "        sc.tl.score_genes(adata,genes,score_name=name)\n",
    "    sc.pl.umap(adata,color=[f'{ct} score' for ct in lin_marker_dict.keys()],save='lineage_marker_score.png',show=False)\n",
    "    os.makedirs(f'{output}/{sample}/gene_umaps', exist_ok=True)\n",
    "    sc.settings.figdir = f'{output}/{sample}/gene_umaps'\n",
    "    for gene in adata.var_names:\n",
    "        sc.pl.umap(adata,color=gene,save=gene,show=False)\n",
    "    dt['adata'] = adata\n"
   ]
  },
  {
   "cell_type": "code",
   "execution_count": null,
   "id": "4b618dbb-dda7-4d46-bdc6-693b2457f7dc",
   "metadata": {},
   "outputs": [],
   "source": [
    "os.makedirs(f'{output}/combined', exist_ok=True)\n",
    "sc.settings.figdir = f'{output}/combined'\n",
    "adatas=[]\n",
    "for sample, dt in sample_dictionary.items():\n",
    "    spatial_data_path = dt['path']\n",
    "    adata = sq.read.vizgen(path=spatial_data_path,counts_file='cell_by_gene.csv',meta_file='cell_metadata.csv')\n",
    "    adata.obs['Sample'] = sample\n",
    "    adatas.append(adata)\n",
    "adata = anndata.concat(adatas)\n",
    "sc.pp.calculate_qc_metrics(adata, percent_top=(1,2,5,10,20,50,100,),inplace=True)\n",
    "adata.uns['unassinged_transcripts']=adata.obsm[\"blank_genes\"].to_numpy().sum() / adata.var[\"total_counts\"].sum() * 100\n",
    "sc.pp.filter_cells(adata, min_counts=10)\n",
    "sc.pp.filter_cells(adata,min_genes=2)\n",
    "sc.pp.filter_genes(adata, min_counts=1)\n",
    "sc.pl.highest_expr_genes(adata,save=True,show=False)\n",
    "adata.layers[\"counts\"] = adata.X.copy()\n",
    "sc.pp.normalize_total(adata,inplace=True)\n",
    "sc.pp.log1p(adata) #Normalize total leaves it at 18 counts per cell, already a small space\n",
    "sce.pp.magic(adata,knn=10,random_state=7)\n",
    "sc.pp.pca(adata)\n",
    "sc.pl.pca_variance_ratio(adata,save=True)\n",
    "sc.pp.neighbors(adata)\n",
    "sc.tl.umap(adata)\n",
    "sc.tl.leiden(adata,resolution=1)\n",
    "sc.pl.umap(adata, color =['Sample','leiden'], save='leiden.png',show=False)\n",
    "sc.tl.rank_genes_groups(adata,groupby='leiden')\n",
    "sc.pl.rank_genes_groups_dotplot(adata,save='leiden_markers.png',show=False)\n",
    "sc.pl.umap(adata,color=adata.var.sort_values('total_counts',ascending=False).head(20).index,save='top20_genes_detected.png',show=False)\n",
    "sc.pl.umap(adata,color=['n_genes_by_counts', 'log1p_n_genes_by_counts', 'total_counts', 'log1p_total_counts', 'pct_counts_in_top_1_genes','pct_counts_in_top_2_genes','pct_counts_in_top_5_genes', 'pct_counts_in_top_10_genes','pct_counts_in_top_50_genes','pct_counts_in_top_50_genes', 'pct_counts_in_top_100_genes'], save='counts_qc.png',show=False)\n",
    "sc.pl.violin(adata,['pct_counts_in_top_1_genes','pct_counts_in_top_2_genes','pct_counts_in_top_5_genes', 'pct_counts_in_top_10_genes','pct_counts_in_top_50_genes','pct_counts_in_top_50_genes', 'pct_counts_in_top_100_genes'],multi_panel=True, save='pct_counts_qc.png',show=False)\n",
    "sc.pl.violin(adata,['n_genes_by_counts', 'log1p_n_genes_by_counts', 'total_counts', 'log1p_total_counts',],multi_panel=True, save='counts_qc.png',show=False)\n",
    "\n",
    "adata.layers[\"log1p\"] = adata.X.copy()\n",
    "ct_df = pd.DataFrame(index=adata.obs_names, columns=[f'{ct}' for ct in ct_marker_dict.keys()])\n",
    "for ct,genes in ct_marker_dict.items():\n",
    "    name = f'{ct} score'\n",
    "    sc.tl.score_genes(adata,genes,score_name=name)\n",
    "    ct_df[ct] = adata.obs[name].copy()\n",
    "adata.obs['Cell Subtype_ind'] = ct_df.idxmax(axis=1)\n",
    "sc.pl.umap(adata,color='Cell Subtype_ind',save='Cell Subtype_ind.png',show=False)\n",
    "\n",
    "sc.pl.umap(adata,color=[f'{ct} score' for ct in ct_marker_dict.keys()],save='celltype_marker_score.png',show=False)\n",
    "for ct,genes in lin_marker_dict.items():\n",
    "        name = f'{ct} score'\n",
    "        sc.tl.score_genes(adata,genes,score_name=name)\n",
    "sc.pl.umap(adata,color=[f'{ct} score' for ct in lin_marker_dict.keys()],save='lineage_marker_score.png',show=False)\n",
    "os.makedirs(f'{output}/combined/gene_umaps', exist_ok=True)\n",
    "sc.settings.figdir = f'{output}/combined/gene_umaps'\n",
    "for gene in adata.var_names:\n",
    "    sc.pl.umap(adata,color=gene,save=gene,show=False)"
   ]
  },
  {
   "cell_type": "code",
   "execution_count": null,
   "id": "2d745d91-0b3b-43ae-b49a-452ea81ece7c",
   "metadata": {},
   "outputs": [],
   "source": [
    "for ct in ct_marker_dict.keys():\n",
    "    sc.pl.umap(adata,color='Cell Subtype_ind',groups=[ct])\n"
   ]
  },
  {
   "cell_type": "code",
   "execution_count": null,
   "id": "a270e22b-69ce-4a16-9163-5ef9e4808321",
   "metadata": {},
   "outputs": [],
   "source": [
    "adata = sample_dictionary['Sample_01']['adata'].copy()\n",
    "sample_1_leiden_dictionary = {\n",
    "    '0': 'Uterine smooth muscle',\n",
    "    '1':'Uterine smooth muscle',\n",
    "    '2':'Uterine smooth muscle',\n",
    "    '3':'Matrix Fibroblast',\n",
    "    '4':'Vascular smooth muscle',\n",
    "    '5':'Uterine smooth muscle',\n",
    "    '6':'Macrovascular',\n",
    "    '7':'Uterine smooth muscle',\n",
    "    '8':'Myeloid',\n",
    "    '9':'Uterine smooth muscle',\n",
    "    '10':'Uterine smooth muscle',\n",
    "    '11':'Uterine smooth muscle',\n",
    "    '12':'Myeloid',\n",
    "    '13':'Uterine smooth muscle',}\n",
    "adata.obs['Cell Subtype']= [sample_1_leiden_dictionary[x] for x in adata.obs['leiden']]\n",
    "sc.pl.umap(adata, color='Cell Subtype')\n",
    "\n",
    "sc.pl.dotplot(adata,['NOTCH3','ADGRL3','DPP6','KCNMA1','VWF','PDGFRB'], groupby='Cell Subtype')\n",
    "\n",
    "sq.pl.spatial_scatter(\n",
    "    adata,\n",
    "    shape=None,\n",
    "    color=[\n",
    "        \"Cell Subtype\",\n",
    "    ],\n",
    "    groups=['Macrovascular','Vascular smooth muscle'],\n",
    "    wspace=0.4,\n",
    "    figsize=(8,8)\n",
    ")\n",
    "\n",
    "sq.gr.spatial_neighbors(adata)\n",
    "sq.gr.nhood_enrichment(adata,cluster_key='Cell Subtype')\n",
    "sq.pl.nhood_enrichment(adata,cluster_key='Cell Subtype',mode='zscore',annotate=True,)\n",
    "\n",
    "sq.gr.co_occurrence(adata,cluster_key='Cell Subtype')\n",
    "sq.pl.co_occurrence(adata,cluster_key='Cell Subtype')"
   ]
  },
  {
   "cell_type": "code",
   "execution_count": null,
   "id": "3b1f8a86-4765-4565-8446-999c7ab8c649",
   "metadata": {},
   "outputs": [],
   "source": [
    "adata2 = sample_dictionary['Sample_02']['adata'].copy()\n",
    "sample_2_leiden_dictionary = {\n",
    "    '0': 'Uterine smooth muscle',\n",
    "    '1':'Uterine smooth muscle',\n",
    "    '2':'Matrix Fibroblast',\n",
    "    '3':'Matrix Fibroblast',\n",
    "    '4':'Macrovascular',\n",
    "    '5':'Myeloid',\n",
    "    '6':'Uterine smooth muscle',\n",
    "    '7':'Uterine smooth muscle',\n",
    "    '8':'Uterine smooth muscle',\n",
    "    '9':'Lymphatic',\n",
    "    '10':'Endometiral',\n",
    "    '11':'Myeloid_2',\n",
    "    '12':'Uterine smooth muscle',\n",
    "    '13':'Uterine smooth muscle',}\n",
    "adata2.obs['Cell Subtype']= [sample_2_leiden_dictionary[x] for x in adata2.obs['leiden']]\n",
    "sc.pl.umap(adata2, color='Cell Subtype')\n",
    "\n",
    "sc.pl.dotplot(adata2,['NOTCH3','ADGRL3','DPP6','KCNMA1','VWF','PDGFRB'], groupby='Cell Subtype')\n",
    "\n",
    "sq.pl.spatial_scatter(\n",
    "    adata2,\n",
    "    shape=None,\n",
    "    color=[\n",
    "        \"Cell Subtype\",\n",
    "    ],\n",
    "    groups=['Macrovascular','Vascular smooth muscle'],\n",
    "    wspace=0.4,\n",
    "    figsize=(8,8)\n",
    ")\n",
    "\n",
    "sq.gr.spatial_neighbors(adata2)\n",
    "sq.gr.nhood_enrichment(adata2,cluster_key='Cell Subtype')\n",
    "sq.pl.nhood_enrichment(adata2,cluster_key='Cell Subtype',mode='zscore',annotate=True,)\n",
    "\n",
    "sq.gr.co_occurrence(adata2,cluster_key='Cell Subtype')\n",
    "sq.pl.co_occurrence(adata2,cluster_key='Cell Subtype')"
   ]
  },
  {
   "cell_type": "code",
   "execution_count": null,
   "id": "41ce1f51-9955-420f-8ff6-b11ad6a9d73e",
   "metadata": {},
   "outputs": [],
   "source": []
  },
  {
   "cell_type": "code",
   "execution_count": null,
   "id": "adbdf2ec-7dee-4ea3-abb2-68342a11a5a8",
   "metadata": {},
   "outputs": [],
   "source": [
    "sns.histplot(adata.var['log1p_total_counts'])"
   ]
  },
  {
   "cell_type": "code",
   "execution_count": null,
   "id": "f35d6273-69b2-4a60-8771-2eaddd860057",
   "metadata": {},
   "outputs": [],
   "source": [
    "pd.set_option('display.max_rows', 500)\n",
    "\n",
    "adata.obs.groupby('leiden')['Cell Subtype_ind'].value_counts(normalize=True)\n"
   ]
  },
  {
   "cell_type": "code",
   "execution_count": null,
   "id": "476ac8ff-3ced-4525-8772-dfce1657323a",
   "metadata": {},
   "outputs": [],
   "source": [
    "sq.pl.spatial_scatter(\n",
    "    adata[adata.obs['Sample']=='Sample_02'],\n",
    "    shape=None,\n",
    "    color=[\n",
    "        \"leiden\",\n",
    "    ],\n",
    "    groups=['7','8'],\n",
    "    wspace=0.4,\n",
    "    figsize=(8,8)\n",
    ")"
   ]
  },
  {
   "cell_type": "code",
   "execution_count": null,
   "id": "326e30ed-86bf-4e20-ab64-b2c10d00a241",
   "metadata": {},
   "outputs": [],
   "source": [
    "sc.pl.pca(adata, color='leiden')"
   ]
  },
  {
   "cell_type": "code",
   "execution_count": null,
   "id": "329e8e22-8ee1-4f33-82ad-8d784cdf9f27",
   "metadata": {},
   "outputs": [],
   "source": [
    "adata.obs['total_counts'].median()"
   ]
  },
  {
   "cell_type": "code",
   "execution_count": null,
   "id": "a2024096-ff17-43c4-95f5-174c09b0b1a3",
   "metadata": {},
   "outputs": [],
   "source": [
    "adata.X[adata.X!=0]= 1\n",
    "adata = adata[:,[x for x in adata.var_names if x not in adata.var.sort_values('total_counts',ascending=False).head(5).index.tolist()]]\n",
    "ct_df = pd.DataFrame(index=adata.obs_names, columns=[f'{ct}' for ct in ct_marker_dict.keys()])\n",
    "for ct,genes in ct_marker_dict.items():\n",
    "    name = f'{ct} markers expressed'\n",
    "    adata.obs[name] = adata[:,[x for x in genes if x in adata.var_names]].X.todense().sum(axis=1)\n",
    "    ct_df[ct] = adata.obs[name].copy()\n",
    "adata.obs['Cell Subtype_ind'] = ct_df.idxmax(axis=1)\n",
    "sc.pl.umap(adata,color='Cell Subtype_ind')"
   ]
  },
  {
   "cell_type": "code",
   "execution_count": null,
   "id": "e0e9f75d-ac11-433c-a165-c9c44d8c66ad",
   "metadata": {},
   "outputs": [],
   "source": [
    "sample_1_leiden_dictionary = {\n",
    "    '0': 'Uterine smooth muscle',\n",
    "    '1':'Uterine smooth muscle',\n",
    "    '2':'Uterine smooth muscle',\n",
    "    '3':'Matrix Fibroblast',\n",
    "    '4':'Vascular smooth muscle',\n",
    "    '5':'Uterine smooth muscle',\n",
    "    '6':'Macrovascular',\n",
    "    '7':'Uterine smooth muscle',\n",
    "    '8':'Myeloid',\n",
    "    '9':'Uterine smooth muscle',\n",
    "    '10':'Uterine smooth muscle',\n",
    "    '11':'Uterine smooth muscle',\n",
    "    '12':'Myeloid',\n",
    "    '13':'Uterine smooth muscle',}\n",
    "adata.obs['Cell Subtype']= [sample_1_leiden_dictionary[x] for x in adata.obs['leiden']]\n",
    "sc.pl.umap(adata, color='Cell Subtype')"
   ]
  },
  {
   "cell_type": "code",
   "execution_count": null,
   "id": "b8a478b7-681c-4703-b509-d95675dc6920",
   "metadata": {},
   "outputs": [],
   "source": [
    "ser_counts = adata.obs[\"leiden\"].value_counts()\n",
    "ser_counts.name = \"cell counts\"\n",
    "meta_leiden = pd.DataFrame(ser_counts)\n",
    "\n",
    "cat_name = \"leiden\"\n",
    "sig_leiden = pd.DataFrame(\n",
    "    columns=adata.var_names, index=adata.obs[cat_name].cat.categories\n",
    ")\n",
    "for clust in adata.obs[cat_name].cat.categories:\n",
    "    sig_leiden.loc[clust] = adata[adata.obs[cat_name].isin([clust]), :].X.mean(0)\n",
    "sig_leiden = sig_leiden.transpose()\n",
    "leiden_clusters = [\"Leiden-\" + str(x) for x in sig_leiden.columns.tolist()]\n",
    "sig_leiden.columns = leiden_clusters\n",
    "meta_leiden.index = sig_leiden.columns.tolist()\n",
    "meta_leiden[\"leiden\"] = pd.Series(\n",
    "    meta_leiden.index.tolist(), index=meta_leiden.index.tolist()\n",
    ")"
   ]
  },
  {
   "cell_type": "code",
   "execution_count": null,
   "id": "679bd4cb-3a9e-4273-b2aa-9e63c778130a",
   "metadata": {},
   "outputs": [],
   "source": [
    "meta_leiden"
   ]
  },
  {
   "cell_type": "code",
   "execution_count": null,
   "id": "8a3dc90e-c8c6-4658-a677-048662d9009c",
   "metadata": {},
   "outputs": [],
   "source": [
    "adata.var_names"
   ]
  },
  {
   "cell_type": "code",
   "execution_count": null,
   "id": "f0170a31-6033-499e-b716-958beee13a97",
   "metadata": {},
   "outputs": [],
   "source": [
    "common_marker_genes = gene_df.loc[gene_df['Reason'].str.contains('ct_marker')]\n",
    "common_marker_genes = common_marker_genes.loc[~common_marker_genes['Reason'].str.contains(',')]\n",
    "common_marker_genes['Reason'] = common_marker_genes['Reason'].str.split(':').str[1]\n",
    "common_marker_genes['Reason'] = [x[:-2] for x in common_marker_genes['Reason']]\n",
    "common_marker_genes['Function'] = common_marker_genes['Reason']\n",
    "common_marker_genes = common_marker_genes.loc[[x for x in common_marker_genes.index if x in adata.var_names.tolist()]]\n",
    "common_marker_genes"
   ]
  },
  {
   "cell_type": "code",
   "execution_count": null,
   "id": "f17d2370-97d1-4824-a052-3e7d44614aaf",
   "metadata": {},
   "outputs": [],
   "source": [
    "meta_gene = pd.DataFrame(index=sig_leiden.index.tolist())\n",
    "meta_gene[\"info\"] = pd.Series(\"\", index=meta_gene.index.tolist())\n",
    "meta_gene[\"Markers\"] = pd.Series(\"N.A.\", index=sig_leiden.index.tolist())\n",
    "meta_gene.loc[common_marker_genes.index, \"Markers\"] = common_marker_genes['Function']\n",
    "meta_leiden[\"Cell_Type\"] = pd.Series(\"N.A.\", index=meta_leiden.index.tolist())\n",
    "num_top_genes = 30\n",
    "for inst_cluster in sig_leiden.columns.tolist():\n",
    "    top_genes = (\n",
    "        sig_leiden[inst_cluster]\n",
    "        .sort_values(ascending=False)\n",
    "        .index.tolist()[:num_top_genes]\n",
    "    )\n",
    "\n",
    "    inst_ser = meta_gene.loc[top_genes, \"Markers\"]\n",
    "    inst_ser = inst_ser[inst_ser != \"N.A.\"]\n",
    "    ser_counts = inst_ser.value_counts()\n",
    "\n",
    "    max_count = ser_counts.max()\n",
    "\n",
    "    max_cat = \"_\".join(sorted(ser_counts[ser_counts == max_count].index.tolist()))\n",
    "    max_cat = max_cat.replace(\" marker\", \"\").replace(\" \", \"-\")\n",
    "\n",
    "    print(inst_cluster, max_cat)\n",
    "    meta_leiden.loc[inst_cluster, \"Cell_Type\"] = max_cat\n",
    "\n",
    "# rename clusters\n",
    "meta_leiden[\"name\"] = meta_leiden.apply(\n",
    "    lambda x: str(x[\"Cell_Type\"]) + \"_\" + str(x[\"leiden\"]), axis=1\n",
    ")\n",
    "leiden_names = meta_leiden[\"name\"].values.tolist()\n",
    "meta_leiden.index = leiden_names\n",
    "\n",
    "\n",
    "# transfer cell type labels to single cells\n",
    "leiden_to_cell_type = meta_leiden.copy()\n",
    "leiden_to_cell_type.set_index(\"leiden\", inplace=True)\n",
    "leiden_to_cell_type.index.name = None\n",
    "\n",
    "adata.obs[\"Cell_Type\"] = adata.obs[\"leiden\"].apply(\n",
    "    lambda x: leiden_to_cell_type.loc[\"Leiden-\" + str(x), \"Cell_Type\"]\n",
    ")\n",
    "adata.obs[\"Cluster\"] = adata.obs[\"leiden\"].apply(\n",
    "    lambda x: leiden_to_cell_type.loc[\"Leiden-\" + str(x), \"name\"]\n",
    ")"
   ]
  },
  {
   "cell_type": "code",
   "execution_count": null,
   "id": "b1fd36ad-6df1-41f3-a97d-61db6cf0ac21",
   "metadata": {},
   "outputs": [],
   "source": [
    "meta_gene['Markers'].unique()"
   ]
  },
  {
   "cell_type": "code",
   "execution_count": null,
   "id": "1b920c85-de6b-446c-ae8f-133df143a0f2",
   "metadata": {},
   "outputs": [],
   "source": [
    "sc.pl.umap(adata,color='Cell_Type')"
   ]
  },
  {
   "cell_type": "code",
   "execution_count": null,
   "id": "a113aede-770d-41f8-93c9-e8e92e86689e",
   "metadata": {},
   "outputs": [],
   "source": [
    "sq.gr.interaction_matrix(adata,cluster_key='Cell Subtype',normalized=True)\n",
    "sq.pl.interaction_matrix(adata,cluster_key='Cell Subtype')"
   ]
  },
  {
   "cell_type": "code",
   "execution_count": null,
   "id": "d97186dd-0616-47f6-9bee-36a9d27b918b",
   "metadata": {},
   "outputs": [],
   "source": [
    "markers_expressed_table = adata.obs[[f'{ct} markers expressed' for ct in ct_marker_dict.keys()]]\n",
    "markers_expressed_table\n",
    "adata.obs['ct_marker_max'] = markers_expressed_table.idxmax(axis=1)\n",
    "sc.pl.umap(adata, color ='ct_marker_max')"
   ]
  },
  {
   "cell_type": "code",
   "execution_count": null,
   "id": "b6c5077f-a004-4e36-bc3e-9a5d9c41dfc3",
   "metadata": {},
   "outputs": [],
   "source": [
    "markers_expressed_table.idxmax(axis=1)"
   ]
  },
  {
   "cell_type": "code",
   "execution_count": null,
   "id": "246534f9-de74-4c8b-977f-809ca21493cf",
   "metadata": {},
   "outputs": [],
   "source": [
    "sq.pl.spatial_scatter(\n",
    "    adata[adata.obs['Sample']=='Sample_01'],\n",
    "    shape=None,\n",
    "    color=[\n",
    "        \"leiden\",\n",
    "    ],\n",
    "    # groups=['Macrovascular','Vascular smooth muscle'],\n",
    "    wspace=0.4,\n",
    "    figsize=(8,8)\n",
    ")"
   ]
  },
  {
   "cell_type": "code",
   "execution_count": null,
   "id": "2e0c6e2b-f134-4fd2-9df0-eb21cdceb88a",
   "metadata": {},
   "outputs": [],
   "source": [
    "sq.pl.spatial_scatter(\n",
    "    adata,\n",
    "    shape=None,\n",
    "    color=[\n",
    "        \"ADGRL3\",\n",
    "    ],\n",
    "    # groups=['Macrovascular','Vascular smooth muscle'],\n",
    "    wspace=0.4,\n",
    "    figsize=(8,8)\n",
    ")"
   ]
  },
  {
   "cell_type": "code",
   "execution_count": null,
   "id": "98b1bb61-1117-409e-9940-b09ebca5e9c6",
   "metadata": {},
   "outputs": [],
   "source": [
    "sq.pl.spatial_scatter(\n",
    "    adata2,\n",
    "    shape='hex',\n",
    "    color=[\n",
    "        \"Cell Subtype\",\n",
    "    ],\n",
    "    # groups=['Macrovascular','Vascular smooth muscle'],\n",
    "    wspace=0.4,\n",
    "    figsize=(8,8)\n",
    ")\n"
   ]
  },
  {
   "cell_type": "code",
   "execution_count": null,
   "id": "70e51986-83cf-4b62-983b-fba02eae13a2",
   "metadata": {},
   "outputs": [],
   "source": [
    "sq.pl.spatial_scatter(\n",
    "    adata2,\n",
    "    shape=None,\n",
    "    color=[\n",
    "        \"Cell Subtype\",\n",
    "    ],\n",
    "    # groups=['Macrovascular','Vascular smooth muscle'],\n",
    "    wspace=0.4,\n",
    "    figsize=(8,8)\n",
    ")"
   ]
  },
  {
   "cell_type": "code",
   "execution_count": null,
   "id": "cdc7b304-bb85-4438-9edc-f548484558e8",
   "metadata": {},
   "outputs": [],
   "source": [
    "sq.pl.spatial_scatter(\n",
    "    adata,\n",
    "    shape=None,\n",
    "    color=[\n",
    "        \"DPP6\",\n",
    "    ],\n",
    "    # groups=['Macrovascular','Vascular smooth muscle'],\n",
    "    wspace=0.4,\n",
    "    figsize=(8,8)\n",
    ")"
   ]
  },
  {
   "cell_type": "code",
   "execution_count": null,
   "id": "cedfca59-5e38-4c6f-a589-7e5ac5861f5e",
   "metadata": {},
   "outputs": [],
   "source": [
    "sc.pl.embedding(adata,basis='spatial',color='Cell Subtype')"
   ]
  },
  {
   "cell_type": "code",
   "execution_count": null,
   "id": "df4595b1-3cdb-43c9-994b-9f13311c2d98",
   "metadata": {},
   "outputs": [],
   "source": [
    "adata.X[adata.X!=0]= 1\n",
    "for ct,genes in ct_marker_dict.items():\n",
    "    name = f'{ct} markers expressed'\n",
    "    adata.obs[name] = adata[:,[x for x in genes if x in adata.var_names]].X.todense().sum(axis=1)\n",
    "    sc.pl.umap(adata,color=name)\n"
   ]
  },
  {
   "cell_type": "code",
   "execution_count": null,
   "id": "d69eb01e-5a0b-4ab8-95c1-eb647879b2a7",
   "metadata": {},
   "outputs": [],
   "source": [
    "sq.pl.spatial_scatter(\n",
    "    adata, shape=None, color=\"DPP6\", size=1\n",
    ")"
   ]
  },
  {
   "cell_type": "code",
   "execution_count": null,
   "id": "6342af2c-280a-4913-9a76-1a925f18f0f3",
   "metadata": {},
   "outputs": [],
   "source": []
  },
  {
   "cell_type": "code",
   "execution_count": null,
   "id": "e27bbacb-d58e-4469-8bf3-1b411e4e6983",
   "metadata": {},
   "outputs": [],
   "source": [
    "sq.pl.spatial_scatter(\n",
    "    adata, shape=None, color=\"NOTCH3\", size=1\n",
    ")"
   ]
  },
  {
   "cell_type": "markdown",
   "id": "0579f0f4-81e1-4b2a-8c0e-73b0754ddc52",
   "metadata": {},
   "source": [
    "### Spatial stuff"
   ]
  },
  {
   "cell_type": "code",
   "execution_count": null,
   "id": "f90bed6e-7587-4573-b2c7-caf5ccfa5476",
   "metadata": {},
   "outputs": [],
   "source": [
    "sq.gr.spatial_neighbors(adata, coord_type=\"generic\", delaunay=True)\n"
   ]
  },
  {
   "cell_type": "code",
   "execution_count": null,
   "id": "a6c8b2f4-94cd-440f-b8e1-76f0cdb91b1e",
   "metadata": {},
   "outputs": [],
   "source": [
    "sq.gr.centrality_scores(adata, cluster_key=\"leiden\")\n"
   ]
  },
  {
   "cell_type": "code",
   "execution_count": null,
   "id": "20d9f08a-ae67-4651-b5ef-2a2ec8be0d38",
   "metadata": {},
   "outputs": [],
   "source": [
    "sq.pl.centrality_scores(adata, cluster_key=\"leiden\", figsize=(16, 5))\n"
   ]
  },
  {
   "cell_type": "code",
   "execution_count": null,
   "id": "d7cff01b-7363-4ff6-a566-88b64925e3af",
   "metadata": {},
   "outputs": [],
   "source": [
    "sq.gr.co_occurrence(adata, cluster_key=\"leiden\")\n"
   ]
  },
  {
   "cell_type": "code",
   "execution_count": null,
   "id": "a9ddd564-4e2e-4ffb-a256-6d18a8675fb6",
   "metadata": {},
   "outputs": [],
   "source": [
    "sq.pl.co_occurrence(adata,cluster_key='leiden')"
   ]
  }
 ],
 "metadata": {
  "kernelspec": {
   "display_name": "Python 3 (ipykernel)",
   "language": "python",
   "name": "python3"
  },
  "language_info": {
   "codemirror_mode": {
    "name": "ipython",
    "version": 3
   },
   "file_extension": ".py",
   "mimetype": "text/x-python",
   "name": "python",
   "nbconvert_exporter": "python",
   "pygments_lexer": "ipython3",
   "version": "3.9.19"
  }
 },
 "nbformat": 4,
 "nbformat_minor": 5
}
