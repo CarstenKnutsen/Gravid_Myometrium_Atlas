{
 "cells": [
  {
   "cell_type": "code",
   "execution_count": null,
   "id": "0af282c0-9047-40c8-87fb-22895f8ca4c6",
   "metadata": {},
   "outputs": [],
   "source": [
    "import scanpy as sc\n",
    "import scanpy.external as sce\n",
    "import scanpy\n",
    "import squidpy as sq\n",
    "import numpy as np\n",
    "import pandas as pd\n",
    "import seaborn as sns\n",
    "import matplotlib.pyplot as plt\n",
    "import anndata\n",
    "from pathlib import Path\n",
    "import os \n",
    "sc.logging.print_header()\n",
    "print(f\"squidpy=={sq.__version__}\")\n",
    "sc.set_figure_params(dpi=300,dpi_save=300, format=\"svg\",fontsize=10)\n",
    "sns.set_style('white', rc={\n",
    "    'xtick.bottom': True,\n",
    "    'ytick.left': True,\n",
    "})\n",
    "plt.rcParams[\"font.family\"] = \"Arial\"\n",
    "output_fol = '/home/carsten/alvira_bioinformatics/uterus/data/pilot/240925_atlas_figure_pilot'\n"
   ]
  },
  {
   "cell_type": "code",
   "execution_count": null,
   "id": "bebd1b29-70b5-4989-80e8-8514c6260255",
   "metadata": {},
   "outputs": [],
   "source": [
    "adata_sc = sc.read('/home/carsten/alvira_bioinformatics/uterus/data/single_cell_files/scanpy_files/uterus_processed_celltyped.gz.h5ad')\n",
    "ct_order=['Ciliated', 'Epithelial', 'Glandular', 'Lumenal',\n",
    "         'Capillary','Lymphatic EC', 'Macrovascular',\n",
    "          'Basophil', 'Dendritic', 'Myeloid','Proliferative myeloid','NK cell',  'T cell',\n",
    "          'Matrix fibroblast','Vessel fibroblast','Trophoblast','Uterine smooth muscle', 'Vascular smooth muscle',\n",
    "         ]\n",
    "adata_sc.obs['Cell Subtype'] = pd.Categorical(adata_sc.obs['Cell Subtype'], categories=ct_order)"
   ]
  },
  {
   "cell_type": "code",
   "execution_count": null,
   "id": "cca2c750-e253-4728-8a5b-ff2f3c26c031",
   "metadata": {},
   "outputs": [],
   "source": [
    "gene_df = pd.read_csv('/home/carsten/alvira_bioinformatics/uterus/data/pilot/240325_merscope_planning/gene_list_trim.csv',index_col=0)\n",
    "gene_df_ct_markers = gene_df.loc[gene_df['Reason'].str.contains('ct_marker')].index.to_list()"
   ]
  },
  {
   "cell_type": "code",
   "execution_count": null,
   "id": "ca41f961-4539-4952-b228-987c5801083e",
   "metadata": {},
   "outputs": [],
   "source": [
    "ct_marker_dict = {}\n",
    "for ct in adata_sc.obs['Cell Subtype'].cat.categories:\n",
    "    ct_marker_dict[ct] = gene_df.loc[gene_df['Reason'].str.contains(ct)].index.to_list()\n",
    "lin_marker_dict = {}\n",
    "for ct in adata_sc.obs['Lineage'].cat.categories:\n",
    "    lin_marker_dict[ct] = gene_df.loc[gene_df['Reason'].str.contains(ct)].index.to_list()"
   ]
  },
  {
   "cell_type": "code",
   "execution_count": null,
   "id": "099dbbd9-b094-42c7-a6c7-b89a4e7554c5",
   "metadata": {},
   "outputs": [],
   "source": [
    "adata_sc.obs['Cell Subtype'].cat.categories"
   ]
  },
  {
   "cell_type": "code",
   "execution_count": null,
   "id": "a65d686d-6c3c-47b3-aa53-6f6b2293ee2d",
   "metadata": {},
   "outputs": [],
   "source": [
    "adata_sc.uns['Lineage_colors']"
   ]
  },
  {
   "cell_type": "code",
   "execution_count": null,
   "id": "b3792e48-12c3-4e8b-85b0-3e2d2b7d4f9e",
   "metadata": {},
   "outputs": [],
   "source": [
    "adata_spatial=sc.read('/home/carsten/alvira_bioinformatics/uterus/data/vizgen/initial_analysis/all_runs.gz.h5ad')\n",
    "ct_order=['Ciliated', 'Epithelial', 'Glandular', 'Lumenal',\n",
    "         'Capillary','Lymphatic EC', 'Macrovascular',\n",
    "          'Basophil', 'Dendritic', 'Myeloid','NK cell',  'T cell',\n",
    "          'Matrix fibroblast','Vessel fibroblast','Trophoblast','Uterine smooth muscle', 'Vascular smooth muscle',\n",
    "         ]\n",
    "adata_spatial.obs['Cell Subtype_ind'] = pd.Categorical(adata_spatial.obs['Cell Subtype_ind'], categories=ct_order)\n",
    "adata_spatial.uns['Cell Subtype_ind_colors'] = adata_sc.uns['Cell Subtype_colors'].tolist()[:10] + adata_sc.uns['Cell Subtype_colors'].tolist()[11:]\n",
    "adata_spatial.obs['Sample'] = pd.Categorical(adata_spatial.obs['Sample'].str.replace('_',' '))"
   ]
  },
  {
   "cell_type": "code",
   "execution_count": null,
   "id": "94704bb6-12f9-4b07-9f25-efa971b50010",
   "metadata": {},
   "outputs": [],
   "source": [
    "order = ['Endometrial','Capillary', 'Lymphatic EC', 'Macrovascular',  'Lymphoid',\n",
    "        'Myeloid', 'Fibroblast','Trophoblast', 'Uterine smooth muscle',\n",
    "       'Vascular smooth muscle']\n",
    "adata_spatial.obs['Cell Identity'] = pd.Categorical(adata_spatial.obs['Cell Identity'],categories=order)\n",
    "adata_spatial.uns['Cell Identity_colors'] = np.array(['#1f77b4','#aa40fc','#8c564b','#e377c2','#98df8a','#aec7e8','#c5b0d5', '#f7b6d2','#dbdb8d','#9edae5'])"
   ]
  },
  {
   "cell_type": "code",
   "execution_count": null,
   "id": "9d6cc760-3eeb-4d5c-9f59-bee5cd580568",
   "metadata": {},
   "outputs": [],
   "source": [
    "adata_spatial"
   ]
  },
  {
   "cell_type": "code",
   "execution_count": null,
   "id": "f5cd9ac2-ee09-48ed-ab9b-2ee5db28f7d8",
   "metadata": {},
   "outputs": [],
   "source": [
    "for sample in adata_spatial.obs['Sample'].cat.categories:\n",
    "    spatial_sample = adata_spatial[adata_spatial.obs['Sample']==sample]\n",
    "    spatial_sample.write(f'/media/carsten/hdd/sequencing/uterus_spatial/{sample}.h5ad')"
   ]
  },
  {
   "cell_type": "code",
   "execution_count": null,
   "id": "4ca93a00-3712-471c-94e8-24d684d2871b",
   "metadata": {},
   "outputs": [],
   "source": [
    "### FIGURE 3 \n",
    "output = f'{output_fol}/figure3'\n",
    "os.makedirs(output, exist_ok=True)\n",
    "sc.settings.figdir = output\n"
   ]
  },
  {
   "cell_type": "code",
   "execution_count": null,
   "id": "14dd7683-821c-45ba-ab27-22c493416cd7",
   "metadata": {},
   "outputs": [],
   "source": [
    "np.random.seed(0)\n",
    "random_indices = np.random.permutation(list(range(adata_spatial.shape[0])))\n",
    "with plt.rc_context({\"figure.figsize\": (1.5, 1.5), \"figure.dpi\": (300)}):\n",
    "    for color in ['leiden','Cell Subtype_ind','Cell Identity','Sample']:\n",
    "        sc.pl.umap(adata_spatial[random_indices,:], color=color,frameon=False,show=False,save=f'{color}.svg')\n"
   ]
  },
  {
   "cell_type": "code",
   "execution_count": null,
   "id": "6f4ec056-0065-40f9-8b76-a5ab18fd4b9e",
   "metadata": {},
   "outputs": [],
   "source": [
    "celltype_color_dict = {}\n",
    "for x, y in zip(adata_spatial.obs['Cell Identity'].cat.categories, adata_spatial.uns['Cell Identity_colors']):\n",
    "    celltype_color_dict[x]=y\n",
    "for sample in adata_spatial.obs['Sample'].cat.categories:\n",
    "    spatial_sample = adata_spatial[adata_spatial.obs['Sample']==sample]\n",
    "    \n",
    "    # Calculate value counts\n",
    "    value_counts = spatial_sample.obs['Cell Identity'].value_counts()\n",
    "    \n",
    "    # Create pie chart\n",
    "    fig, ax = plt.subplots(1,1, figsize=(4,4))\n",
    "    ax = value_counts.plot.pie(y=False,\n",
    "                               colors=[celltype_color_dict[x] for x in value_counts.index],\n",
    "                               labeldistance=None,\n",
    "    #                            explode=[0.01 for x in value_counts.index],\n",
    "                               ax=ax\n",
    "                              )\n",
    "    labels=[f'{x} ({value_counts[x]})' for x in value_counts.index]\n",
    "    f = lambda m,c: plt.plot([],[],marker=m, color=c, ls=\"none\")[0]\n",
    "    handles = [f(\"o\", celltype_color_dict[x]) for x in value_counts.index]\n",
    "    plt.legend(handles,labels,title='', ncol=2, frameon=False,fancybox=False, shadow=False, bbox_to_anchor=(1.0, 0.78))\n",
    "    ax.set_title(f'{sample} distibution')\n",
    "    ax.set_ylabel('')\n",
    "    fig.savefig(f'{output}/pieplot_celltype_number_{sample}.svg',dpi=300,bbox_inches='tight')\n",
    "    \n"
   ]
  },
  {
   "cell_type": "code",
   "execution_count": null,
   "id": "486d1ef0-5b2e-4e68-8d6b-985285b1d46a",
   "metadata": {},
   "outputs": [],
   "source": [
    "genes = ['NOTCH3','VWF']\n",
    "df = sc.get.obs_df(adata_spatial,genes,layer='counts')\n",
    "for gene in genes:\n",
    "    adata_spatial.obs[f'{gene} expressed'] = df[gene] > 0"
   ]
  },
  {
   "cell_type": "code",
   "execution_count": null,
   "id": "3b318b78-77d5-4a12-ac12-f4a8556c9791",
   "metadata": {},
   "outputs": [],
   "source": [
    "for sample in adata_spatial.obs['Sample'].cat.categories:\n",
    "    adata_sample = adata_spatial[adata_spatial.obs['Sample']==sample]\n",
    "    sq.pl.spatial_scatter(\n",
    "        adata_sample,\n",
    "        shape=None,\n",
    "        title=sample,\n",
    "        color=[\n",
    "            \"Cell Identity\",\n",
    "        ],\n",
    "        frameon=False,\n",
    "        wspace=0.4,\n",
    "        figsize=(7,7),\n",
    "        save=f'{output}/spatial_{sample}.png'\n",
    "    )\n",
    "    plt.close()\n",
    "    sq.pl.spatial_scatter(\n",
    "        adata_sample,\n",
    "        shape=None,\n",
    "        title=sample,\n",
    "        color=[\n",
    "            \"Cell Identity\",\n",
    "        ],\n",
    "        frameon=False,\n",
    "        groups=['Capillary','Macrovascular','Vascular smooth muscle'],\n",
    "        wspace=0.4,\n",
    "        figsize=(7,7),\n",
    "        save=f'{output}/spatial_{sample}_vessels.png'\n",
    "    )\n",
    "    plt.close()\n",
    "    sq.pl.spatial_scatter(\n",
    "    adata_sample,\n",
    "    shape=None,\n",
    "    color=[\n",
    "        \"VWF\",\n",
    "    ],\n",
    "        cmap='viridis',\n",
    "        frameon=False,\n",
    "    groups=['Capillary','Macrovascular','Vascular smooth muscle'],\n",
    "    wspace=0.4,\n",
    "        alpha=0.5,\n",
    "    figsize=(7,7),\n",
    "    save=f'{output}/spatial_{sample}_VWF.png'\n",
    ")\n",
    "    plt.close()\n",
    "    sq.pl.spatial_scatter(\n",
    "        adata_sample,\n",
    "        shape=None,\n",
    "        color=[\n",
    "            \"NOTCH3\",\n",
    "        ],\n",
    "        cmap='viridis',\n",
    "        alpha=0.5,\n",
    "        frameon=False,\n",
    "        wspace=0.4,\n",
    "        figsize=(7,7),\n",
    "        vmax=1,\n",
    "        save=f'{output}/spatial_{sample}_NOTCH3.png'\n",
    "    )\n",
    "    plt.close()\n"
   ]
  },
  {
   "cell_type": "code",
   "execution_count": null,
   "id": "6d3d4069-1402-4203-b2ef-0672623d60bd",
   "metadata": {},
   "outputs": [],
   "source": [
    "### FIGURE 4\n",
    "output = f'{output_fol}/figure4'\n",
    "os.makedirs(output, exist_ok=True)\n",
    "sc.settings.figdir = output"
   ]
  },
  {
   "cell_type": "code",
   "execution_count": null,
   "id": "fa3eede0-c408-4c88-bd9d-41e91c2356fa",
   "metadata": {},
   "outputs": [],
   "source": [
    "\n",
    "sc.pl.umap(adata_spatial,color=['DPP6','LINGO2','OXTR','KCNMA1'], cmap='viridis',frameon=False,save='uterine_smooth_muscle_markers_spatial.svg')\n",
    "sc.pl.umap(adata_spatial,color=['NOTCH3','ADGRL3','PDE3A','FHL5'], cmap='viridis',frameon=False,save='vascular_smooth_muscle_markers_spatial.svg')"
   ]
  },
  {
   "cell_type": "code",
   "execution_count": null,
   "id": "18cf6a27-02bb-48a6-a888-e3f60d73134f",
   "metadata": {},
   "outputs": [],
   "source": []
  }
 ],
 "metadata": {
  "kernelspec": {
   "display_name": "Python 3 (ipykernel)",
   "language": "python",
   "name": "python3"
  },
  "language_info": {
   "codemirror_mode": {
    "name": "ipython",
    "version": 3
   },
   "file_extension": ".py",
   "mimetype": "text/x-python",
   "name": "python",
   "nbconvert_exporter": "python",
   "pygments_lexer": "ipython3",
   "version": "3.9.19"
  }
 },
 "nbformat": 4,
 "nbformat_minor": 5
}
